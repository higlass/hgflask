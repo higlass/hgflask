{
 "cells": [
  {
   "cell_type": "code",
   "execution_count": 1,
   "metadata": {
    "ExecuteTime": {
     "end_time": "2018-01-31T01:39:45.078326Z",
     "start_time": "2018-01-31T01:39:45.068859Z"
    },
    "collapsed": true
   },
   "outputs": [],
   "source": [
    "import sys"
   ]
  },
  {
   "cell_type": "code",
   "execution_count": 2,
   "metadata": {
    "ExecuteTime": {
     "end_time": "2018-01-31T01:39:46.081854Z",
     "start_time": "2018-01-31T01:39:45.268645Z"
    },
    "collapsed": true
   },
   "outputs": [],
   "source": [
    "%matplotlib inline"
   ]
  },
  {
   "cell_type": "code",
   "execution_count": 9,
   "metadata": {
    "ExecuteTime": {
     "end_time": "2018-01-31T01:39:46.861873Z",
     "start_time": "2018-01-31T01:39:46.741263Z"
    }
   },
   "outputs": [],
   "source": [
    "from hgflask import app\n",
    "import hgflask\n",
    "from flask import jsonify, request"
   ]
  },
  {
   "cell_type": "code",
   "execution_count": 13,
   "metadata": {
    "ExecuteTime": {
     "end_time": "2018-01-31T01:39:46.986970Z",
     "start_time": "2018-01-31T01:39:46.864496Z"
    },
    "hide_input": false
   },
   "outputs": [],
   "source": [
    "import hgtiles.bigwig as hgbi\n",
    "import hgtiles.cooler as hgco"
   ]
  },
  {
   "cell_type": "markdown",
   "metadata": {},
   "source": [
    "### HiGlass Server"
   ]
  },
  {
   "cell_type": "code",
   "execution_count": 7,
   "metadata": {
    "ExecuteTime": {
     "end_time": "2018-01-31T01:39:49.599698Z",
     "start_time": "2018-01-31T01:39:49.497576Z"
    },
    "collapsed": true
   },
   "outputs": [],
   "source": [
    "@app.route('/api/v1/tileset_info/', methods=['GET'])\n",
    "def tileset_info():\n",
    "    uuids = request.args.getlist(\"d\")\n",
    "\n",
    "    info = {}\n",
    "    for uuid in uuids:\n",
    "        ts = next((ts for ts in hgflask.TILESETS if ts['uuid'] == uuid), None)\n",
    "        \n",
    "        if ts is not None:\n",
    "            info[uuid] = ts.copy()\n",
    "            if info[uuid]['filetype'] == 'bigwig':\n",
    "                info[uuid].update(bigwig_tsinfo(ts['url']))                \n",
    "        else:\n",
    "            info[uuid] = {\n",
    "                'error': 'No such tileset with uid: {}'.format(uuid)\n",
    "            }\n",
    "    return jsonify(info)\n",
    "\n",
    "\n",
    "@app.route('/api/v1/tiles/', methods=['GET'])\n",
    "def tiles():\n",
    "    from flask import request, jsonify\n",
    "    tids_requested = set(request.args.getlist(\"d\"))\n",
    "    if not tids_requested:\n",
    "        return jsonify({'error': 'No tiles requested'})\n",
    "    \n",
    "    extract_uuid = lambda tid: tid.split('.')[0]\n",
    "    uuids_to_tids = toolz.groupby(extract_uuid, tids_requested)\n",
    "    \n",
    "    tiles = []\n",
    "    for uuid, tids in uuids_to_tids.items():\n",
    "        ts = next( (ts for ts in hgflask.TILESETS if ts['uuid'] == uuid), None )\n",
    "        if ts is not None:\n",
    "            tiles.extend(bigwig_tiles(ts['url'], tids))\n",
    "\n",
    "    data = {tid: tval for tid, tval in tiles}\n",
    "    return jsonify(data)"
   ]
  },
  {
   "cell_type": "code",
   "execution_count": 8,
   "metadata": {
    "ExecuteTime": {
     "end_time": "2018-01-31T01:39:51.090464Z",
     "start_time": "2018-01-31T01:39:51.080627Z"
    },
    "collapsed": true
   },
   "outputs": [],
   "source": [
    "hgflask.TILESETS = [{  \n",
    "    'uuid': \"abc\",\n",
    "    'filetype': \"bigwig\",\n",
    "    'datatype': \"vector\",\n",
    "    'url': 'http://hgdownload.cse.ucsc.edu/goldenPath/hg19/encodeDCC/wgEncodeSydhTfbs/wgEncodeSydhTfbsGm12878Ctcfsc15914c20StdSig.bigWig',\n",
    "    'private': False,\n",
    "    'name': \"blabla\",\n",
    "    'coordSystem': \"hg19\",\n",
    "    'coordSystem2': \"hg19\",\n",
    "    'created': \"2017-02-02T21:10:56.265085Z\",\n",
    "}]"
   ]
  },
  {
   "cell_type": "code",
   "execution_count": 9,
   "metadata": {
    "ExecuteTime": {
     "end_time": "2018-01-31T01:39:54.316990Z",
     "start_time": "2018-01-31T01:39:54.297671Z"
    }
   },
   "outputs": [
    {
     "name": "stderr",
     "output_type": "stream",
     "text": [
      " * Running on http://0.0.0.0:4000/ (Press CTRL+C to quit)\n",
      "18.42.1.119 - - [30/Jan/2018 20:41:28] \"GET /api/v1/tilesets/?limit=10000&dt=axis&dt=matrix&dt=vector&dt=multivec&dt=vector&dt=vector&dt=vector&dt=bed-value&dt=stacked-interval&dt=1d-projection&dt=gene-annotation&dt=2d-rectangle-domains&dt=chromsizes&dt=vector,stacked-interval,gene-annotation&dt=bedlike HTTP/1.1\" 200 -\n",
      "18.42.1.119 - - [30/Jan/2018 20:41:28] \"GET /api/v1/tilesets/?limit=10000&dt=axis&dt=matrix&dt=vector&dt=multivec&dt=vector&dt=vector&dt=vector&dt=bed-value&dt=stacked-interval&dt=1d-projection&dt=gene-annotation&dt=2d-rectangle-domains&dt=chromsizes&dt=vector,stacked-interval,gene-annotation&dt=bedlike HTTP/1.1\" 200 -\n",
      "18.42.1.119 - - [30/Jan/2018 20:41:32] \"GET /api/v1/tileset_info/?d=abc&s=BZSVkUdfRvyRE3TJWsveJw HTTP/1.1\" 200 -\n",
      "18.42.1.119 - - [30/Jan/2018 20:41:37] \"GET /api/v1/tiles/?d=abc.13.877&d=abc.13.878&d=abc.13.879&s=BZSVkUdfRvyRE3TJWsveJw HTTP/1.1\" 200 -\n",
      "18.42.1.119 - - [30/Jan/2018 20:41:45] \"GET /api/v1/tiles/?d=abc.13.876&s=BZSVkUdfRvyRE3TJWsveJw HTTP/1.1\" 200 -\n",
      "18.42.1.119 - - [30/Jan/2018 20:41:58] \"GET /api/v1/tiles/?d=abc.14.1754&d=abc.14.1755&d=abc.14.1756&s=BZSVkUdfRvyRE3TJWsveJw HTTP/1.1\" 200 -\n",
      "18.42.1.119 - - [30/Jan/2018 20:42:01] \"GET /api/v1/tiles/?d=abc.15.3509&d=abc.15.3510&d=abc.15.3511&s=BZSVkUdfRvyRE3TJWsveJw HTTP/1.1\" 200 -\n",
      "18.42.1.119 - - [30/Jan/2018 20:42:10] \"GET /api/v1/tiles/?d=abc.14.1754&d=abc.14.1755&d=abc.14.1756&s=BZSVkUdfRvyRE3TJWsveJw HTTP/1.1\" 200 -\n",
      "18.42.1.119 - - [30/Jan/2018 20:42:12] \"GET /api/v1/tiles/?d=abc.13.877&d=abc.13.878&s=BZSVkUdfRvyRE3TJWsveJw HTTP/1.1\" 200 -\n",
      "18.42.1.119 - - [30/Jan/2018 20:42:15] \"GET /api/v1/tiles/?d=abc.13.876&s=BZSVkUdfRvyRE3TJWsveJw HTTP/1.1\" 200 -\n",
      "18.42.1.119 - - [30/Jan/2018 20:42:20] \"GET /api/v1/tiles/?d=abc.13.879&d=abc.12.438&d=abc.12.439&d=abc.12.437&s=BZSVkUdfRvyRE3TJWsveJw HTTP/1.1\" 200 -\n",
      "18.42.1.119 - - [30/Jan/2018 20:42:25] \"GET /api/v1/tiles/?d=abc.12.440&d=abc.11.218&d=abc.11.219&d=abc.11.220&s=BZSVkUdfRvyRE3TJWsveJw HTTP/1.1\" 200 -\n",
      "18.42.1.119 - - [30/Jan/2018 20:42:35] \"GET /api/v1/tiles/?d=abc.11.221&s=BZSVkUdfRvyRE3TJWsveJw HTTP/1.1\" 200 -\n",
      "18.42.1.119 - - [30/Jan/2018 20:42:43] \"GET /api/v1/tiles/?d=abc.10.109&d=abc.10.110&d=abc.10.111&s=BZSVkUdfRvyRE3TJWsveJw HTTP/1.1\" 200 -\n",
      "73.253.167.118 - - [30/Jan/2018 20:47:17] \"GET /api/v1/tileset_info/?d=abc&s=U-eBZHnLQvenV9Nq_qbowQ HTTP/1.1\" 200 -\n",
      "73.253.167.118 - - [30/Jan/2018 20:47:20] \"GET /api/v1/tiles/?d=abc.9.54&d=abc.9.55&s=U-eBZHnLQvenV9Nq_qbowQ HTTP/1.1\" 200 -\n",
      "73.253.167.118 - - [30/Jan/2018 20:47:26] \"GET /api/v1/tiles/?d=abc.10.109&d=abc.10.110&s=U-eBZHnLQvenV9Nq_qbowQ HTTP/1.1\" 200 -\n",
      "73.253.167.118 - - [30/Jan/2018 20:47:38] \"GET /api/v1/tiles/?d=abc.9.54&d=abc.9.55&s=U-eBZHnLQvenV9Nq_qbowQ HTTP/1.1\" 200 -\n",
      "73.253.167.118 - - [30/Jan/2018 20:48:53] \"GET /api/v1/tiles/?d=abc.10.109&d=abc.10.110&s=U-eBZHnLQvenV9Nq_qbowQ HTTP/1.1\" 200 -\n",
      "73.253.167.118 - - [30/Jan/2018 20:48:56] \"GET /api/v1/tiles/?d=abc.11.218&d=abc.11.219&d=abc.11.220&s=U-eBZHnLQvenV9Nq_qbowQ HTTP/1.1\" 200 -\n",
      "18.42.1.119 - - [30/Jan/2018 20:52:40] \"GET /api/v1/tilesets/?limit=10000&dt=axis&dt=matrix&dt=vector&dt=multivec&dt=vector&dt=vector&dt=vector&dt=bed-value&dt=stacked-interval&dt=1d-projection&dt=gene-annotation&dt=2d-rectangle-domains&dt=chromsizes&dt=vector,stacked-interval,gene-annotation&dt=bedlike HTTP/1.1\" 200 -\n",
      "18.42.1.119 - - [30/Jan/2018 20:52:40] \"GET /api/v1/tilesets/?limit=10000&dt=axis&dt=matrix&dt=vector&dt=multivec&dt=vector&dt=vector&dt=vector&dt=bed-value&dt=stacked-interval&dt=1d-projection&dt=gene-annotation&dt=2d-rectangle-domains&dt=chromsizes&dt=vector,stacked-interval,gene-annotation&dt=bedlike HTTP/1.1\" 200 -\n",
      "18.42.1.119 - - [30/Jan/2018 20:52:48] \"GET /api/v1/tiles/?d=abc.9.54&d=abc.9.55&s=BZSVkUdfRvyRE3TJWsveJw HTTP/1.1\" 200 -\n",
      "18.42.1.119 - - [30/Jan/2018 20:52:50] \"GET /api/v1/tiles/?d=abc.9.56&s=BZSVkUdfRvyRE3TJWsveJw HTTP/1.1\" 200 -\n",
      "18.42.1.119 - - [30/Jan/2018 20:52:51] \"GET /api/v1/tiles/?d=abc.9.53&s=BZSVkUdfRvyRE3TJWsveJw HTTP/1.1\" 200 -\n",
      "18.42.1.119 - - [30/Jan/2018 20:52:55] \"GET /api/v1/tiles/?d=abc.8.26&d=abc.8.27&d=abc.8.28&s=BZSVkUdfRvyRE3TJWsveJw HTTP/1.1\" 200 -\n",
      "18.42.1.119 - - [30/Jan/2018 20:53:07] \"GET /api/v1/tiles/?d=abc.8.29&s=BZSVkUdfRvyRE3TJWsveJw HTTP/1.1\" 200 -\n",
      "18.42.1.119 - - [30/Jan/2018 20:53:12] \"GET /api/v1/tiles/?d=abc.7.14&s=BZSVkUdfRvyRE3TJWsveJw HTTP/1.1\" 200 -\n",
      "18.42.1.119 - - [30/Jan/2018 20:53:14] \"GET /api/v1/tiles/?d=abc.7.13&d=abc.7.15&s=BZSVkUdfRvyRE3TJWsveJw HTTP/1.1\" 200 -\n",
      "18.42.1.119 - - [30/Jan/2018 20:53:17] \"GET /api/v1/tiles/?d=abc.6.6&d=abc.6.7&s=BZSVkUdfRvyRE3TJWsveJw HTTP/1.1\" 200 -\n",
      "18.42.1.119 - - [30/Jan/2018 20:53:18] \"GET /api/v1/tiles/?d=abc.5.3&s=BZSVkUdfRvyRE3TJWsveJw HTTP/1.1\" 200 -\n",
      "18.42.1.119 - - [30/Jan/2018 20:53:31] \"GET /api/v1/tiles/?d=abc.6.5&d=abc.6.6&d=abc.6.7&d=abc.6.8&s=BZSVkUdfRvyRE3TJWsveJw HTTP/1.1\" 200 -\n",
      "18.42.1.119 - - [30/Jan/2018 20:53:41] \"GET /api/v1/tiles/?d=abc.5.2&d=abc.5.3&d=abc.5.4&s=BZSVkUdfRvyRE3TJWsveJw HTTP/1.1\" 200 -\n",
      "18.42.1.119 - - [30/Jan/2018 20:53:45] \"GET /api/v1/tiles/?d=abc.5.5&s=BZSVkUdfRvyRE3TJWsveJw HTTP/1.1\" 200 -\n",
      "18.42.1.119 - - [30/Jan/2018 20:53:50] \"GET /api/v1/tiles/?d=abc.4.1&d=abc.4.2&d=abc.4.3&s=BZSVkUdfRvyRE3TJWsveJw HTTP/1.1\" 200 -\n",
      "18.42.1.119 - - [30/Jan/2018 20:53:52] \"GET /api/v1/tiles/?d=abc.4.0&s=BZSVkUdfRvyRE3TJWsveJw HTTP/1.1\" 200 -\n",
      "18.42.1.119 - - [30/Jan/2018 20:53:57] \"GET /api/v1/tiles/?d=abc.3.0&d=abc.3.1&d=abc.3.2&s=BZSVkUdfRvyRE3TJWsveJw HTTP/1.1\" 200 -\n",
      "18.42.1.119 - - [30/Jan/2018 20:54:04] \"GET /api/v1/tiles/?d=abc.3.3&s=BZSVkUdfRvyRE3TJWsveJw HTTP/1.1\" 200 -\n",
      "73.253.167.118 - - [30/Jan/2018 20:54:51] \"GET /api/v1/tileset_info/?d=abc&s=MmAOVqdwRfyOlaeSjhS6tQ HTTP/1.1\" 200 -\n",
      "73.253.167.118 - - [30/Jan/2018 20:54:56] \"GET /api/v1/tiles/?d=abc.1.0&s=MmAOVqdwRfyOlaeSjhS6tQ HTTP/1.1\" 200 -\n",
      "73.253.167.118 - - [30/Jan/2018 20:54:59] \"GET /api/v1/tiles/?d=abc.2.0&s=MmAOVqdwRfyOlaeSjhS6tQ HTTP/1.1\" 200 -\n",
      "18.42.1.119 - - [30/Jan/2018 20:54:59] \"GET /api/v1/tileset_info/?d=abc&s=VZCQS35LSbmW5vzR2p48rQ HTTP/1.1\" 200 -\n",
      "18.42.1.119 - - [30/Jan/2018 20:55:02] \"GET /api/v1/tiles/?d=abc.2.0&s=VZCQS35LSbmW5vzR2p48rQ HTTP/1.1\" 200 -\n"
     ]
    }
   ],
   "source": [
    "p = mp.Process(target=partial(app.run, debug=True, port=4000, host='0.0.0.0', use_reloader=False))\n",
    "p.start()"
   ]
  },
  {
   "cell_type": "code",
   "execution_count": null,
   "metadata": {
    "collapsed": true
   },
   "outputs": [],
   "source": []
  },
  {
   "cell_type": "code",
   "execution_count": null,
   "metadata": {
    "collapsed": true
   },
   "outputs": [],
   "source": []
  },
  {
   "cell_type": "code",
   "execution_count": null,
   "metadata": {
    "collapsed": true
   },
   "outputs": [],
   "source": []
  },
  {
   "cell_type": "code",
   "execution_count": null,
   "metadata": {
    "collapsed": true
   },
   "outputs": [],
   "source": []
  },
  {
   "cell_type": "code",
   "execution_count": null,
   "metadata": {
    "collapsed": true
   },
   "outputs": [],
   "source": []
  },
  {
   "cell_type": "code",
   "execution_count": null,
   "metadata": {
    "collapsed": true
   },
   "outputs": [],
   "source": []
  },
  {
   "cell_type": "code",
   "execution_count": null,
   "metadata": {
    "collapsed": true
   },
   "outputs": [],
   "source": []
  }
 ],
 "metadata": {
  "gist": {
   "data": {
    "description": "hgflask.ipynb",
    "public": false
   },
   "id": ""
  },
  "kernelspec": {
   "display_name": "Python 3",
   "language": "python",
   "name": "python3"
  },
  "language_info": {
   "codemirror_mode": {
    "name": "ipython",
    "version": 3
   },
   "file_extension": ".py",
   "mimetype": "text/x-python",
   "name": "python",
   "nbconvert_exporter": "python",
   "pygments_lexer": "ipython3",
   "version": "3.6.1"
  },
  "toc": {
   "nav_menu": {},
   "number_sections": true,
   "sideBar": true,
   "skip_h1_title": false,
   "toc_cell": false,
   "toc_position": {},
   "toc_section_display": "block",
   "toc_window_display": false
  }
 },
 "nbformat": 4,
 "nbformat_minor": 2
}
