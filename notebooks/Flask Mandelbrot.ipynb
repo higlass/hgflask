{
 "cells": [
  {
   "cell_type": "code",
   "execution_count": 1,
   "metadata": {},
   "outputs": [
    {
     "name": "stdout",
     "output_type": "stream",
     "text": [
      "hi\n",
      "yo\n",
      "fro\n",
      "CPU times: user 34.9 ms, sys: 1.83 ms, total: 36.7 ms\n",
      "Wall time: 15.2 ms\n",
      "hi\n",
      "yo\n",
      "fro\n",
      "CPU times: user 3.77 ms, sys: 1.47 ms, total: 5.25 ms\n",
      "Wall time: 2.08 ms\n"
     ]
    },
    {
     "data": {
      "text/plain": [
       "array([[0, 0, 0, ..., 0, 0, 0],\n",
       "       [0, 0, 0, ..., 0, 0, 0],\n",
       "       [0, 0, 0, ..., 0, 0, 0],\n",
       "       ..., \n",
       "       [0, 0, 0, ..., 0, 0, 0],\n",
       "       [0, 0, 0, ..., 0, 0, 0],\n",
       "       [0, 0, 0, ..., 0, 0, 0]], dtype=int32)"
      ]
     },
     "execution_count": 1,
     "metadata": {},
     "output_type": "execute_result"
    }
   ],
   "source": [
    "from numba import jit, vectorize, guvectorize, float64, complex64, int32, float32\n",
    "import numpy as np\n",
    "\n",
    "# from: https://www.ibm.com/developerworks/community/blogs/jfp/entry/How_To_Compute_Mandelbrodt_Set_Quickly?lang=en\n",
    "\n",
    "@jit(int32(complex64, int32))\n",
    "def mandelbrot(c,maxiter):\n",
    "    nreal = 0\n",
    "    real = 0\n",
    "    imag = 0\n",
    "    for n in range(maxiter):\n",
    "        nreal = real*real - imag*imag + c.real\n",
    "        imag = 2* real*imag + c.imag\n",
    "        real = nreal;\n",
    "        if real * real + imag * imag > 4.0:\n",
    "            return n\n",
    "    return 0\n",
    "\n",
    "@guvectorize([(complex64[:], int32[:], int32[:])], '(n),()->(n)',target='parallel')\n",
    "def mandelbrot_numpy(c, maxit, output):\n",
    "    maxiter = maxit[0]\n",
    "    for i in range(c.shape[0]):\n",
    "        output[i] = mandelbrot(c[i],maxiter)\n",
    "        \n",
    "def mandelbrot_set2(xmin,xmax,ymin,ymax,width=256,height=256,maxiter=100):\n",
    "    print(\"hi\")\n",
    "    r1 = np.linspace(xmin, xmax, width, dtype=np.float32)\n",
    "    r2 = np.linspace(ymin, ymax, height, dtype=np.float32)\n",
    "    c = r1 + r2[:,None]*1j\n",
    "    print(\"yo\")\n",
    "    n3 = mandelbrot_numpy(c,maxiter)\n",
    "    print(\"fro\")\n",
    "    return n3.T\n",
    "\n",
    "#%timeit mandelbrot_set2(-0.74877,-0.74872,0.06505,0.06510,256,256,100)\n",
    "%time mandelbrot_set2(-0.74877,-0.74872,0.06505,0.06510,256,256,100)\n",
    "%time mandelbrot_set2(-2.5, 2.5, -2.5, 2.5)"
   ]
  },
  {
   "cell_type": "code",
   "execution_count": null,
   "metadata": {
    "collapsed": true
   },
   "outputs": [],
   "source": []
  }
 ],
 "metadata": {
  "kernelspec": {
   "display_name": "Python 3",
   "language": "python",
   "name": "python3"
  },
  "language_info": {
   "codemirror_mode": {
    "name": "ipython",
    "version": 3
   },
   "file_extension": ".py",
   "mimetype": "text/x-python",
   "name": "python",
   "nbconvert_exporter": "python",
   "pygments_lexer": "ipython3",
   "version": "3.6.3"
  }
 },
 "nbformat": 4,
 "nbformat_minor": 2
}
