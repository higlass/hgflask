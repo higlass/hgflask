{
 "cells": [
  {
   "cell_type": "code",
   "execution_count": 11,
   "metadata": {},
   "outputs": [
    {
     "name": "stdout",
     "output_type": "stream",
     "text": [
      "The autoreload extension is already loaded. To reload it, use:\n",
      "  %reload_ext autoreload\n"
     ]
    }
   ],
   "source": [
    "%load_ext autoreload\n",
    "%autoreload 2\n",
    "%matplotlib inline"
   ]
  },
  {
   "cell_type": "code",
   "execution_count": 12,
   "metadata": {
    "collapsed": true
   },
   "outputs": [],
   "source": [
    "def tileset_info():\n",
    "    return {\n",
    "        'min_pos': [-2.5, -2.5],\n",
    "        'max_pos': [2.5, 2.5],\n",
    "        'bins_per_dimension': 256,\n",
    "        'max_width': 5,\n",
    "        'max_zoom': 50,\n",
    "        'mirror_tiles': 'false',\n",
    "    }"
   ]
  },
  {
   "cell_type": "code",
   "execution_count": 13,
   "metadata": {},
   "outputs": [
    {
     "name": "stdout",
     "output_type": "stream",
     "text": [
      "CPU times: user 31.2 ms, sys: 7.36 ms, total: 38.6 ms\n",
      "Wall time: 67.6 ms\n",
      "CPU times: user 479 ms, sys: 13.3 ms, total: 492 ms\n",
      "Wall time: 498 ms\n"
     ]
    },
    {
     "data": {
      "text/plain": [
       "array([[0, 0, 0, ..., 0, 0, 0],\n",
       "       [0, 0, 0, ..., 0, 0, 0],\n",
       "       [0, 0, 0, ..., 0, 0, 0],\n",
       "       ...,\n",
       "       [0, 0, 0, ..., 0, 0, 0],\n",
       "       [0, 0, 0, ..., 0, 0, 0],\n",
       "       [0, 0, 0, ..., 0, 0, 0]], dtype=int32)"
      ]
     },
     "execution_count": 13,
     "metadata": {},
     "output_type": "execute_result"
    }
   ],
   "source": [
    "from numba import jit, vectorize, guvectorize, float64, complex64, int32, float32\n",
    "import numpy as np\n",
    "\n",
    "# from: https://www.ibm.com/developerworks/community/blogs/jfp/entry/How_To_Compute_Mandelbrodt_Set_Quickly?lang=en\n",
    "\n",
    "@jit(int32(complex64, int32))\n",
    "def mandelbrot(c,maxiter):\n",
    "    nreal = 0\n",
    "    real = 0\n",
    "    imag = 0\n",
    "    for n in range(maxiter):\n",
    "        nreal = real*real - imag*imag + c.real\n",
    "        imag = 2* real*imag + c.imag\n",
    "        real = nreal;\n",
    "        if real * real + imag * imag > 4.0:\n",
    "            return n\n",
    "    return 0\n",
    "\n",
    "@guvectorize([(complex64[:], int32[:], int32[:])], '(n),()->(n)')\n",
    "def mandelbrot_numpy(c, maxit, output):\n",
    "    #print(\"hellow\")\n",
    "    maxiter = maxit[0]\n",
    "    for i in range(c.shape[0]):\n",
    "        output[i] = mandelbrot(c[i],maxiter)\n",
    "\n",
    "\"\"\"\n",
    "import numexpr as ne\n",
    "\n",
    "def mandelbrot_numpy(c, maxiter):\n",
    "    output = np.zeros(c.shape)\n",
    "    z = np.zeros(c.shape, np.complex64)\n",
    "    for it in range(maxiter):\n",
    "        notdone = ne.evaluate('z.real*z.real + z.imag*z.imag < 4.0')\n",
    "        output[notdone] = it\n",
    "        z = ne.evaluate('where(notdone,z**2+c,z)')\n",
    "    output[output == maxiter-1] = 0    \n",
    "    return output\n",
    "  \"\"\"      \n",
    "def mandelbrot_set2(xmin,xmax,ymin,ymax,width=256,height=256,maxiter=500):\n",
    "    #print(\"hi\")\n",
    "    r1 = np.linspace(xmin, xmax, width, dtype=np.float32)\n",
    "    r2 = np.linspace(ymin, ymax, height, dtype=np.float32)\n",
    "    c = r1 + r2[:,None]*1j\n",
    "    n3 = mandelbrot_numpy(c,maxiter)\n",
    "    return n3\n",
    "\n",
    "#%timeit mandelbrot_set2(-0.74877,-0.74872,0.06505,0.06510,256,256,100)\n",
    "%time mandelbrot_set2(-0.74877,-0.74872,0.06505,0.06510,256,256,100)\n",
    "%time mandelbrot_set2(-0.74877,-0.74872,0.06505,0.06510,1024,1024,100)\n",
    "#%time mandelbrot_set2(-2.5, 2.5, -2.5, 2.5)"
   ]
  },
  {
   "cell_type": "code",
   "execution_count": 29,
   "metadata": {},
   "outputs": [
    {
     "name": "stdout",
     "output_type": "stream",
     "text": [
      "terminating: KcGTAMiETp-MpLXvLGW-SA\n"
     ]
    },
    {
     "name": "stderr",
     "output_type": "stream",
     "text": [
      " * Running on http://0.0.0.0:58469/ (Press CTRL+C to quit)\n"
     ]
    },
    {
     "name": "stdout",
     "output_type": "stream",
     "text": [
      "sleeping\n"
     ]
    },
    {
     "name": "stderr",
     "output_type": "stream",
     "text": [
      "127.0.0.1 - - [18/Oct/2018 20:27:59] \"\u001b[37mGET /api/v1/tileset_info/?d=a HTTP/1.1\u001b[0m\" 200 -\n"
     ]
    },
    {
     "name": "stdout",
     "output_type": "stream",
     "text": [
      "ret: 200 b'{\\n  \"a\": {\\n    \"bins_per_dimension\": 256, \\n    \"max_pos\": [\\n      2.5, \\n      2.5\\n    ], \\n    \"max_width\": 5, \\n    \"max_zoom\": 50, \\n    \"min_pos\": [\\n      -2.5, \\n      -2.5\\n    ], \\n    \"mirror_tiles\": \"false\"\\n  }\\n}\\n'\n",
      "returning\n",
      "CPU times: user 25.1 ms, sys: 33.7 ms, total: 58.9 ms\n",
      "Wall time: 267 ms\n"
     ]
    },
    {
     "name": "stderr",
     "output_type": "stream",
     "text": [
      "127.0.0.1 - - [18/Oct/2018 20:29:06] \"\u001b[37mOPTIONS /api/v1/tileset_info/?d=a&s=QiZ8jTkjQeO7eV2fvDFSYw HTTP/1.1\u001b[0m\" 200 -\n",
      "127.0.0.1 - - [18/Oct/2018 20:29:06] \"\u001b[37mGET /api/v1/tileset_info/?d=a&s=QiZ8jTkjQeO7eV2fvDFSYw HTTP/1.1\u001b[0m\" 200 -\n",
      "127.0.0.1 - - [18/Oct/2018 20:29:06] \"\u001b[37mOPTIONS /api/v1/tiles/?d=a.1.1.0&d=a.1.1.1&d=a.1.0.0&d=a.1.0.1&s=QiZ8jTkjQeO7eV2fvDFSYw HTTP/1.1\u001b[0m\" 200 -\n",
      "127.0.0.1 - - [18/Oct/2018 20:29:06] \"\u001b[37mGET /api/v1/tiles/?d=a.1.1.0&d=a.1.1.1&d=a.1.0.0&d=a.1.0.1&s=QiZ8jTkjQeO7eV2fvDFSYw HTTP/1.1\u001b[0m\" 200 -\n",
      "127.0.0.1 - - [18/Oct/2018 20:29:10] \"\u001b[37mOPTIONS /api/v1/tiles/?d=a.3.1.2&d=a.3.1.3&d=a.3.1.4&d=a.3.1.5&d=a.3.2.2&d=a.3.2.3&d=a.3.2.4&d=a.3.2.5&d=a.3.3.2&d=a.3.3.3&d=a.3.3.4&d=a.3.3.5&d=a.3.4.2&d=a.3.4.3&d=a.3.4.4&d=a.3.4.5&s=QiZ8jTkjQeO7eV2fvDFSYw HTTP/1.1\u001b[0m\" 200 -\n",
      "127.0.0.1 - - [18/Oct/2018 20:29:10] \"\u001b[37mGET /api/v1/tiles/?d=a.3.1.2&d=a.3.1.3&d=a.3.1.4&d=a.3.1.5&d=a.3.2.2&d=a.3.2.3&d=a.3.2.4&d=a.3.2.5&d=a.3.3.2&d=a.3.3.3&d=a.3.3.4&d=a.3.3.5&d=a.3.4.2&d=a.3.4.3&d=a.3.4.4&d=a.3.4.5&s=QiZ8jTkjQeO7eV2fvDFSYw HTTP/1.1\u001b[0m\" 200 -\n",
      "127.0.0.1 - - [18/Oct/2018 20:29:11] \"\u001b[37mOPTIONS /api/v1/tiles/?d=a.3.1.2&d=a.3.2.2&d=a.3.3.2&s=QiZ8jTkjQeO7eV2fvDFSYw HTTP/1.1\u001b[0m\" 200 -\n",
      "127.0.0.1 - - [18/Oct/2018 20:29:11] \"\u001b[37mGET /api/v1/tiles/?d=a.3.1.2&d=a.3.2.2&d=a.3.3.2&s=QiZ8jTkjQeO7eV2fvDFSYw HTTP/1.1\u001b[0m\" 200 -\n",
      "127.0.0.1 - - [18/Oct/2018 20:29:15] \"\u001b[37mOPTIONS /api/v1/tiles/?d=a.5.9.13&d=a.5.9.14&d=a.5.9.15&d=a.5.10.13&d=a.5.10.14&d=a.5.10.15&d=a.5.11.13&d=a.5.11.14&d=a.5.11.15&s=QiZ8jTkjQeO7eV2fvDFSYw HTTP/1.1\u001b[0m\" 200 -\n",
      "127.0.0.1 - - [18/Oct/2018 20:29:16] \"\u001b[37mGET /api/v1/tiles/?d=a.5.9.13&d=a.5.9.14&d=a.5.9.15&d=a.5.10.13&d=a.5.10.14&d=a.5.10.15&d=a.5.11.13&d=a.5.11.14&d=a.5.11.15&s=QiZ8jTkjQeO7eV2fvDFSYw HTTP/1.1\u001b[0m\" 200 -\n",
      "127.0.0.1 - - [18/Oct/2018 20:29:32] \"\u001b[37mOPTIONS /api/v1/tiles/?d=a.2.0.1&d=a.2.0.2&d=a.2.1.1&d=a.2.1.2&d=a.2.2.1&d=a.2.2.2&s=QiZ8jTkjQeO7eV2fvDFSYw HTTP/1.1\u001b[0m\" 200 -\n",
      "127.0.0.1 - - [18/Oct/2018 20:29:33] \"\u001b[37mGET /api/v1/tiles/?d=a.2.0.1&d=a.2.0.2&d=a.2.1.1&d=a.2.1.2&d=a.2.2.1&d=a.2.2.2&s=QiZ8jTkjQeO7eV2fvDFSYw HTTP/1.1\u001b[0m\" 200 -\n",
      "127.0.0.1 - - [18/Oct/2018 20:29:33] \"\u001b[37mOPTIONS /api/v1/tiles/?d=a.2.0.0&d=a.2.0.3&d=a.2.1.0&d=a.2.1.3&d=a.2.2.0&d=a.2.2.3&d=a.2.3.0&d=a.2.3.1&d=a.2.3.2&d=a.2.3.3&s=QiZ8jTkjQeO7eV2fvDFSYw HTTP/1.1\u001b[0m\" 200 -\n",
      "127.0.0.1 - - [18/Oct/2018 20:29:33] \"\u001b[37mGET /api/v1/tiles/?d=a.2.0.0&d=a.2.0.3&d=a.2.1.0&d=a.2.1.3&d=a.2.2.0&d=a.2.2.3&d=a.2.3.0&d=a.2.3.1&d=a.2.3.2&d=a.2.3.3&s=QiZ8jTkjQeO7eV2fvDFSYw HTTP/1.1\u001b[0m\" 200 -\n",
      "127.0.0.1 - - [18/Oct/2018 20:29:33] \"\u001b[37mOPTIONS /api/v1/tiles/?d=a.1.0.0&d=a.1.0.1&d=a.1.1.0&d=a.1.1.1&s=QiZ8jTkjQeO7eV2fvDFSYw HTTP/1.1\u001b[0m\" 200 -\n",
      "127.0.0.1 - - [18/Oct/2018 20:29:34] \"\u001b[37mGET /api/v1/tiles/?d=a.1.0.0&d=a.1.0.1&d=a.1.1.0&d=a.1.1.1&s=QiZ8jTkjQeO7eV2fvDFSYw HTTP/1.1\u001b[0m\" 200 -\n"
     ]
    }
   ],
   "source": [
    "%%time \n",
    "\n",
    "import functools as ft\n",
    "import numpy as np\n",
    "import hgflask.server as hfse\n",
    "import hgflask.tilesets as hfti\n",
    "import hgflask.client as hgc\n",
    "import hgtiles.format as hgfo\n",
    "import hgtiles.utils as hgut\n",
    "import os.path as op\n",
    "\n",
    "# from https://plus.maths.org/content/computing-mandelbrot-set\n",
    "\n",
    "def tiles(tsinfo, z, x, y):\n",
    "    [from_x, from_y, to_x, to_y] = hgut.tile_bounds(tsinfo, z, x, y)\n",
    "    tile_size = tsinfo['bins_per_dimension'] if 'bins_per_dimension' in tsinfo else 256\n",
    "    limit = 4\n",
    "    \n",
    "    #print(\"from_x\", from_x, to_x, from_y, to_y)\n",
    "    #points = mandelbrot(from_x, from_y, to_x, to_y, tile_size)\n",
    "    points = mandelbrot_set2(from_x, to_x, from_y, to_y)\n",
    "    #print(\"points:\", points)\n",
    "\n",
    "    \n",
    "    # ravel because the points are returned as a 2D array\n",
    "    #return points.ravel()\n",
    "    return hgfo.format_dense_tile(points.ravel())\n",
    "    \n",
    "tilesets = [{\n",
    "    'uuid': 'a',\n",
    "    'handlers': {\n",
    "        'tileset_info': tileset_info,\n",
    "        'tiles': ft.partial(hgut.tiles_wrapper_2d, \n",
    "                            tiles_function=ft.partial(tiles, tileset_info()))\n",
    "    }},\n",
    "    {\n",
    "        'uuid': 'b',\n",
    "        'filepath': op.expanduser('~/Dropbox/paper-data/gaia/cooler.mcool')\n",
    "    }\n",
    "]\n",
    "\n",
    "ts = hfti.Tileset(\n",
    "    uuid = 'a',\n",
    "    tileset_info = tileset_info,\n",
    "                 tiles=ft.partial(hgut.tiles_wrapper_2d, \n",
    "                            tiles_function=ft.partial(tiles, tileset_info())) )\n",
    "# ts1 = hfti.cooler(uuid='b', filepath=op.expanduser('~/Dropbox/paper-data/gaia/cooler.mcool'))\n",
    "\n",
    "server=hfse.start([ts])\n",
    "#points = tiles(tsinfo, 1, 1, 1)"
   ]
  },
  {
   "cell_type": "code",
   "execution_count": 15,
   "metadata": {},
   "outputs": [
    {
     "name": "stdout",
     "output_type": "stream",
     "text": [
      "{\r\n",
      "  \"a\": {\r\n",
      "    \"bins_per_dimension\": 256, \r\n",
      "    \"max_pos\": [\r\n",
      "      2.5, \r\n",
      "      2.5\r\n",
      "    ], \r\n",
      "    \"max_width\": 5, \r\n",
      "    \"max_zoom\": 50, \r\n",
      "    \"min_pos\": [\r\n",
      "      -2.5, \r\n",
      "      -2.5\r\n",
      "    ], \r\n",
      "    \"mirror_tiles\": \"false\"\r\n",
      "  }\r\n",
      "}\r\n"
     ]
    }
   ],
   "source": [
    "!curl localhost:{server.port}/api/v1/tileset_info/?d={ts.uuid}"
   ]
  },
  {
   "cell_type": "code",
   "execution_count": 16,
   "metadata": {},
   "outputs": [
    {
     "data": {
      "text/plain": [
       "<Process(Process-2, started)>"
      ]
     },
     "execution_count": 16,
     "metadata": {},
     "output_type": "execute_result"
    }
   ],
   "source": [
    "server.process"
   ]
  },
  {
   "cell_type": "code",
   "execution_count": 30,
   "metadata": {},
   "outputs": [
    {
     "name": "stdout",
     "output_type": "stream",
     "text": [
      "track.position center\n",
      "track.position top\n",
      "track.position left\n"
     ]
    },
    {
     "data": {
      "application/vnd.jupyter.widget-view+json": {
       "model_id": "ac5f065268574655a3ecaa5cbc413982",
       "version_major": 2,
       "version_minor": 0
      },
      "text/plain": [
       "A Jupyter Widget"
      ]
     },
     "metadata": {},
     "output_type": "display_data"
    }
   ],
   "source": [
    "import json\n",
    "\n",
    "conf = hgc.ViewConf([\n",
    "    hgc.View([\n",
    "        hgc.Track(tileset_uuid='a', \n",
    "               track_type='heatmap', \n",
    "               position='center', \n",
    "               api_url=server.api_address,\n",
    "               height=400, options={\n",
    "               }),\n",
    "        hgc.Track(track_type='top-axis', position='top'),\n",
    "        hgc.Track(track_type='left-axis', position='left')\n",
    "    ])\n",
    "])\n",
    "\n",
    "\n",
    "#print(hgc.to_json_string())\n",
    "import higlass_jupyter\n",
    "higlass_jupyter.HiGlassDisplay(viewconf=conf.to_json(), \n",
    "                hg_options={\"bounded\": False, \"renderer\": \"canvas\"})"
   ]
  },
  {
   "cell_type": "code",
   "execution_count": null,
   "metadata": {
    "collapsed": true
   },
   "outputs": [],
   "source": []
  },
  {
   "cell_type": "code",
   "execution_count": null,
   "metadata": {
    "collapsed": true
   },
   "outputs": [],
   "source": []
  }
 ],
 "metadata": {
  "kernelspec": {
   "display_name": "Python 3",
   "language": "python",
   "name": "python3"
  },
  "language_info": {
   "codemirror_mode": {
    "name": "ipython",
    "version": 3
   },
   "file_extension": ".py",
   "mimetype": "text/x-python",
   "name": "python",
   "nbconvert_exporter": "python",
   "pygments_lexer": "ipython3",
   "version": "3.6.3"
  }
 },
 "nbformat": 4,
 "nbformat_minor": 2
}
