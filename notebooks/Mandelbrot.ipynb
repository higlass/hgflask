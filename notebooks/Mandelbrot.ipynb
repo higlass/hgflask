{
 "cells": [
  {
   "cell_type": "code",
   "execution_count": 1,
   "metadata": {},
   "outputs": [],
   "source": [
    "%load_ext autoreload\n",
    "%autoreload 2\n",
    "%matplotlib inline"
   ]
  },
  {
   "cell_type": "code",
   "execution_count": 2,
   "metadata": {
    "collapsed": true
   },
   "outputs": [],
   "source": [
    "def tileset_info():\n",
    "    return {\n",
    "        'min_pos': [-2.5, -2.5],\n",
    "        'max_pos': [2.5, 2.5],\n",
    "        'bins_per_dimension': 256,\n",
    "        'max_width': 5,\n",
    "        'max_zoom': 50,\n",
    "        'mirror_tiles': 'false',\n",
    "    }"
   ]
  },
  {
   "cell_type": "code",
   "execution_count": 3,
   "metadata": {},
   "outputs": [
    {
     "name": "stderr",
     "output_type": "stream",
     "text": [
      "/Users/pete/miniconda3/envs/cenv3/lib/python3.6/site-packages/numba/errors.py:102: UserWarning: Insufficiently recent colorama version found. Numba requires colorama >= 0.3.9\n",
      "  warnings.warn(msg)\n"
     ]
    },
    {
     "name": "stdout",
     "output_type": "stream",
     "text": [
      "CPU times: user 30.9 ms, sys: 1.83 ms, total: 32.8 ms\n",
      "Wall time: 34.1 ms\n",
      "CPU times: user 476 ms, sys: 9.91 ms, total: 486 ms\n",
      "Wall time: 484 ms\n"
     ]
    },
    {
     "data": {
      "text/plain": [
       "array([[0, 0, 0, ..., 0, 0, 0],\n",
       "       [0, 0, 0, ..., 0, 0, 0],\n",
       "       [0, 0, 0, ..., 0, 0, 0],\n",
       "       ...,\n",
       "       [0, 0, 0, ..., 0, 0, 0],\n",
       "       [0, 0, 0, ..., 0, 0, 0],\n",
       "       [0, 0, 0, ..., 0, 0, 0]], dtype=int32)"
      ]
     },
     "execution_count": 3,
     "metadata": {},
     "output_type": "execute_result"
    }
   ],
   "source": [
    "from numba import jit, vectorize, guvectorize, float64, complex64, int32, float32\n",
    "import numpy as np\n",
    "\n",
    "# from: https://www.ibm.com/developerworks/community/blogs/jfp/entry/How_To_Compute_Mandelbrodt_Set_Quickly?lang=en\n",
    "\n",
    "@jit(int32(complex64, int32))\n",
    "def mandelbrot(c,maxiter):\n",
    "    nreal = 0\n",
    "    real = 0\n",
    "    imag = 0\n",
    "    for n in range(maxiter):\n",
    "        nreal = real*real - imag*imag + c.real\n",
    "        imag = 2* real*imag + c.imag\n",
    "        real = nreal;\n",
    "        if real * real + imag * imag > 4.0:\n",
    "            return n\n",
    "    return 0\n",
    "\n",
    "@guvectorize([(complex64[:], int32[:], int32[:])], '(n),()->(n)')\n",
    "def mandelbrot_numpy(c, maxit, output):\n",
    "    #print(\"hellow\")\n",
    "    maxiter = maxit[0]\n",
    "    for i in range(c.shape[0]):\n",
    "        output[i] = mandelbrot(c[i],maxiter)\n",
    "\n",
    "\"\"\"\n",
    "import numexpr as ne\n",
    "\n",
    "def mandelbrot_numpy(c, maxiter):\n",
    "    output = np.zeros(c.shape)\n",
    "    z = np.zeros(c.shape, np.complex64)\n",
    "    for it in range(maxiter):\n",
    "        notdone = ne.evaluate('z.real*z.real + z.imag*z.imag < 4.0')\n",
    "        output[notdone] = it\n",
    "        z = ne.evaluate('where(notdone,z**2+c,z)')\n",
    "    output[output == maxiter-1] = 0    \n",
    "    return output\n",
    "  \"\"\"      \n",
    "def mandelbrot_set2(xmin,xmax,ymin,ymax,width=256,height=256,maxiter=500):\n",
    "    #print(\"hi\")\n",
    "    r1 = np.linspace(xmin, xmax, width, dtype=np.float32)\n",
    "    r2 = np.linspace(ymin, ymax, height, dtype=np.float32)\n",
    "    c = r1 + r2[:,None]*1j\n",
    "    n3 = mandelbrot_numpy(c,maxiter)\n",
    "    return n3\n",
    "\n",
    "#%timeit mandelbrot_set2(-0.74877,-0.74872,0.06505,0.06510,256,256,100)\n",
    "%time mandelbrot_set2(-0.74877,-0.74872,0.06505,0.06510,256,256,100)\n",
    "%time mandelbrot_set2(-0.74877,-0.74872,0.06505,0.06510,1024,1024,100)\n",
    "#%time mandelbrot_set2(-2.5, 2.5, -2.5, 2.5)"
   ]
  },
  {
   "cell_type": "code",
   "execution_count": 9,
   "metadata": {},
   "outputs": [
    {
     "name": "stderr",
     "output_type": "stream",
     "text": [
      " * Running on http://0.0.0.0:60714/ (Press CTRL+C to quit)\n"
     ]
    },
    {
     "name": "stdout",
     "output_type": "stream",
     "text": [
      "sleeping\n"
     ]
    },
    {
     "name": "stderr",
     "output_type": "stream",
     "text": [
      "127.0.0.1 - - [18/Oct/2018 08:46:42] \"\u001b[37mGET /api/v1/tileset_info/?d=a HTTP/1.1\u001b[0m\" 200 -\n"
     ]
    },
    {
     "name": "stdout",
     "output_type": "stream",
     "text": [
      "ret: 200 b'{\\n  \"a\": {\\n    \"bins_per_dimension\": 256, \\n    \"max_pos\": [\\n      2.5, \\n      2.5\\n    ], \\n    \"max_width\": 5, \\n    \"max_zoom\": 50, \\n    \"min_pos\": [\\n      -2.5, \\n      -2.5\\n    ], \\n    \"mirror_tiles\": \"false\"\\n  }\\n}\\n'\n",
      "returning\n",
      "CPU times: user 27.5 ms, sys: 26 ms, total: 53.4 ms\n",
      "Wall time: 272 ms\n"
     ]
    },
    {
     "name": "stderr",
     "output_type": "stream",
     "text": [
      "127.0.0.1 - - [18/Oct/2018 08:47:09] \"\u001b[37mGET /api/v1/tileset_info/?d=a HTTP/1.1\u001b[0m\" 200 -\n"
     ]
    }
   ],
   "source": [
    "%%time \n",
    "\n",
    "import functools as ft\n",
    "import numpy as np\n",
    "import hgflask.server as hfse\n",
    "import hgflask.tilesets as hfti\n",
    "import hgflask.client as hgc\n",
    "import hgtiles.format as hgfo\n",
    "import hgtiles.utils as hgut\n",
    "import os.path as op\n",
    "\n",
    "# from https://plus.maths.org/content/computing-mandelbrot-set\n",
    "\n",
    "def tiles(tsinfo, z, x, y):\n",
    "    [from_x, from_y, to_x, to_y] = hgut.tile_bounds(tsinfo, z, x, y)\n",
    "    tile_size = tsinfo['bins_per_dimension'] if 'bins_per_dimension' in tsinfo else 256\n",
    "    limit = 4\n",
    "    \n",
    "    #print(\"from_x\", from_x, to_x, from_y, to_y)\n",
    "    #points = mandelbrot(from_x, from_y, to_x, to_y, tile_size)\n",
    "    points = mandelbrot_set2(from_x, to_x, from_y, to_y)\n",
    "    #print(\"points:\", points)\n",
    "\n",
    "    \n",
    "    # ravel because the points are returned as a 2D array\n",
    "    #return points.ravel()\n",
    "    return hgfo.format_dense_tile(points.ravel())\n",
    "    \n",
    "tilesets = [{\n",
    "    'uuid': 'a',\n",
    "    'handlers': {\n",
    "        'tileset_info': tileset_info,\n",
    "        'tiles': ft.partial(hgut.tiles_wrapper_2d, \n",
    "                            tiles_function=ft.partial(tiles, tileset_info()))\n",
    "    }},\n",
    "    {\n",
    "        'uuid': 'b',\n",
    "        'filepath': op.expanduser('~/Dropbox/paper-data/gaia/cooler.mcool')\n",
    "    }\n",
    "]\n",
    "\n",
    "ts = hfti.Tileset(\n",
    "    uuid = 'a',\n",
    "    tileset_info = tileset_info,\n",
    "                 tiles=ft.partial(hgut.tiles_wrapper_2d, \n",
    "                            tiles_function=ft.partial(tiles, tileset_info())) )\n",
    "ts1 = hfti.cooler(uuid='b', filepath=op.expanduser('~/Dropbox/paper-data/gaia/cooler.mcool'))\n",
    "\n",
    "server=hfse.start([ts, ts1])\n",
    "#points = tiles(tsinfo, 1, 1, 1)"
   ]
  },
  {
   "cell_type": "code",
   "execution_count": 10,
   "metadata": {},
   "outputs": [
    {
     "name": "stdout",
     "output_type": "stream",
     "text": [
      "{\n",
      "  \"a\": {\n",
      "    \"bins_per_dimension\": 256, \n",
      "    \"max_pos\": [\n",
      "      2.5, \n",
      "      2.5\n",
      "    ], \n",
      "    \"max_width\": 5, \n",
      "    \"max_zoom\": 50, \n",
      "    \"min_pos\": [\n",
      "      -2.5, \n",
      "      -2.5\n",
      "    ], \n",
      "    \"mirror_tiles\": \"false\"\n",
      "  }\n",
      "}\n"
     ]
    }
   ],
   "source": [
    "!curl localhost:{server.port}/api/v1/tileset_info/?d={ts.uuid}"
   ]
  },
  {
   "cell_type": "code",
   "execution_count": 25,
   "metadata": {},
   "outputs": [
    {
     "data": {
      "text/plain": [
       "<Process(Process-5, started)>"
      ]
     },
     "execution_count": 25,
     "metadata": {},
     "output_type": "execute_result"
    }
   ],
   "source": [
    "server.process"
   ]
  },
  {
   "cell_type": "code",
   "execution_count": 26,
   "metadata": {},
   "outputs": [
    {
     "data": {
      "application/vnd.jupyter.widget-view+json": {
       "model_id": "65c8cdbeeddd416eb044214681728945",
       "version_major": 2,
       "version_minor": 0
      },
      "text/plain": [
       "A Jupyter Widget"
      ]
     },
     "metadata": {},
     "output_type": "display_data"
    }
   ],
   "source": [
    "import json\n",
    "\n",
    "conf = hgc.HiGlassConfig()\n",
    "view = conf.add_view(x=0,y=0, width=6, height=12)\n",
    "view.add_track('a', 'heatmap', 'center', \n",
    "               server=server.api_address,\n",
    "               height=400, options={\n",
    "               })\n",
    "view.add_track(None, 'top-axis', 'top')\n",
    "view.add_track(None, 'left-axis', 'left')\n",
    "\n",
    "view2 = conf.add_view(x=6,y=0, width=6, height=12)\n",
    "view2.add_track('b', 'heatmap', 'center', \n",
    "               server=server.api_address)\n",
    "\n",
    "#print(hgc.to_json_string())\n",
    "import higlass_jupyter\n",
    "higlass_jupyter.HiGlassDisplay(viewconf=conf.to_json_string(), \n",
    "                               hg_options='{\"bounded\": false, \"renderer\": \"canvas\"}')"
   ]
  },
  {
   "cell_type": "code",
   "execution_count": null,
   "metadata": {
    "collapsed": true
   },
   "outputs": [],
   "source": []
  },
  {
   "cell_type": "code",
   "execution_count": null,
   "metadata": {
    "collapsed": true
   },
   "outputs": [],
   "source": []
  }
 ],
 "metadata": {
  "kernelspec": {
   "display_name": "Python 3",
   "language": "python",
   "name": "python3"
  },
  "language_info": {
   "codemirror_mode": {
    "name": "ipython",
    "version": 3
   },
   "file_extension": ".py",
   "mimetype": "text/x-python",
   "name": "python",
   "nbconvert_exporter": "python",
   "pygments_lexer": "ipython3",
   "version": "3.6.3"
  }
 },
 "nbformat": 4,
 "nbformat_minor": 2
}
