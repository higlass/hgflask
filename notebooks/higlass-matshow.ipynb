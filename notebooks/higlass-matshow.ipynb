{
 "cells": [
  {
   "cell_type": "markdown",
   "metadata": {},
   "source": [
    "**Note**: To automatically get the current hostname from the frontend, do not \"Restart and Run All\": make sure the following JS cell is executed and output *before* subsequent cells are run. Alternatively, set the variable `LOCATION` to the current hostname manually in a Python cell."
   ]
  },
  {
   "cell_type": "code",
   "execution_count": null,
   "metadata": {
    "ExecuteTime": {
     "end_time": "2018-11-16T16:07:02.263851Z",
     "start_time": "2018-11-16T16:07:02.247886Z"
    }
   },
   "outputs": [],
   "source": [
    "%%javascript\n",
    "\n",
    "IPython.notebook.kernel.execute('LOCATION = \"' + window.location.href + '\"');"
   ]
  },
  {
   "cell_type": "code",
   "execution_count": null,
   "metadata": {
    "ExecuteTime": {
     "end_time": "2018-11-16T16:07:03.011495Z",
     "start_time": "2018-11-16T16:07:02.962264Z"
    }
   },
   "outputs": [],
   "source": [
    "import numpy as np\n",
    "\n",
    "\n",
    "def get_host():\n",
    "    from urllib.parse import urlsplit\n",
    "    parts = urlsplit(LOCATION)\n",
    "    return parts.netloc.split(':')[0]\n",
    "\n",
    "\n",
    "def lena():\n",
    "    import requests\n",
    "    import pickle\n",
    "    from io import BytesIO\n",
    "    r = requests.get('https://github.com/minrk/scipy-1/blob/master/scipy/misc/lena.dat?raw=true')\n",
    "    lena = np.array(pickle.load(BytesIO(r.content)))\n",
    "    return lena.astype(float)"
   ]
  },
  {
   "cell_type": "code",
   "execution_count": null,
   "metadata": {
    "ExecuteTime": {
     "end_time": "2018-11-16T16:07:03.357531Z",
     "start_time": "2018-11-16T16:07:03.350499Z"
    }
   },
   "outputs": [],
   "source": [
    "get_host()"
   ]
  },
  {
   "cell_type": "code",
   "execution_count": null,
   "metadata": {
    "ExecuteTime": {
     "end_time": "2018-11-16T16:07:04.406857Z",
     "start_time": "2018-11-16T16:07:03.672176Z"
    }
   },
   "outputs": [],
   "source": [
    "from higlass_jupyter import HiGlassDisplay\n",
    "from hgflask.tilesets import Tileset\n",
    "import hgtiles.npmatrix\n",
    "\n",
    "data1 = lena()\n",
    "ts1 = Tileset(\n",
    "    \"Lena\",\n",
    "    \"matrix\",\n",
    "    tileset_info=lambda: hgtiles.npmatrix.tileset_info(data1),\n",
    "    tiles=lambda tids: hgtiles.npmatrix.tiles_wrapper(data1, tids)\n",
    ")\n",
    "\n",
    "data2 = np.random.rand(1000, 1000)\n",
    "ts2 = Tileset(\n",
    "    \"random\",\n",
    "    \"matrix\",\n",
    "    tileset_info=lambda: hgtiles.npmatrix.tileset_info(data2),\n",
    "    tiles=lambda tids: hgtiles.npmatrix.tiles_wrapper(data2, tids)\n",
    ")\n",
    "\n",
    "ts1.uuid"
   ]
  },
  {
   "cell_type": "code",
   "execution_count": null,
   "metadata": {
    "ExecuteTime": {
     "end_time": "2018-11-16T16:07:04.712399Z",
     "start_time": "2018-11-16T16:07:04.409961Z"
    },
    "scrolled": true
   },
   "outputs": [],
   "source": [
    "import hgflask.server as hgserver\n",
    "import hgflask.client as hgclient\n",
    "\n",
    "PORT = 8888\n",
    "server = hgserver.Server(tilesets=[ts1, ts2], host=get_host(), port=PORT)\n",
    "server.start(log_file='/tmp/hgserver.log')\n",
    "server.api_address"
   ]
  },
  {
   "cell_type": "code",
   "execution_count": null,
   "metadata": {
    "ExecuteTime": {
     "end_time": "2018-11-16T16:07:04.719346Z",
     "start_time": "2018-11-16T16:07:04.715424Z"
    }
   },
   "outputs": [],
   "source": [
    "server.api_address"
   ]
  },
  {
   "cell_type": "code",
   "execution_count": null,
   "metadata": {
    "ExecuteTime": {
     "end_time": "2018-11-16T16:07:28.559976Z",
     "start_time": "2018-11-16T16:07:28.539135Z"
    }
   },
   "outputs": [],
   "source": [
    "conf = hgclient.ViewConf([\n",
    "    hgclient.View([\n",
    "        hgclient.Track(track_type='top-axis', position='top'),\n",
    "        hgclient.Track(track_type='left-axis', position='left'),\n",
    "        hgclient.Track(track_type='left-axis', position='right'),\n",
    "        hgclient.Track(track_type='top-axis', position='bottom'),\n",
    "        hgclient.Track(\n",
    "            track_type='heatmap',\n",
    "            position='center',\n",
    "            tileset_uuid=ts1.uuid, \n",
    "            api_url=server.api_address,\n",
    "            height=450,\n",
    "            options={\n",
    "                'name': 'Lena' ,\n",
    "                'valueScaleMin': 0, \n",
    "                'valueScaleMax': 256,\n",
    "                \"heatmapValueScaling\": \"linear\",      \n",
    "                 \"colorRange\": [\n",
    "                    \"rgba(0,0,0,1.0)\",\n",
    "                    \"rgba(21,83,76,1.0)\",\n",
    "                    \"rgba(162,121,74,1.0)\",\n",
    "                    \"rgba(199,180,238,1.0)\",\n",
    "                    \"rgba(256,256,256,1.0)\"\n",
    "                  ],\n",
    "                }),\n",
    "    ])\n",
    "])\n",
    "d = conf.to_dict()\n",
    "d[\"trackSourceServers\"] = [server.api_address]\n",
    "\n",
    "HiGlassDisplay(viewconf=d)"
   ]
  },
  {
   "cell_type": "markdown",
   "metadata": {},
   "source": [
    "You can also view this in full screen by loading the following JSON config into https://higlass.io"
   ]
  },
  {
   "cell_type": "code",
   "execution_count": null,
   "metadata": {
    "ExecuteTime": {
     "end_time": "2018-11-16T16:07:32.092913Z",
     "start_time": "2018-11-16T16:07:32.090099Z"
    }
   },
   "outputs": [],
   "source": [
    "import json\n",
    "print(json.dumps(d, indent=2))"
   ]
  },
  {
   "cell_type": "code",
   "execution_count": null,
   "metadata": {},
   "outputs": [],
   "source": []
  },
  {
   "cell_type": "code",
   "execution_count": null,
   "metadata": {},
   "outputs": [],
   "source": []
  },
  {
   "cell_type": "code",
   "execution_count": null,
   "metadata": {},
   "outputs": [],
   "source": []
  }
 ],
 "metadata": {
  "gist": {
   "data": {
    "description": "higlass-matshow lena",
    "public": false
   },
   "id": ""
  },
  "kernelspec": {
   "display_name": "Python 3",
   "language": "python",
   "name": "python3"
  },
  "language_info": {
   "codemirror_mode": {
    "name": "ipython",
    "version": 3
   },
   "file_extension": ".py",
   "mimetype": "text/x-python",
   "name": "python",
   "nbconvert_exporter": "python",
   "pygments_lexer": "ipython3",
   "version": "3.6.7"
  },
  "toc": {
   "toc_cell": false,
   "toc_number_sections": true,
   "toc_threshold": 6,
   "toc_window_display": false
  }
 },
 "nbformat": 4,
 "nbformat_minor": 2
}
