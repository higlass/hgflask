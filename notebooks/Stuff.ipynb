{
 "cells": [
  {
   "cell_type": "code",
   "execution_count": 26,
   "metadata": {},
   "outputs": [
    {
     "name": "stdout",
     "output_type": "stream",
     "text": [
      "The autoreload extension is already loaded. To reload it, use:\n",
      "  %reload_ext autoreload\n"
     ]
    }
   ],
   "source": [
    "%load_ext autoreload\n",
    "%autoreload 2"
   ]
  },
  {
   "cell_type": "code",
   "execution_count": 27,
   "metadata": {},
   "outputs": [
    {
     "name": "stdout",
     "output_type": "stream",
     "text": [
      "diskcache_directory /tmp/hgflask/dc True\n",
      "starting fuse\n",
      "dc_dir /tmp/hgflask/dc 33554432\n",
      "filepath http://hgdownload.cse.ucsc.edu/goldenpath/hg19/encodeDCC/wgEncodeSydhTfbs/wgEncodeSydhTfbsGm12878InputStdSig.bigWig\n",
      "terminating: DgYS4rN_RSWMh136fKR1gg\n"
     ]
    },
    {
     "name": "stderr",
     "output_type": "stream",
     "text": [
      " * Running on http://0.0.0.0:59545/ (Press CTRL+C to quit)\n"
     ]
    },
    {
     "name": "stdout",
     "output_type": "stream",
     "text": [
      "sleeping\n"
     ]
    },
    {
     "name": "stderr",
     "output_type": "stream",
     "text": [
      "127.0.0.1 - - [20/Sep/2018 22:44:33] \"\u001b[37mGET /api/v1/tileset_info/?d=x HTTP/1.1\u001b[0m\" 200 -\n"
     ]
    },
    {
     "name": "stdout",
     "output_type": "stream",
     "text": [
      "returning\n",
      "filetype: bigwig\n",
      "read 0 65536\n",
      "sending request: bytes=0-65535\n"
     ]
    },
    {
     "name": "stderr",
     "output_type": "stream",
     "text": [
      "127.0.0.1 - - [20/Sep/2018 22:44:34] \"\u001b[37mGET /api/v1/tileset_info/?d=a HTTP/1.1\u001b[0m\" 200 -\n"
     ]
    },
    {
     "name": "stdout",
     "output_type": "stream",
     "text": [
      "read 65536 65536\n",
      "sending request: bytes=65536-131071\n",
      "read 302645248 8192\n",
      "sending request: bytes=302645248-302710783\n",
      "read 302534656 24576\n",
      "sending request: bytes=302514176-302579711\n",
      "read 302571520 24576\n",
      "sending request: bytes=302514176-302579711\n",
      "sending request: bytes=302579712-302645247\n",
      "read 302596096 20480\n",
      "sending request: bytes=302579712-302645247\n",
      "read 302616576 20480\n",
      "sending request: bytes=302579712-302645247\n",
      "read 302637056 8192\n",
      "sending request: bytes=302579712-302645247\n",
      "read 302559232 12288\n",
      "sending request: bytes=302514176-302579711\n",
      "read 300412928 8192\n",
      "sending request: bytes=300351488-300417023\n",
      "sending request: bytes=300417024-300482559\n",
      "read 300429312 8192\n",
      "sending request: bytes=300417024-300482559\n",
      "read 300056576 24576\n",
      "sending request: bytes=300023808-300089343\n"
     ]
    },
    {
     "name": "stderr",
     "output_type": "stream",
     "text": [
      "127.0.0.1 - - [20/Sep/2018 22:44:41] \"\u001b[37mGET /api/v1/tiles/?d=a.0.0 HTTP/1.1\u001b[0m\" 200 -\n"
     ]
    }
   ],
   "source": [
    "import hgflask as hgf\n",
    "\n",
    "tilesets = [{\n",
    "    'filepath': 'http://hgdownload.cse.ucsc.edu/goldenpath/hg19/encodeDCC/wgEncodeSydhTfbs/wgEncodeSydhTfbsGm12878InputStdSig.bigWig',\n",
    "    'uuid': 'a'\n",
    "}]\n",
    "\n",
    "server = hgf.start(tilesets)"
   ]
  },
  {
   "cell_type": "code",
   "execution_count": 28,
   "metadata": {},
   "outputs": [
    {
     "name": "stdout",
     "output_type": "stream",
     "text": [
      "CPU times: user 24.3 ms, sys: 27.3 ms, total: 51.6 ms\n",
      "Wall time: 8.07 s\n"
     ]
    }
   ],
   "source": [
    "%%time \n",
    "\n",
    "server.tileset_info('a')\n",
    "server.tiles('a', 0, 0)"
   ]
  },
  {
   "cell_type": "code",
   "execution_count": null,
   "metadata": {
    "collapsed": true
   },
   "outputs": [],
   "source": []
  }
 ],
 "metadata": {
  "kernelspec": {
   "display_name": "Python 3",
   "language": "python",
   "name": "python3"
  },
  "language_info": {
   "codemirror_mode": {
    "name": "ipython",
    "version": 3
   },
   "file_extension": ".py",
   "mimetype": "text/x-python",
   "name": "python",
   "nbconvert_exporter": "python",
   "pygments_lexer": "ipython3",
   "version": "3.6.3"
  }
 },
 "nbformat": 4,
 "nbformat_minor": 2
}
