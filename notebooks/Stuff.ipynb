{
 "cells": [
  {
   "cell_type": "code",
   "execution_count": 5,
   "metadata": {},
   "outputs": [
    {
     "name": "stdout",
     "output_type": "stream",
     "text": [
      "The autoreload extension is already loaded. To reload it, use:\n",
      "  %reload_ext autoreload\n"
     ]
    }
   ],
   "source": [
    "%load_ext autoreload\n",
    "%autoreload 2"
   ]
  },
  {
   "cell_type": "code",
   "execution_count": 6,
   "metadata": {},
   "outputs": [
    {
     "name": "stdout",
     "output_type": "stream",
     "text": [
      "diskcache_directory /tmp/hgflask/dc True\n",
      "starting fuse\n",
      "dc_dir /tmp/hgflask/dc 33554432\n",
      "filepath http://hgdownload.cse.ucsc.edu/goldenpath/hg19/encodeDCC/wgEncodeSydhTfbs/wgEncodeSydhTfbsGm12878InputStdSig.bigWig\n",
      "terminating: F6ODIQL-S8iwUW_4us_wLA\n"
     ]
    },
    {
     "name": "stderr",
     "output_type": "stream",
     "text": [
      " * Running on http://0.0.0.0:56496/ (Press CTRL+C to quit)\n"
     ]
    },
    {
     "name": "stdout",
     "output_type": "stream",
     "text": [
      "sleeping\n"
     ]
    },
    {
     "name": "stderr",
     "output_type": "stream",
     "text": [
      "127.0.0.1 - - [24/Sep/2018 21:41:58] \"\u001b[37mGET /api/v1/tileset_info/?d=x HTTP/1.1\u001b[0m\" 200 -\n"
     ]
    },
    {
     "name": "stdout",
     "output_type": "stream",
     "text": [
      "returning\n",
      "filetype: bigwig\n",
      "read 0 65536\n",
      "sending request: bytes=0-65535\n"
     ]
    },
    {
     "name": "stderr",
     "output_type": "stream",
     "text": [
      "127.0.0.1 - - [24/Sep/2018 21:41:59] \"\u001b[37mGET /api/v1/tileset_info/?d=a HTTP/1.1\u001b[0m\" 200 -\n",
      "127.0.0.1 - - [24/Sep/2018 21:41:59] \"\u001b[37mOPTIONS /api/v1/tileset_info/?d=a&s=ZJQoeGk1RsiLeOnY4eZzHQ HTTP/1.1\u001b[0m\" 200 -\n"
     ]
    },
    {
     "name": "stdout",
     "output_type": "stream",
     "text": [
      "filetype: bigwig\n",
      "read 65536 65536\n",
      "sending request: bytes=65536-131071\n"
     ]
    },
    {
     "name": "stderr",
     "output_type": "stream",
     "text": [
      "127.0.0.1 - - [24/Sep/2018 21:42:00] \"\u001b[37mGET /api/v1/tileset_info/?d=a&s=ZJQoeGk1RsiLeOnY4eZzHQ HTTP/1.1\u001b[0m\" 200 -\n",
      "127.0.0.1 - - [24/Sep/2018 21:42:00] \"\u001b[37mOPTIONS /api/v1/tiles/?d=a.22.0&d=a.0.0&s=ZJQoeGk1RsiLeOnY4eZzHQ HTTP/1.1\u001b[0m\" 200 -\n"
     ]
    },
    {
     "name": "stdout",
     "output_type": "stream",
     "text": [
      "read 302645248 8192\n",
      "sending request: bytes=302645248-302710783\n",
      "read 302534656 24576\n",
      "sending request: bytes=302514176-302579711\n",
      "read 302571520 24576\n",
      "sending request: bytes=302514176-302579711\n",
      "sending request: bytes=302579712-302645247\n",
      "read 302596096 20480\n",
      "sending request: bytes=302579712-302645247\n",
      "read 302616576 20480\n",
      "sending request: bytes=302579712-302645247\n",
      "read 302637056 8192\n",
      "sending request: bytes=302579712-302645247\n",
      "read 302559232 12288\n",
      "sending request: bytes=302514176-302579711\n",
      "read 300412928 8192\n",
      "sending request: bytes=300351488-300417023\n",
      "sending request: bytes=300417024-300482559\n",
      "read 300429312 8192\n",
      "sending request: bytes=300417024-300482559\n",
      "read 300056576 24576\n",
      "sending request: bytes=300023808-300089343\n",
      "read 208011264 8192\n",
      "sending request: bytes=208011264-208076799\n",
      "read 208019456 4096\n",
      "sending request: bytes=208011264-208076799\n",
      "read 208023552 8192\n",
      "sending request: bytes=208011264-208076799\n"
     ]
    },
    {
     "name": "stderr",
     "output_type": "stream",
     "text": [
      "127.0.0.1 - - [24/Sep/2018 21:42:08] \"\u001b[37mGET /api/v1/tiles/?d=a.22.0&d=a.0.0&s=ZJQoeGk1RsiLeOnY4eZzHQ HTTP/1.1\u001b[0m\" 200 -\n",
      "127.0.0.1 - - [24/Sep/2018 21:42:11] \"\u001b[37mOPTIONS /api/v1/tiles/?d=a.1.0&d=a.1.1&s=ZJQoeGk1RsiLeOnY4eZzHQ HTTP/1.1\u001b[0m\" 200 -\n",
      "127.0.0.1 - - [24/Sep/2018 21:42:11] \"\u001b[37mGET /api/v1/tiles/?d=a.1.0&d=a.1.1&s=ZJQoeGk1RsiLeOnY4eZzHQ HTTP/1.1\u001b[0m\" 200 -\n",
      "127.0.0.1 - - [24/Sep/2018 21:42:13] \"\u001b[37mOPTIONS /api/v1/tiles/?d=a.2.1&d=a.2.2&s=ZJQoeGk1RsiLeOnY4eZzHQ HTTP/1.1\u001b[0m\" 200 -\n"
     ]
    },
    {
     "name": "stdout",
     "output_type": "stream",
     "text": [
      "read 302526464 8192\n",
      "sending request: bytes=302514176-302579711\n",
      "read 302198784 20480\n",
      "sending request: bytes=302186496-302252031\n",
      "read 302219264 20480\n",
      "sending request: bytes=302186496-302252031\n",
      "read 302239744 20480\n",
      "sending request: bytes=302186496-302252031\n",
      "sending request: bytes=302252032-302317567\n",
      "read 302260224 16384\n",
      "sending request: bytes=302252032-302317567\n",
      "read 302276608 20480\n",
      "sending request: bytes=302252032-302317567\n",
      "read 302313472 20480\n",
      "sending request: bytes=302252032-302317567\n",
      "sending request: bytes=302317568-302383103\n",
      "read 302333952 20480\n",
      "sending request: bytes=302317568-302383103\n",
      "read 302501888 24576\n",
      "sending request: bytes=302448640-302514175\n",
      "sending request: bytes=302514176-302579711\n",
      "read 302407680 40960\n",
      "sending request: bytes=302383104-302448639\n",
      "read 302448640 36864\n",
      "sending request: bytes=302448640-302514175\n",
      "read 302485504 16384\n",
      "sending request: bytes=302448640-302514175\n",
      "read 302120960 40960\n",
      "sending request: bytes=302120960-302186495\n",
      "read 302161920 20480\n",
      "sending request: bytes=302120960-302186495\n",
      "read 302182400 16384\n",
      "sending request: bytes=302120960-302186495\n",
      "sending request: bytes=302186496-302252031\n"
     ]
    },
    {
     "name": "stderr",
     "output_type": "stream",
     "text": [
      "127.0.0.1 - - [24/Sep/2018 21:42:23] \"\u001b[37mGET /api/v1/tiles/?d=a.2.1&d=a.2.2&s=ZJQoeGk1RsiLeOnY4eZzHQ HTTP/1.1\u001b[0m\" 200 -\n",
      "127.0.0.1 - - [24/Sep/2018 21:42:26] \"\u001b[37mOPTIONS /api/v1/tiles/?d=a.3.3&d=a.3.4&s=ZJQoeGk1RsiLeOnY4eZzHQ HTTP/1.1\u001b[0m\" 200 -\n",
      "127.0.0.1 - - [24/Sep/2018 21:42:26] \"\u001b[37mGET /api/v1/tiles/?d=a.3.3&d=a.3.4&s=ZJQoeGk1RsiLeOnY4eZzHQ HTTP/1.1\u001b[0m\" 200 -\n",
      "127.0.0.1 - - [24/Sep/2018 21:42:27] \"\u001b[37mOPTIONS /api/v1/tiles/?d=a.4.7&s=ZJQoeGk1RsiLeOnY4eZzHQ HTTP/1.1\u001b[0m\" 200 -\n"
     ]
    },
    {
     "name": "stdout",
     "output_type": "stream",
     "text": [
      "read 302096384 8192\n",
      "sending request: bytes=302055424-302120959\n",
      "read 300679168 57344\n",
      "sending request: bytes=300679168-300744703\n",
      "read 300736512 65536\n",
      "sending request: bytes=300679168-300744703\n",
      "sending request: bytes=300744704-300810239\n",
      "read 300802048 12288\n",
      "sending request: bytes=300744704-300810239\n",
      "sending request: bytes=300810240-300875775\n",
      "read 300814336 16384\n",
      "sending request: bytes=300810240-300875775\n"
     ]
    },
    {
     "name": "stderr",
     "output_type": "stream",
     "text": [
      "127.0.0.1 - - [24/Sep/2018 21:42:30] \"\u001b[37mGET /api/v1/tiles/?d=a.4.7&s=ZJQoeGk1RsiLeOnY4eZzHQ HTTP/1.1\u001b[0m\" 200 -\n",
      "127.0.0.1 - - [24/Sep/2018 21:42:30] \"\u001b[37mOPTIONS /api/v1/tiles/?d=a.5.14&d=a.6.28&d=a.6.29&s=ZJQoeGk1RsiLeOnY4eZzHQ HTTP/1.1\u001b[0m\" 200 -\n",
      "127.0.0.1 - - [24/Sep/2018 21:42:30] \"\u001b[37mOPTIONS /api/v1/tiles/?d=a.3.4&d=a.2.1&d=a.2.2&s=ZJQoeGk1RsiLeOnY4eZzHQ HTTP/1.1\u001b[0m\" 200 -\n",
      "127.0.0.1 - - [24/Sep/2018 21:42:30] \"\u001b[37mOPTIONS /api/v1/tiles/?d=a.1.0&d=a.1.1&s=ZJQoeGk1RsiLeOnY4eZzHQ HTTP/1.1\u001b[0m\" 200 -\n"
     ]
    },
    {
     "name": "stdout",
     "output_type": "stream",
     "text": [
      "read 300421120 8192\n",
      "sending request: bytes=300417024-300482559\n",
      "read 300437504 8192\n",
      "sending request: bytes=300417024-300482559\n",
      "read 295215104 40960\n",
      "sending request: bytes=295174144-295239679\n",
      "sending request: bytes=295239680-295305215\n",
      "read 295256064 65536\n",
      "sending request: bytes=295239680-295305215\n",
      "sending request: bytes=295305216-295370751\n",
      "read 295321600 57344\n",
      "sending request: bytes=295305216-295370751\n",
      "sending request: bytes=295370752-295436287\n"
     ]
    },
    {
     "name": "stderr",
     "output_type": "stream",
     "text": [
      "127.0.0.1 - - [24/Sep/2018 21:42:35] \"\u001b[37mGET /api/v1/tiles/?d=a.5.14&d=a.6.28&d=a.6.29&s=ZJQoeGk1RsiLeOnY4eZzHQ HTTP/1.1\u001b[0m\" 200 -\n",
      "127.0.0.1 - - [24/Sep/2018 21:42:35] \"\u001b[37mGET /api/v1/tiles/?d=a.3.4&d=a.2.1&d=a.2.2&s=ZJQoeGk1RsiLeOnY4eZzHQ HTTP/1.1\u001b[0m\" 200 -\n",
      "127.0.0.1 - - [24/Sep/2018 21:42:35] \"\u001b[37mGET /api/v1/tiles/?d=a.1.0&d=a.1.1&s=ZJQoeGk1RsiLeOnY4eZzHQ HTTP/1.1\u001b[0m\" 200 -\n",
      "127.0.0.1 - - [24/Sep/2018 21:42:35] \"\u001b[37mOPTIONS /api/v1/tiles/?d=a.4.6&d=a.5.12&d=a.5.13&d=a.6.25&d=a.6.26&s=ZJQoeGk1RsiLeOnY4eZzHQ HTTP/1.1\u001b[0m\" 200 -\n",
      "127.0.0.1 - - [24/Sep/2018 21:42:35] \"\u001b[37mOPTIONS /api/v1/tiles/?d=a.7.51&d=a.8.102&d=a.8.103&s=ZJQoeGk1RsiLeOnY4eZzHQ HTTP/1.1\u001b[0m\" 200 -\n",
      "127.0.0.1 - - [24/Sep/2018 21:42:35] \"\u001b[37mOPTIONS /api/v1/tiles/?d=a.9.205&s=ZJQoeGk1RsiLeOnY4eZzHQ HTTP/1.1\u001b[0m\" 200 -\n"
     ]
    },
    {
     "name": "stdout",
     "output_type": "stream",
     "text": [
      "read 301944832 65536\n",
      "sending request: bytes=301924352-301989887\n",
      "sending request: bytes=301989888-302055423\n",
      "read 302010368 12288\n",
      "sending request: bytes=301989888-302055423\n",
      "read 300568576 65536\n",
      "sending request: bytes=300548096-300613631\n",
      "sending request: bytes=300613632-300679167\n",
      "read 300634112 28672\n",
      "sending request: bytes=300613632-300679167\n",
      "read 300662784 16384\n",
      "sending request: bytes=300613632-300679167\n",
      "read 300040192 16384\n",
      "sending request: bytes=300023808-300089343\n",
      "read 294649856 65536\n",
      "sending request: bytes=294649856-294715391\n",
      "read 294715392 65536\n",
      "sending request: bytes=294715392-294780927\n",
      "read 294780928 32768\n",
      "sending request: bytes=294780928-294846463\n"
     ]
    },
    {
     "name": "stderr",
     "output_type": "stream",
     "text": [
      "127.0.0.1 - - [24/Sep/2018 21:42:41] \"\u001b[37mGET /api/v1/tiles/?d=a.4.6&d=a.5.12&d=a.5.13&d=a.6.25&d=a.6.26&s=ZJQoeGk1RsiLeOnY4eZzHQ HTTP/1.1\u001b[0m\" 200 -\n",
      "127.0.0.1 - - [24/Sep/2018 21:42:42] \"\u001b[37mGET /api/v1/tiles/?d=a.7.51&d=a.8.102&d=a.8.103&s=ZJQoeGk1RsiLeOnY4eZzHQ HTTP/1.1\u001b[0m\" 200 -\n"
     ]
    },
    {
     "name": "stdout",
     "output_type": "stream",
     "text": [
      "read 294117376 8192\n",
      "sending request: bytes=294060032-294125567\n",
      "read 294125568 4096\n",
      "sending request: bytes=294125568-294191103\n",
      "read 294129664 8192\n",
      "sending request: bytes=294125568-294191103\n",
      "read 294137856 16384\n",
      "sending request: bytes=294125568-294191103\n",
      "read 274452480 49152\n",
      "sending request: bytes=274399232-274464767\n",
      "sending request: bytes=274464768-274530303\n"
     ]
    },
    {
     "name": "stderr",
     "output_type": "stream",
     "text": [
      "127.0.0.1 - - [24/Sep/2018 21:42:45] \"\u001b[37mGET /api/v1/tiles/?d=a.9.205&s=ZJQoeGk1RsiLeOnY4eZzHQ HTTP/1.1\u001b[0m\" 200 -\n",
      "127.0.0.1 - - [24/Sep/2018 21:42:45] \"\u001b[37mOPTIONS /api/v1/tiles/?d=a.6.24&d=a.7.48&d=a.7.49&s=ZJQoeGk1RsiLeOnY4eZzHQ HTTP/1.1\u001b[0m\" 200 -\n",
      "127.0.0.1 - - [24/Sep/2018 21:42:45] \"\u001b[37mOPTIONS /api/v1/tiles/?d=a.5.11&s=ZJQoeGk1RsiLeOnY4eZzHQ HTTP/1.1\u001b[0m\" 200 -\n",
      "127.0.0.1 - - [24/Sep/2018 21:42:45] \"\u001b[37mOPTIONS /api/v1/tiles/?d=a.4.5&s=ZJQoeGk1RsiLeOnY4eZzHQ HTTP/1.1\u001b[0m\" 200 -\n",
      "127.0.0.1 - - [24/Sep/2018 21:42:45] \"\u001b[37mOPTIONS /api/v1/tiles/?d=a.3.2&s=ZJQoeGk1RsiLeOnY4eZzHQ HTTP/1.1\u001b[0m\" 200 -\n"
     ]
    },
    {
     "name": "stdout",
     "output_type": "stream",
     "text": [
      "read 299970560 65536\n",
      "sending request: bytes=299958272-300023807\n",
      "sending request: bytes=300023808-300089343\n",
      "read 300036096 4096\n",
      "sending request: bytes=300023808-300089343\n",
      "read 299900928 65536\n",
      "sending request: bytes=299892736-299958271\n",
      "sending request: bytes=299958272-300023807\n",
      "read 299966464 4096\n",
      "sending request: bytes=299958272-300023807\n"
     ]
    },
    {
     "name": "stderr",
     "output_type": "stream",
     "text": [
      "127.0.0.1 - - [24/Sep/2018 21:42:48] \"\u001b[37mGET /api/v1/tiles/?d=a.6.24&d=a.7.48&d=a.7.49&s=ZJQoeGk1RsiLeOnY4eZzHQ HTTP/1.1\u001b[0m\" 200 -\n"
     ]
    },
    {
     "name": "stdout",
     "output_type": "stream",
     "text": [
      "read 301887488 57344\n",
      "sending request: bytes=301858816-301924351\n",
      "sending request: bytes=301924352-301989887\n"
     ]
    },
    {
     "name": "stderr",
     "output_type": "stream",
     "text": [
      "127.0.0.1 - - [24/Sep/2018 21:42:49] \"\u001b[37mGET /api/v1/tiles/?d=a.5.11&s=ZJQoeGk1RsiLeOnY4eZzHQ HTTP/1.1\u001b[0m\" 200 -\n"
     ]
    },
    {
     "name": "stdout",
     "output_type": "stream",
     "text": [
      "read 301813760 40960\n",
      "sending request: bytes=301793280-301858815\n",
      "read 301854720 32768\n",
      "sending request: bytes=301793280-301858815\n",
      "sending request: bytes=301858816-301924351\n"
     ]
    },
    {
     "name": "stderr",
     "output_type": "stream",
     "text": [
      "127.0.0.1 - - [24/Sep/2018 21:42:50] \"\u001b[37mGET /api/v1/tiles/?d=a.4.5&s=ZJQoeGk1RsiLeOnY4eZzHQ HTTP/1.1\u001b[0m\" 200 -\n",
      "127.0.0.1 - - [24/Sep/2018 21:42:50] \"\u001b[37mGET /api/v1/tiles/?d=a.3.2&s=ZJQoeGk1RsiLeOnY4eZzHQ HTTP/1.1\u001b[0m\" 200 -\n",
      "127.0.0.1 - - [24/Sep/2018 21:42:54] \"\u001b[37mOPTIONS /api/v1/tiles/?d=a.4.5&d=a.4.6&s=ZJQoeGk1RsiLeOnY4eZzHQ HTTP/1.1\u001b[0m\" 200 -\n",
      "127.0.0.1 - - [24/Sep/2018 21:42:54] \"\u001b[37mGET /api/v1/tiles/?d=a.4.5&d=a.4.6&s=ZJQoeGk1RsiLeOnY4eZzHQ HTTP/1.1\u001b[0m\" 200 -\n",
      "127.0.0.1 - - [24/Sep/2018 21:42:54] \"\u001b[37mOPTIONS /api/v1/tiles/?d=a.5.12&s=ZJQoeGk1RsiLeOnY4eZzHQ HTTP/1.1\u001b[0m\" 200 -\n",
      "127.0.0.1 - - [24/Sep/2018 21:42:54] \"\u001b[37mGET /api/v1/tiles/?d=a.5.12&s=ZJQoeGk1RsiLeOnY4eZzHQ HTTP/1.1\u001b[0m\" 200 -\n",
      "127.0.0.1 - - [24/Sep/2018 21:42:58] \"\u001b[37mOPTIONS /api/v1/tiles/?d=a.4.5&d=a.4.6&d=a.3.2&d=a.3.3&s=ZJQoeGk1RsiLeOnY4eZzHQ HTTP/1.1\u001b[0m\" 200 -\n",
      "127.0.0.1 - - [24/Sep/2018 21:42:58] \"\u001b[37mGET /api/v1/tiles/?d=a.4.5&d=a.4.6&d=a.3.2&d=a.3.3&s=ZJQoeGk1RsiLeOnY4eZzHQ HTTP/1.1\u001b[0m\" 200 -\n",
      "127.0.0.1 - - [24/Sep/2018 21:42:58] \"\u001b[37mOPTIONS /api/v1/tiles/?d=a.4.5&d=a.4.6&s=ZJQoeGk1RsiLeOnY4eZzHQ HTTP/1.1\u001b[0m\" 200 -\n",
      "127.0.0.1 - - [24/Sep/2018 21:42:58] \"\u001b[37mGET /api/v1/tiles/?d=a.4.5&d=a.4.6&s=ZJQoeGk1RsiLeOnY4eZzHQ HTTP/1.1\u001b[0m\" 200 -\n",
      "127.0.0.1 - - [24/Sep/2018 21:42:59] \"\u001b[37mOPTIONS /api/v1/tiles/?d=a.3.2&d=a.3.3&d=a.2.1&s=ZJQoeGk1RsiLeOnY4eZzHQ HTTP/1.1\u001b[0m\" 200 -\n",
      "127.0.0.1 - - [24/Sep/2018 21:42:59] \"\u001b[37mGET /api/v1/tiles/?d=a.3.2&d=a.3.3&d=a.2.1&s=ZJQoeGk1RsiLeOnY4eZzHQ HTTP/1.1\u001b[0m\" 200 -\n",
      "127.0.0.1 - - [24/Sep/2018 21:43:00] \"\u001b[37mOPTIONS /api/v1/tiles/?d=a.3.2&d=a.3.3&d=a.4.5&d=a.4.6&s=ZJQoeGk1RsiLeOnY4eZzHQ HTTP/1.1\u001b[0m\" 200 -\n",
      "127.0.0.1 - - [24/Sep/2018 21:43:00] \"\u001b[37mGET /api/v1/tiles/?d=a.3.2&d=a.3.3&d=a.4.5&d=a.4.6&s=ZJQoeGk1RsiLeOnY4eZzHQ HTTP/1.1\u001b[0m\" 200 -\n",
      "127.0.0.1 - - [24/Sep/2018 21:43:01] \"\u001b[37mOPTIONS /api/v1/tiles/?d=a.5.11&d=a.5.12&s=ZJQoeGk1RsiLeOnY4eZzHQ HTTP/1.1\u001b[0m\" 200 -\n",
      "127.0.0.1 - - [24/Sep/2018 21:43:01] \"\u001b[37mGET /api/v1/tiles/?d=a.5.11&d=a.5.12&s=ZJQoeGk1RsiLeOnY4eZzHQ HTTP/1.1\u001b[0m\" 200 -\n",
      "127.0.0.1 - - [24/Sep/2018 21:43:01] \"\u001b[37mOPTIONS /api/v1/tiles/?d=a.6.23&d=a.6.24&d=a.7.47&d=a.7.48&s=ZJQoeGk1RsiLeOnY4eZzHQ HTTP/1.1\u001b[0m\" 200 -\n"
     ]
    },
    {
     "name": "stdout",
     "output_type": "stream",
     "text": [
      "read 299884544 16384\n",
      "sending request: bytes=299827200-299892735\n",
      "sending request: bytes=299892736-299958271\n"
     ]
    },
    {
     "name": "stderr",
     "output_type": "stream",
     "text": [
      "127.0.0.1 - - [24/Sep/2018 21:43:02] \"\u001b[37mGET /api/v1/tiles/?d=a.6.23&d=a.6.24&d=a.7.47&d=a.7.48&s=ZJQoeGk1RsiLeOnY4eZzHQ HTTP/1.1\u001b[0m\" 200 -\n",
      "127.0.0.1 - - [24/Sep/2018 21:43:02] \"\u001b[37mOPTIONS /api/v1/tiles/?d=a.8.95&d=a.8.96&d=a.9.191&s=ZJQoeGk1RsiLeOnY4eZzHQ HTTP/1.1\u001b[0m\" 200 -\n"
     ]
    },
    {
     "name": "stdout",
     "output_type": "stream",
     "text": [
      "read 294154240 8192\n",
      "sending request: bytes=294125568-294191103\n",
      "read 294162432 4096\n",
      "sending request: bytes=294125568-294191103\n",
      "read 294166528 8192\n",
      "sending request: bytes=294125568-294191103\n",
      "read 294174720 16384\n",
      "sending request: bytes=294125568-294191103\n",
      "read 292347904 45056\n",
      "sending request: bytes=292290560-292356095\n",
      "sending request: bytes=292356096-292421631\n"
     ]
    },
    {
     "name": "stderr",
     "output_type": "stream",
     "text": [
      "127.0.0.1 - - [24/Sep/2018 21:43:06] \"\u001b[37mGET /api/v1/tiles/?d=a.8.95&d=a.8.96&d=a.9.191&s=ZJQoeGk1RsiLeOnY4eZzHQ HTTP/1.1\u001b[0m\" 200 -\n",
      "127.0.0.1 - - [24/Sep/2018 21:43:06] \"\u001b[37mOPTIONS /api/v1/tiles/?d=a.10.382&d=a.10.383&s=ZJQoeGk1RsiLeOnY4eZzHQ HTTP/1.1\u001b[0m\" 200 -\n",
      "127.0.0.1 - - [24/Sep/2018 21:43:06] \"\u001b[37mGET /api/v1/tiles/?d=a.10.382&d=a.10.383&s=ZJQoeGk1RsiLeOnY4eZzHQ HTTP/1.1\u001b[0m\" 200 -\n",
      "127.0.0.1 - - [24/Sep/2018 21:49:18] \"\u001b[37mOPTIONS /api/v1/tiles/?d=a.9.191&s=ZJQoeGk1RsiLeOnY4eZzHQ HTTP/1.1\u001b[0m\" 200 -\n"
     ]
    },
    {
     "name": "stdout",
     "output_type": "stream",
     "text": [
      "read 0 65536\n",
      "sending request: bytes=0-65535\n",
      "read 65536 65536\n",
      "sending request: bytes=65536-131071\n",
      "read 294117376 8192\n",
      "sending request: bytes=294060032-294125567\n",
      "read 294154240 8192\n",
      "sending request: bytes=294125568-294191103\n",
      "read 294162432 4096\n",
      "sending request: bytes=294125568-294191103\n",
      "read 294166528 8192\n",
      "sending request: bytes=294125568-294191103\n",
      "read 294174720 16384\n",
      "sending request: bytes=294125568-294191103\n",
      "read 292347904 45056\n",
      "sending request: bytes=292290560-292356095\n",
      "sending request: bytes=292356096-292421631\n"
     ]
    },
    {
     "name": "stderr",
     "output_type": "stream",
     "text": [
      "127.0.0.1 - - [24/Sep/2018 21:49:23] \"\u001b[37mGET /api/v1/tiles/?d=a.9.191&s=ZJQoeGk1RsiLeOnY4eZzHQ HTTP/1.1\u001b[0m\" 200 -\n",
      "127.0.0.1 - - [24/Sep/2018 21:49:23] \"\u001b[37mOPTIONS /api/v1/tiles/?d=a.11.765&d=a.11.766&s=ZJQoeGk1RsiLeOnY4eZzHQ HTTP/1.1\u001b[0m\" 200 -\n",
      "127.0.0.1 - - [24/Sep/2018 21:49:23] \"\u001b[37mOPTIONS /api/v1/tiles/?d=a.12.1531&s=ZJQoeGk1RsiLeOnY4eZzHQ HTTP/1.1\u001b[0m\" 200 -\n"
     ]
    },
    {
     "name": "stdout",
     "output_type": "stream",
     "text": [
      "read 272236544 8192\n",
      "sending request: bytes=272236544-272302079\n",
      "read 272388096 8192\n",
      "sending request: bytes=272367616-272433151\n",
      "read 272396288 4096\n",
      "sending request: bytes=272367616-272433151\n",
      "read 272400384 8192\n",
      "sending request: bytes=272367616-272433151\n",
      "read 272408576 16384\n",
      "sending request: bytes=272367616-272433151\n",
      "read 267247616 24576\n",
      "sending request: bytes=267190272-267255807\n",
      "sending request: bytes=267255808-267321343\n",
      "read 267272192 8192\n",
      "sending request: bytes=267255808-267321343\n"
     ]
    },
    {
     "name": "stderr",
     "output_type": "stream",
     "text": [
      "127.0.0.1 - - [24/Sep/2018 21:49:27] \"\u001b[37mGET /api/v1/tiles/?d=a.11.765&d=a.11.766&s=ZJQoeGk1RsiLeOnY4eZzHQ HTTP/1.1\u001b[0m\" 200 -\n",
      "127.0.0.1 - - [24/Sep/2018 21:49:27] \"\u001b[37mGET /api/v1/tiles/?d=a.12.1531&s=ZJQoeGk1RsiLeOnY4eZzHQ HTTP/1.1\u001b[0m\" 200 -\n",
      "127.0.0.1 - - [24/Sep/2018 21:49:31] \"\u001b[37mOPTIONS /api/v1/tiles/?d=a.12.1531&d=a.13.3062&d=a.13.3063&s=ZJQoeGk1RsiLeOnY4eZzHQ HTTP/1.1\u001b[0m\" 200 -\n"
     ]
    },
    {
     "name": "stdout",
     "output_type": "stream",
     "text": [
      "read 208011264 8192\n",
      "sending request: bytes=208011264-208076799\n",
      "read 208019456 4096\n",
      "sending request: bytes=208011264-208076799\n",
      "read 208023552 8192\n",
      "sending request: bytes=208011264-208076799\n",
      "read 209346560 8192\n",
      "sending request: bytes=209321984-209387519\n",
      "read 209354752 4096\n",
      "sending request: bytes=209321984-209387519\n",
      "read 209358848 8192\n",
      "sending request: bytes=209321984-209387519\n",
      "read 209367040 16384\n",
      "sending request: bytes=209321984-209387519\n",
      "read 192577536 24576\n",
      "sending request: bytes=192544768-192610303\n",
      "read 192602112 28672\n",
      "sending request: bytes=192544768-192610303\n",
      "sending request: bytes=192610304-192675839\n"
     ]
    },
    {
     "name": "stderr",
     "output_type": "stream",
     "text": [
      "127.0.0.1 - - [24/Sep/2018 21:49:37] \"\u001b[37mGET /api/v1/tiles/?d=a.12.1531&d=a.13.3062&d=a.13.3063&s=ZJQoeGk1RsiLeOnY4eZzHQ HTTP/1.1\u001b[0m\" 200 -\n",
      "127.0.0.1 - - [24/Sep/2018 21:49:37] \"\u001b[37mOPTIONS /api/v1/tiles/?d=a.14.6126&s=ZJQoeGk1RsiLeOnY4eZzHQ HTTP/1.1\u001b[0m\" 200 -\n",
      "127.0.0.1 - - [24/Sep/2018 21:49:37] \"\u001b[37mOPTIONS /api/v1/tiles/?d=a.10.382&d=a.10.383&s=ZJQoeGk1RsiLeOnY4eZzHQ HTTP/1.1\u001b[0m\" 200 -\n",
      "127.0.0.1 - - [24/Sep/2018 21:49:37] \"\u001b[37mGET /api/v1/tiles/?d=a.14.6126&s=ZJQoeGk1RsiLeOnY4eZzHQ HTTP/1.1\u001b[0m\" 200 -\n",
      "127.0.0.1 - - [24/Sep/2018 21:49:37] \"\u001b[37mGET /api/v1/tiles/?d=a.10.382&d=a.10.383&s=ZJQoeGk1RsiLeOnY4eZzHQ HTTP/1.1\u001b[0m\" 200 -\n"
     ]
    }
   ],
   "source": [
    "import hgflask as hgf\n",
    "\n",
    "tilesets = [{\n",
    "    'filepath': 'http://hgdownload.cse.ucsc.edu/goldenpath/hg19/encodeDCC/wgEncodeSydhTfbs/wgEncodeSydhTfbsGm12878InputStdSig.bigWig',\n",
    "    'uuid': 'a'\n",
    "}\n",
    "]\n",
    "\n",
    "server = hgf.start(tilesets)"
   ]
  },
  {
   "cell_type": "code",
   "execution_count": 7,
   "metadata": {},
   "outputs": [
    {
     "name": "stdout",
     "output_type": "stream",
     "text": [
      "CPU times: user 7.57 ms, sys: 7.4 ms, total: 15 ms\n",
      "Wall time: 869 ms\n"
     ]
    },
    {
     "data": {
      "text/plain": [
       "{'filepath': 'http://hgdownload.cse.ucsc.edu/goldenpath/hg19/encodeDCC/wgEncodeSydhTfbs/wgEncodeSydhTfbsGm12878InputStdSig.bigWig',\n",
       " 'max_pos': [4294967296],\n",
       " 'max_width': 4294967296,\n",
       " 'max_zoom': 22,\n",
       " 'min_pos': [0],\n",
       " 'tile_size': 1024,\n",
       " 'uuid': 'a'}"
      ]
     },
     "execution_count": 7,
     "metadata": {},
     "output_type": "execute_result"
    }
   ],
   "source": [
    "%%time \n",
    "\n",
    "server.tileset_info('a')\n",
    "#server.tiles('a', 0, 0)"
   ]
  },
  {
   "cell_type": "code",
   "execution_count": 8,
   "metadata": {},
   "outputs": [
    {
     "name": "stdout",
     "output_type": "stream",
     "text": [
      "track_type: horizontal-bar\n"
     ]
    },
    {
     "data": {
      "application/vnd.jupyter.widget-view+json": {
       "model_id": "ea82e94c5dca4780b9669d14825e9abb",
       "version_major": 2,
       "version_minor": 0
      },
      "text/plain": [
       "A Jupyter Widget"
      ]
     },
     "metadata": {},
     "output_type": "display_data"
    }
   ],
   "source": [
    "import hgflask.client as hfc\n",
    "\n",
    "hgc = hfc.HiGlassConfig()\n",
    "view = hgc.add_view()\n",
    "view.add_track('a', 'horizontal-bar', 'top', \n",
    "               server=server.api_address)\n",
    "\n",
    "#print(hgc.to_json_string())\n",
    "import higlass_jupyter\n",
    "higlass_jupyter.HiGlassDisplay(viewconf=hgc.to_json_string())"
   ]
  },
  {
   "cell_type": "code",
   "execution_count": 12,
   "metadata": {},
   "outputs": [
    {
     "name": "stdout",
     "output_type": "stream",
     "text": [
      "track_type: heatmap\n"
     ]
    },
    {
     "data": {
      "application/vnd.jupyter.widget-view+json": {
       "model_id": "93079670a02f4bed98c24098973b540f",
       "version_major": 2,
       "version_minor": 0
      },
      "text/plain": [
       "A Jupyter Widget"
      ]
     },
     "metadata": {},
     "output_type": "display_data"
    }
   ],
   "source": [
    "hgc = hfc.HiGlassConfig()\n",
    "view = hgc.add_view()\n",
    "view.add_track('CQMd6V_cRw6iCI_-Unl3PQ', 'heatmap', 'center', \n",
    "               server=\"http://higlass.io/api/v1\",\n",
    "               height=300)\n",
    "\n",
    "#print(hgc.to_json_string())\n",
    "import higlass_jupyter\n",
    "higlass_jupyter.HiGlassDisplay(viewconf=hgc.to_json_string())"
   ]
  },
  {
   "cell_type": "code",
   "execution_count": null,
   "metadata": {
    "collapsed": true
   },
   "outputs": [],
   "source": []
  }
 ],
 "metadata": {
  "kernelspec": {
   "display_name": "Python 3",
   "language": "python",
   "name": "python3"
  },
  "language_info": {
   "codemirror_mode": {
    "name": "ipython",
    "version": 3
   },
   "file_extension": ".py",
   "mimetype": "text/x-python",
   "name": "python",
   "nbconvert_exporter": "python",
   "pygments_lexer": "ipython3",
   "version": "3.6.3"
  }
 },
 "nbformat": 4,
 "nbformat_minor": 2
}
