{
 "cells": [
  {
   "cell_type": "code",
   "execution_count": 5,
   "metadata": {},
   "outputs": [
    {
     "name": "stdout",
     "output_type": "stream",
     "text": [
      "The autoreload extension is already loaded. To reload it, use:\n",
      "  %reload_ext autoreload\n"
     ]
    }
   ],
   "source": [
    "%load_ext autoreload\n",
    "%autoreload 2"
   ]
  },
  {
   "cell_type": "code",
   "execution_count": 6,
   "metadata": {},
   "outputs": [
    {
     "name": "stdout",
     "output_type": "stream",
     "text": [
      "diskcache_directory /tmp/hgflask/dc True\n",
      "starting fuse\n",
      "dc_dir /tmp/hgflask/dc 33554432\n",
      "filepath http://hgdownload.cse.ucsc.edu/goldenpath/hg19/encodeDCC/wgEncodeSydhTfbs/wgEncodeSydhTfbsGm12878InputStdSig.bigWig\n",
      "terminating: JZpBgZFLQOWoPxTj13QOfw\n",
      " * Serving Flask app \"hgflask\" (lazy loading)\n",
      " * Environment: production\n",
      "   WARNING: Do not use the development server in a production environment.\n",
      "   Use a production WSGI server instead.\n",
      " * Debug mode: on\n"
     ]
    },
    {
     "name": "stderr",
     "output_type": "stream",
     "text": [
      " * Running on http://0.0.0.0:54702/ (Press CTRL+C to quit)\n"
     ]
    },
    {
     "name": "stdout",
     "output_type": "stream",
     "text": [
      "sleeping\n"
     ]
    },
    {
     "name": "stderr",
     "output_type": "stream",
     "text": [
      "127.0.0.1 - - [21/Sep/2018 16:18:11] \"GET /api/v1/tileset_info/?d=x HTTP/1.1\" 200 -\n"
     ]
    },
    {
     "name": "stdout",
     "output_type": "stream",
     "text": [
      "returning\n",
      "filetype: bigwig\n",
      "read 0 65536\n",
      "sending request: bytes=0-65535\n"
     ]
    },
    {
     "name": "stderr",
     "output_type": "stream",
     "text": [
      "127.0.0.1 - - [21/Sep/2018 16:18:12] \"GET /api/v1/tileset_info/?d=a HTTP/1.1\" 200 -\n",
      "127.0.0.1 - - [21/Sep/2018 16:22:50] \"OPTIONS /api/v1/tileset_info/?d=a&s=ckUnqa68ThSUQsx8c15reA HTTP/1.1\" 200 -\n"
     ]
    },
    {
     "name": "stdout",
     "output_type": "stream",
     "text": [
      "filetype: bigwig\n",
      "read 4096 61440\n",
      "sending request: bytes=0-65535\n",
      "read 65536 65536\n",
      "sending request: bytes=65536-131071\n"
     ]
    },
    {
     "name": "stderr",
     "output_type": "stream",
     "text": [
      "127.0.0.1 - - [21/Sep/2018 16:22:51] \"GET /api/v1/tileset_info/?d=a&s=ckUnqa68ThSUQsx8c15reA HTTP/1.1\" 200 -\n",
      "127.0.0.1 - - [21/Sep/2018 16:22:51] \"OPTIONS /api/v1/tiles/?d=a.22.0&d=a.0.0&s=ckUnqa68ThSUQsx8c15reA HTTP/1.1\" 200 -\n"
     ]
    },
    {
     "name": "stdout",
     "output_type": "stream",
     "text": [
      "read 208011264 8192\n",
      "sending request: bytes=208011264-208076799\n",
      "read 208019456 4096\n",
      "sending request: bytes=208011264-208076799\n",
      "read 208023552 8192\n",
      "sending request: bytes=208011264-208076799\n",
      "read 302645248 8192\n",
      "sending request: bytes=302645248-302710783\n",
      "read 302534656 24576\n",
      "sending request: bytes=302514176-302579711\n",
      "read 302571520 24576\n",
      "sending request: bytes=302514176-302579711\n",
      "sending request: bytes=302579712-302645247\n",
      "read 302596096 20480\n",
      "sending request: bytes=302579712-302645247\n",
      "read 302616576 20480\n",
      "sending request: bytes=302579712-302645247\n",
      "read 302637056 8192\n",
      "sending request: bytes=302579712-302645247\n",
      "read 302559232 12288\n",
      "sending request: bytes=302514176-302579711\n",
      "read 300412928 8192\n",
      "sending request: bytes=300351488-300417023\n",
      "sending request: bytes=300417024-300482559\n",
      "read 300429312 8192\n",
      "sending request: bytes=300417024-300482559\n",
      "read 300056576 24576\n",
      "sending request: bytes=300023808-300089343\n"
     ]
    },
    {
     "name": "stderr",
     "output_type": "stream",
     "text": [
      "127.0.0.1 - - [21/Sep/2018 16:22:57] \"GET /api/v1/tiles/?d=a.22.0&d=a.0.0&s=ckUnqa68ThSUQsx8c15reA HTTP/1.1\" 200 -\n",
      "127.0.0.1 - - [21/Sep/2018 16:23:04] \"OPTIONS /api/v1/tiles/?d=a.1.0&s=ckUnqa68ThSUQsx8c15reA HTTP/1.1\" 200 -\n"
     ]
    },
    {
     "name": "stdout",
     "output_type": "stream",
     "text": [
      "read 65536 65536\n",
      "sending request: bytes=65536-131071\n"
     ]
    },
    {
     "name": "stderr",
     "output_type": "stream",
     "text": [
      "127.0.0.1 - - [21/Sep/2018 16:23:04] \"OPTIONS /api/v1/tiles/?d=a.2.0&s=ckUnqa68ThSUQsx8c15reA HTTP/1.1\" 200 -\n"
     ]
    },
    {
     "name": "stdout",
     "output_type": "stream",
     "text": [
      "read 302526464 8192\n",
      "sending request: bytes=302514176-302579711\n",
      "read 302100480 45056\n",
      "sending request: bytes=302055424-302120959\n",
      "sending request: bytes=302120960-302186495\n",
      "read 302272512 61440\n",
      "sending request: bytes=302252032-302317567\n",
      "sending request: bytes=302317568-302383103\n",
      "read 302333952 36864\n",
      "sending request: bytes=302317568-302383103\n",
      "read 302370816 40960\n",
      "sending request: bytes=302317568-302383103\n",
      "sending request: bytes=302383104-302448639\n",
      "read 302411776 16384\n",
      "sending request: bytes=302383104-302448639\n"
     ]
    },
    {
     "name": "stderr",
     "output_type": "stream",
     "text": [
      "127.0.0.1 - - [21/Sep/2018 16:23:08] \"GET /api/v1/tiles/?d=a.2.0&s=ckUnqa68ThSUQsx8c15reA HTTP/1.1\" 200 -\n",
      "127.0.0.1 - - [21/Sep/2018 16:23:08] \"GET /api/v1/tiles/?d=a.1.0&s=ckUnqa68ThSUQsx8c15reA HTTP/1.1\" 200 -\n",
      "127.0.0.1 - - [21/Sep/2018 16:23:11] \"OPTIONS /api/v1/tiles/?d=a.3.0&s=ckUnqa68ThSUQsx8c15reA HTTP/1.1\" 200 -\n",
      "127.0.0.1 - - [21/Sep/2018 16:23:11] \"GET /api/v1/tiles/?d=a.3.0&s=ckUnqa68ThSUQsx8c15reA HTTP/1.1\" 200 -\n",
      "127.0.0.1 - - [21/Sep/2018 16:23:12] \"OPTIONS /api/v1/tiles/?d=a.2.0&s=ckUnqa68ThSUQsx8c15reA HTTP/1.1\" 200 -\n",
      "127.0.0.1 - - [21/Sep/2018 16:23:12] \"GET /api/v1/tiles/?d=a.2.0&s=ckUnqa68ThSUQsx8c15reA HTTP/1.1\" 200 -\n",
      "127.0.0.1 - - [21/Sep/2018 16:23:12] \"OPTIONS /api/v1/tiles/?d=a.1.0&s=ckUnqa68ThSUQsx8c15reA HTTP/1.1\" 200 -\n",
      "127.0.0.1 - - [21/Sep/2018 16:23:12] \"GET /api/v1/tiles/?d=a.1.0&s=ckUnqa68ThSUQsx8c15reA HTTP/1.1\" 200 -\n",
      "127.0.0.1 - - [21/Sep/2018 16:23:14] \"OPTIONS /api/v1/tiles/?d=a.2.0&d=a.2.1&s=ckUnqa68ThSUQsx8c15reA HTTP/1.1\" 200 -\n"
     ]
    },
    {
     "name": "stdout",
     "output_type": "stream",
     "text": [
      "read 302428160 20480\n",
      "sending request: bytes=302383104-302448639\n"
     ]
    },
    {
     "name": "stderr",
     "output_type": "stream",
     "text": [
      "127.0.0.1 - - [21/Sep/2018 16:23:14] \"OPTIONS /api/v1/tiles/?d=a.3.1&d=a.3.2&s=ckUnqa68ThSUQsx8c15reA HTTP/1.1\" 200 -\n"
     ]
    },
    {
     "name": "stdout",
     "output_type": "stream",
     "text": [
      "read 302448640 36864\n",
      "sending request: bytes=302448640-302514175\n"
     ]
    },
    {
     "name": "stderr",
     "output_type": "stream",
     "text": [
      "127.0.0.1 - - [21/Sep/2018 16:23:14] \"OPTIONS /api/v1/tiles/?d=a.4.3&d=a.4.4&s=ckUnqa68ThSUQsx8c15reA HTTP/1.1\" 200 -\n"
     ]
    },
    {
     "name": "stdout",
     "output_type": "stream",
     "text": [
      "read 302485504 20480\n",
      "sending request: bytes=302448640-302514175\n"
     ]
    },
    {
     "name": "stderr",
     "output_type": "stream",
     "text": [
      "127.0.0.1 - - [21/Sep/2018 16:23:15] \"OPTIONS /api/v1/tiles/?d=a.5.7&d=a.5.8&s=ckUnqa68ThSUQsx8c15reA HTTP/1.1\" 200 -\n"
     ]
    },
    {
     "name": "stdout",
     "output_type": "stream",
     "text": [
      "read 302505984 20480\n",
      "sending request: bytes=302448640-302514175\n",
      "sending request: bytes=302514176-302579711\n",
      "read 65536 65536\n",
      "sending request: bytes=65536-131071\n",
      "read 302145536 16384\n",
      "sending request: bytes=302120960-302186495\n",
      "read 302161920 20480\n",
      "sending request: bytes=302120960-302186495\n",
      "read 302096384 4096\n",
      "sending request: bytes=302055424-302120959\n",
      "read 301572096 65536\n",
      "sending request: bytes=301531136-301596671\n",
      "sending request: bytes=301596672-301662207\n",
      "read 301637632 32768\n",
      "sending request: bytes=301596672-301662207\n",
      "sending request: bytes=301662208-301727743\n",
      "read 302182400 20480\n",
      "sending request: bytes=302120960-302186495\n",
      "sending request: bytes=302186496-302252031\n",
      "read 301498368 65536\n",
      "sending request: bytes=301465600-301531135\n",
      "sending request: bytes=301531136-301596671\n",
      "read 301563904 8192\n",
      "sending request: bytes=301531136-301596671\n",
      "read 301670400 16384\n",
      "sending request: bytes=301662208-301727743\n",
      "read 302202880 16384\n",
      "sending request: bytes=302186496-302252031\n"
     ]
    },
    {
     "name": "stderr",
     "output_type": "stream",
     "text": [
      "127.0.0.1 - - [21/Sep/2018 16:23:22] \"GET /api/v1/tiles/?d=a.2.0&d=a.2.1&s=ckUnqa68ThSUQsx8c15reA HTTP/1.1\" 200 -\n"
     ]
    },
    {
     "name": "stdout",
     "output_type": "stream",
     "text": [
      "read 301686784 65536\n",
      "sending request: bytes=301662208-301727743\n",
      "sending request: bytes=301727744-301793279\n",
      "read 301752320 8192\n",
      "sending request: bytes=301727744-301793279\n"
     ]
    },
    {
     "name": "stderr",
     "output_type": "stream",
     "text": [
      "127.0.0.1 - - [21/Sep/2018 16:23:23] \"GET /api/v1/tiles/?d=a.5.7&d=a.5.8&s=ckUnqa68ThSUQsx8c15reA HTTP/1.1\" 200 -\n"
     ]
    },
    {
     "name": "stdout",
     "output_type": "stream",
     "text": [
      "read 301760512 65536\n",
      "sending request: bytes=301727744-301793279\n",
      "sending request: bytes=301793280-301858815\n",
      "read 301826048 12288\n",
      "sending request: bytes=301793280-301858815\n"
     ]
    },
    {
     "name": "stderr",
     "output_type": "stream",
     "text": [
      "127.0.0.1 - - [21/Sep/2018 16:23:25] \"GET /api/v1/tiles/?d=a.4.3&d=a.4.4&s=ckUnqa68ThSUQsx8c15reA HTTP/1.1\" 200 -\n",
      "127.0.0.1 - - [21/Sep/2018 16:23:25] \"GET /api/v1/tiles/?d=a.3.1&d=a.3.2&s=ckUnqa68ThSUQsx8c15reA HTTP/1.1\" 200 -\n",
      "127.0.0.1 - - [21/Sep/2018 16:23:29] \"OPTIONS /api/v1/tiles/?d=a.4.3&d=a.4.4&s=ckUnqa68ThSUQsx8c15reA HTTP/1.1\" 200 -\n",
      "127.0.0.1 - - [21/Sep/2018 16:23:29] \"GET /api/v1/tiles/?d=a.4.3&d=a.4.4&s=ckUnqa68ThSUQsx8c15reA HTTP/1.1\" 200 -\n",
      "127.0.0.1 - - [21/Sep/2018 16:23:30] \"OPTIONS /api/v1/tiles/?d=a.3.1&d=a.3.2&s=ckUnqa68ThSUQsx8c15reA HTTP/1.1\" 200 -\n",
      "127.0.0.1 - - [21/Sep/2018 16:23:30] \"GET /api/v1/tiles/?d=a.3.1&d=a.3.2&s=ckUnqa68ThSUQsx8c15reA HTTP/1.1\" 200 -\n",
      "127.0.0.1 - - [21/Sep/2018 16:23:31] \"OPTIONS /api/v1/tiles/?d=a.2.0&d=a.2.1&s=ckUnqa68ThSUQsx8c15reA HTTP/1.1\" 200 -\n",
      "127.0.0.1 - - [21/Sep/2018 16:23:31] \"GET /api/v1/tiles/?d=a.2.0&d=a.2.1&s=ckUnqa68ThSUQsx8c15reA HTTP/1.1\" 200 -\n",
      "127.0.0.1 - - [21/Sep/2018 16:23:32] \"OPTIONS /api/v1/tiles/?d=a.1.0&s=ckUnqa68ThSUQsx8c15reA HTTP/1.1\" 200 -\n",
      "127.0.0.1 - - [21/Sep/2018 16:23:33] \"GET /api/v1/tiles/?d=a.1.0&s=ckUnqa68ThSUQsx8c15reA HTTP/1.1\" 200 -\n",
      "127.0.0.1 - - [21/Sep/2018 16:23:35] \"OPTIONS /api/v1/tiles/?d=a.2.0&s=ckUnqa68ThSUQsx8c15reA HTTP/1.1\" 200 -\n",
      "127.0.0.1 - - [21/Sep/2018 16:23:35] \"GET /api/v1/tiles/?d=a.2.0&s=ckUnqa68ThSUQsx8c15reA HTTP/1.1\" 200 -\n",
      "127.0.0.1 - - [21/Sep/2018 16:23:35] \"OPTIONS /api/v1/tiles/?d=a.3.0&s=ckUnqa68ThSUQsx8c15reA HTTP/1.1\" 200 -\n",
      "127.0.0.1 - - [21/Sep/2018 16:23:35] \"GET /api/v1/tiles/?d=a.3.0&s=ckUnqa68ThSUQsx8c15reA HTTP/1.1\" 200 -\n",
      "127.0.0.1 - - [21/Sep/2018 16:23:36] \"OPTIONS /api/v1/tiles/?d=a.4.0&s=ckUnqa68ThSUQsx8c15reA HTTP/1.1\" 200 -\n"
     ]
    },
    {
     "name": "stdout",
     "output_type": "stream",
     "text": [
      "read 300437504 65536\n",
      "sending request: bytes=300417024-300482559\n",
      "sending request: bytes=300482560-300548095\n",
      "read 300503040 65536\n",
      "sending request: bytes=300482560-300548095\n",
      "sending request: bytes=300548096-300613631\n",
      "read 300568576 20480\n",
      "sending request: bytes=300548096-300613631\n"
     ]
    },
    {
     "name": "stderr",
     "output_type": "stream",
     "text": [
      "127.0.0.1 - - [21/Sep/2018 16:23:38] \"OPTIONS /api/v1/tiles/?d=a.5.0&d=a.5.1&s=ckUnqa68ThSUQsx8c15reA HTTP/1.1\" 200 -\n"
     ]
    },
    {
     "name": "stdout",
     "output_type": "stream",
     "text": [
      "read 301109248 40960\n",
      "sending request: bytes=301072384-301137919\n",
      "sending request: bytes=301137920-301203455\n"
     ]
    },
    {
     "name": "stderr",
     "output_type": "stream",
     "text": [
      "127.0.0.1 - - [21/Sep/2018 16:23:38] \"OPTIONS /api/v1/tiles/?d=a.6.1&d=a.6.2&s=ckUnqa68ThSUQsx8c15reA HTTP/1.1\" 200 -\n",
      "127.0.0.1 - - [21/Sep/2018 16:23:38] \"OPTIONS /api/v1/tiles/?d=a.7.3&s=ckUnqa68ThSUQsx8c15reA HTTP/1.1\" 200 -\n",
      "127.0.0.1 - - [21/Sep/2018 16:23:39] \"GET /api/v1/tiles/?d=a.4.0&s=ckUnqa68ThSUQsx8c15reA HTTP/1.1\" 200 -\n",
      "127.0.0.1 - - [21/Sep/2018 16:23:39] \"OPTIONS /api/v1/tiles/?d=a.8.6&d=a.8.7&s=ckUnqa68ThSUQsx8c15reA HTTP/1.1\" 200 -\n",
      "127.0.0.1 - - [21/Sep/2018 16:23:39] \"OPTIONS /api/v1/tiles/?d=a.9.14&s=ckUnqa68ThSUQsx8c15reA HTTP/1.1\" 200 -\n",
      "127.0.0.1 - - [21/Sep/2018 16:23:39] \"OPTIONS /api/v1/tiles/?d=a.10.28&d=a.10.29&s=ckUnqa68ThSUQsx8c15reA HTTP/1.1\" 200 -\n"
     ]
    },
    {
     "name": "stdout",
     "output_type": "stream",
     "text": [
      "read 300412928 8192\n",
      "sending request: bytes=300351488-300417023\n",
      "sending request: bytes=300417024-300482559\n",
      "read 300421120 8192\n",
      "sending request: bytes=300417024-300482559\n",
      "read 300429312 8192\n",
      "sending request: bytes=300417024-300482559\n",
      "read 294383616 57344\n",
      "sending request: bytes=294322176-294387711\n",
      "sending request: bytes=294387712-294453247\n"
     ]
    },
    {
     "name": "stderr",
     "output_type": "stream",
     "text": [
      "127.0.0.1 - - [21/Sep/2018 16:23:41] \"GET /api/v1/tiles/?d=a.7.3&s=ckUnqa68ThSUQsx8c15reA HTTP/1.1\" 200 -\n"
     ]
    },
    {
     "name": "stdout",
     "output_type": "stream",
     "text": [
      "read 294117376 8192\n",
      "sending request: bytes=294060032-294125567\n",
      "read 294125568 4096\n",
      "sending request: bytes=294125568-294191103\n",
      "read 294129664 8192\n",
      "sending request: bytes=294125568-294191103\n",
      "read 294137856 16384\n",
      "sending request: bytes=294125568-294191103\n",
      "read 273305600 53248\n",
      "sending request: bytes=273285120-273350655\n",
      "sending request: bytes=273350656-273416191\n"
     ]
    },
    {
     "name": "stderr",
     "output_type": "stream",
     "text": [
      "127.0.0.1 - - [21/Sep/2018 16:23:41] \"GET /api/v1/tiles/?d=a.5.0&d=a.5.1&s=ckUnqa68ThSUQsx8c15reA HTTP/1.1\" 200 -\n",
      "127.0.0.1 - - [21/Sep/2018 16:23:44] \"GET /api/v1/tiles/?d=a.9.14&s=ckUnqa68ThSUQsx8c15reA HTTP/1.1\" 200 -\n",
      "127.0.0.1 - - [21/Sep/2018 16:23:44] \"GET /api/v1/tiles/?d=a.6.1&d=a.6.2&s=ckUnqa68ThSUQsx8c15reA HTTP/1.1\" 200 -\n",
      "127.0.0.1 - - [21/Sep/2018 16:23:44] \"GET /api/v1/tiles/?d=a.8.6&d=a.8.7&s=ckUnqa68ThSUQsx8c15reA HTTP/1.1\" 200 -\n",
      "127.0.0.1 - - [21/Sep/2018 16:23:44] \"GET /api/v1/tiles/?d=a.10.28&d=a.10.29&s=ckUnqa68ThSUQsx8c15reA HTTP/1.1\" 200 -\n",
      "127.0.0.1 - - [21/Sep/2018 16:23:53] \"OPTIONS /api/v1/tiles/?d=a.10.27&s=ckUnqa68ThSUQsx8c15reA HTTP/1.1\" 200 -\n"
     ]
    },
    {
     "name": "stdout",
     "output_type": "stream",
     "text": [
      "read 65536 65536\n",
      "sending request: bytes=65536-131071\n",
      "read 294137856 8192\n",
      "sending request: bytes=294125568-294191103\n",
      "read 273276928 28672\n",
      "sending request: bytes=273219584-273285119\n",
      "sending request: bytes=273285120-273350655\n"
     ]
    },
    {
     "name": "stderr",
     "output_type": "stream",
     "text": [
      "127.0.0.1 - - [21/Sep/2018 16:23:55] \"GET /api/v1/tiles/?d=a.10.27&s=ckUnqa68ThSUQsx8c15reA HTTP/1.1\" 200 -\n",
      "127.0.0.1 - - [21/Sep/2018 16:23:57] \"OPTIONS /api/v1/tiles/?d=a.9.13&d=a.9.14&s=ckUnqa68ThSUQsx8c15reA HTTP/1.1\" 200 -\n"
     ]
    },
    {
     "name": "stdout",
     "output_type": "stream",
     "text": [
      "read 273244160 32768\n",
      "sending request: bytes=273219584-273285119\n"
     ]
    },
    {
     "name": "stderr",
     "output_type": "stream",
     "text": [
      "127.0.0.1 - - [21/Sep/2018 16:23:57] \"OPTIONS /api/v1/tiles/?d=a.8.6&d=a.8.7&s=ckUnqa68ThSUQsx8c15reA HTTP/1.1\" 200 -\n",
      "127.0.0.1 - - [21/Sep/2018 16:23:57] \"GET /api/v1/tiles/?d=a.9.13&d=a.9.14&s=ckUnqa68ThSUQsx8c15reA HTTP/1.1\" 200 -\n",
      "127.0.0.1 - - [21/Sep/2018 16:23:57] \"GET /api/v1/tiles/?d=a.8.6&d=a.8.7&s=ckUnqa68ThSUQsx8c15reA HTTP/1.1\" 200 -\n",
      "127.0.0.1 - - [21/Sep/2018 16:23:57] \"OPTIONS /api/v1/tiles/?d=a.7.3&s=ckUnqa68ThSUQsx8c15reA HTTP/1.1\" 200 -\n",
      "127.0.0.1 - - [21/Sep/2018 16:23:57] \"GET /api/v1/tiles/?d=a.7.3&s=ckUnqa68ThSUQsx8c15reA HTTP/1.1\" 200 -\n",
      "127.0.0.1 - - [21/Sep/2018 16:23:58] \"OPTIONS /api/v1/tiles/?d=a.6.1&s=ckUnqa68ThSUQsx8c15reA HTTP/1.1\" 200 -\n",
      "127.0.0.1 - - [21/Sep/2018 16:23:58] \"GET /api/v1/tiles/?d=a.6.1&s=ckUnqa68ThSUQsx8c15reA HTTP/1.1\" 200 -\n",
      "127.0.0.1 - - [21/Sep/2018 16:24:00] \"OPTIONS /api/v1/tiles/?d=a.6.0&s=ckUnqa68ThSUQsx8c15reA HTTP/1.1\" 200 -\n",
      "127.0.0.1 - - [21/Sep/2018 16:24:00] \"GET /api/v1/tiles/?d=a.6.0&s=ckUnqa68ThSUQsx8c15reA HTTP/1.1\" 200 -\n",
      "127.0.0.1 - - [21/Sep/2018 16:24:01] \"OPTIONS /api/v1/tiles/?d=a.5.0&s=ckUnqa68ThSUQsx8c15reA HTTP/1.1\" 200 -\n",
      "127.0.0.1 - - [21/Sep/2018 16:24:01] \"GET /api/v1/tiles/?d=a.5.0&s=ckUnqa68ThSUQsx8c15reA HTTP/1.1\" 200 -\n",
      "127.0.0.1 - - [21/Sep/2018 16:24:01] \"OPTIONS /api/v1/tiles/?d=a.4.0&s=ckUnqa68ThSUQsx8c15reA HTTP/1.1\" 200 -\n",
      "127.0.0.1 - - [21/Sep/2018 16:24:01] \"GET /api/v1/tiles/?d=a.4.0&s=ckUnqa68ThSUQsx8c15reA HTTP/1.1\" 200 -\n",
      "127.0.0.1 - - [21/Sep/2018 16:24:04] \"OPTIONS /api/v1/tiles/?d=a.3.0&s=ckUnqa68ThSUQsx8c15reA HTTP/1.1\" 200 -\n",
      "127.0.0.1 - - [21/Sep/2018 16:24:04] \"GET /api/v1/tiles/?d=a.3.0&s=ckUnqa68ThSUQsx8c15reA HTTP/1.1\" 200 -\n",
      "127.0.0.1 - - [21/Sep/2018 16:24:04] \"OPTIONS /api/v1/tiles/?d=a.2.0&s=ckUnqa68ThSUQsx8c15reA HTTP/1.1\" 200 -\n",
      "127.0.0.1 - - [21/Sep/2018 16:24:04] \"GET /api/v1/tiles/?d=a.2.0&s=ckUnqa68ThSUQsx8c15reA HTTP/1.1\" 200 -\n"
     ]
    }
   ],
   "source": [
    "import hgflask as hgf\n",
    "\n",
    "tilesets = [{\n",
    "    'filepath': 'http://hgdownload.cse.ucsc.edu/goldenpath/hg19/encodeDCC/wgEncodeSydhTfbs/wgEncodeSydhTfbsGm12878InputStdSig.bigWig',\n",
    "    'uuid': 'a'\n",
    "}]\n",
    "\n",
    "server = hgf.start(tilesets)"
   ]
  },
  {
   "cell_type": "code",
   "execution_count": 7,
   "metadata": {},
   "outputs": [
    {
     "name": "stdout",
     "output_type": "stream",
     "text": [
      "CPU times: user 5.29 ms, sys: 3.53 ms, total: 8.82 ms\n",
      "Wall time: 629 ms\n"
     ]
    },
    {
     "data": {
      "text/plain": [
       "{'filepath': 'http://hgdownload.cse.ucsc.edu/goldenpath/hg19/encodeDCC/wgEncodeSydhTfbs/wgEncodeSydhTfbsGm12878InputStdSig.bigWig',\n",
       " 'max_pos': [4294967296],\n",
       " 'max_width': 4294967296,\n",
       " 'max_zoom': 22,\n",
       " 'min_pos': [0],\n",
       " 'tile_size': 1024,\n",
       " 'uuid': 'a'}"
      ]
     },
     "execution_count": 7,
     "metadata": {},
     "output_type": "execute_result"
    }
   ],
   "source": [
    "%%time \n",
    "\n",
    "server.tileset_info('a')\n",
    "#server.tiles('a', 0, 0)"
   ]
  },
  {
   "cell_type": "code",
   "execution_count": 10,
   "metadata": {},
   "outputs": [
    {
     "name": "stdout",
     "output_type": "stream",
     "text": [
      "track_type: horizontal-bar\n"
     ]
    },
    {
     "data": {
      "application/vnd.jupyter.widget-view+json": {
       "model_id": "57c0166f526c412c99974f02bcaeb2af",
       "version_major": 2,
       "version_minor": 0
      },
      "text/plain": [
       "HiGlassDisplay(viewconf='{\\n  \"editable\": true,\\n  \"views\": [\\n    {\\n      \"uid\": \"MOLiYCMlSBG_RSYCGKtPSA\",\\n…"
      ]
     },
     "metadata": {},
     "output_type": "display_data"
    }
   ],
   "source": [
    "import hgflask.client as hfc\n",
    "\n",
    "hgc = hfc.HiGlassConfig()\n",
    "view = hgc.add_view()\n",
    "view.add_track('a', 'horizontal-bar', 'top', server=server.api_address)\n",
    "\n",
    "#print(hgc.to_json_string())\n",
    "import higlass_jupyter\n",
    "higlass_jupyter.HiGlassDisplay(viewconf=hgc.to_json_string())"
   ]
  },
  {
   "cell_type": "code",
   "execution_count": null,
   "metadata": {},
   "outputs": [],
   "source": []
  },
  {
   "cell_type": "code",
   "execution_count": null,
   "metadata": {},
   "outputs": [],
   "source": []
  }
 ],
 "metadata": {
  "kernelspec": {
   "display_name": "Python 3",
   "language": "python",
   "name": "python3"
  },
  "language_info": {
   "codemirror_mode": {
    "name": "ipython",
    "version": 3
   },
   "file_extension": ".py",
   "mimetype": "text/x-python",
   "name": "python",
   "nbconvert_exporter": "python",
   "pygments_lexer": "ipython3",
   "version": "3.6.2"
  }
 },
 "nbformat": 4,
 "nbformat_minor": 2
}
