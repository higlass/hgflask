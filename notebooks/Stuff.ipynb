{
 "cells": [
  {
   "cell_type": "code",
   "execution_count": 1,
   "metadata": {
    "collapsed": true
   },
   "outputs": [],
   "source": [
    "import hgflask.httpfs as hhfs"
   ]
  },
  {
   "cell_type": "code",
   "execution_count": 2,
   "metadata": {},
   "outputs": [
    {
     "data": {
      "text/plain": [
       "['BLOCK_SIZE',\n",
       " 'CLEANUP_EXPIRED',\n",
       " 'CLEANUP_INTERVAL',\n",
       " 'DISK_CACHE_DIR_ENV',\n",
       " 'DISK_CACHE_SIZE_ENV',\n",
       " 'EIO',\n",
       " 'ENOENT',\n",
       " 'FUSE',\n",
       " 'FuseOSError',\n",
       " 'HttpFs',\n",
       " 'LRUCache',\n",
       " 'LoggingMixIn',\n",
       " 'Operations',\n",
       " 'S_IFDIR',\n",
       " 'S_IFREG',\n",
       " 'Timer',\n",
       " '__builtins__',\n",
       " '__cached__',\n",
       " '__doc__',\n",
       " '__file__',\n",
       " '__loader__',\n",
       " '__name__',\n",
       " '__package__',\n",
       " '__spec__',\n",
       " 'collections',\n",
       " 'dc',\n",
       " 'ft',\n",
       " 'logging',\n",
       " 'main',\n",
       " 'os',\n",
       " 'requests',\n",
       " 'sys',\n",
       " 'time']"
      ]
     },
     "execution_count": 2,
     "metadata": {},
     "output_type": "execute_result"
    }
   ],
   "source": [
    "dir(hhfs)"
   ]
  },
  {
   "cell_type": "code",
   "execution_count": null,
   "metadata": {
    "collapsed": true
   },
   "outputs": [],
   "source": []
  }
 ],
 "metadata": {
  "kernelspec": {
   "display_name": "Python 3",
   "language": "python",
   "name": "python3"
  },
  "language_info": {
   "codemirror_mode": {
    "name": "ipython",
    "version": 3
   },
   "file_extension": ".py",
   "mimetype": "text/x-python",
   "name": "python",
   "nbconvert_exporter": "python",
   "pygments_lexer": "ipython3",
   "version": "3.6.3"
  }
 },
 "nbformat": 4,
 "nbformat_minor": 2
}
