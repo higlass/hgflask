{
 "cells": [
  {
   "cell_type": "code",
   "execution_count": 4,
   "metadata": {},
   "outputs": [
    {
     "name": "stdout",
     "output_type": "stream",
     "text": [
      "The autoreload extension is already loaded. To reload it, use:\n",
      "  %reload_ext autoreload\n"
     ]
    }
   ],
   "source": [
    "%load_ext autoreload\n",
    "%autoreload 2\n",
    "%matplotlib inline"
   ]
  },
  {
   "cell_type": "markdown",
   "metadata": {},
   "source": [
    "## Cooler Files"
   ]
  },
  {
   "cell_type": "code",
   "execution_count": 5,
   "metadata": {},
   "outputs": [
    {
     "data": {
      "application/vnd.jupyter.widget-view+json": {
       "model_id": "1faeb74c92a941a3b5c25aae70bf37a0",
       "version_major": 2,
       "version_minor": 0
      },
      "text/plain": [
       "HiGlassDisplay(viewconf={'editable': True, 'views': [{'uid': 'MbHVgrvlRtiYARnou4HYGA', 'tracks': {'top': [{'ty…"
      ]
     },
     "metadata": {},
     "output_type": "display_data"
    }
   ],
   "source": [
    "import higlass_jupyter as hiju\n",
    "import hgflask.client as hgc\n",
    "\n",
    "conf = hgc.ViewConf([\n",
    "    hgc.View([\n",
    "        hgc.Track(track_type='top-axis', position='top'),   \n",
    "        hgc.Track(track_type='heatmap', position='center',\n",
    "                 tileset_uuid='CQMd6V_cRw6iCI_-Unl3PQ', \n",
    "                  api_url=\"http://higlass.io/api/v1/\",\n",
    "                  height=250,\n",
    "                 options={ 'valueScaleMax': 0.5 }),\n",
    "\n",
    "    ])\n",
    "])\n",
    "\n",
    "hiju.HiGlassDisplay(viewconf=conf.to_json())"
   ]
  },
  {
   "cell_type": "code",
   "execution_count": 6,
   "metadata": {},
   "outputs": [
    {
     "name": "stderr",
     "output_type": "stream",
     "text": [
      " * Running on http://0.0.0.0:53685/ (Press CTRL+C to quit)\n"
     ]
    },
    {
     "name": "stdout",
     "output_type": "stream",
     "text": [
      "sleeping\n"
     ]
    },
    {
     "name": "stderr",
     "output_type": "stream",
     "text": [
      "127.0.0.1 - - [16/Oct/2018 12:21:10] \"GET /api/v1/tileset_info/?d=a HTTP/1.1\" 200 -\n"
     ]
    },
    {
     "name": "stdout",
     "output_type": "stream",
     "text": [
      "ret: 200 b'{\\n  \"a\": {\\n    \"error\": \"No such tileset with uid: a\"\\n  }\\n}\\n'\n",
      "returning\n"
     ]
    },
    {
     "name": "stderr",
     "output_type": "stream",
     "text": [
      "127.0.0.1 - - [16/Oct/2018 12:21:11] \"OPTIONS /api/v1/tileset_info/?d=R-QVizblQMaZbkPYeqtB9Q&s=Dmd1a_9pRmaG31FlmEgF4Q HTTP/1.1\" 200 -\n",
      "127.0.0.1 - - [16/Oct/2018 12:21:12] \"GET /api/v1/tileset_info/?d=R-QVizblQMaZbkPYeqtB9Q&s=Dmd1a_9pRmaG31FlmEgF4Q HTTP/1.1\" 200 -\n",
      "127.0.0.1 - - [16/Oct/2018 12:21:12] \"OPTIONS /api/v1/tiles/?d=R-QVizblQMaZbkPYeqtB9Q.7.0.0&d=R-QVizblQMaZbkPYeqtB9Q.1.0.0&d=R-QVizblQMaZbkPYeqtB9Q.1.0.1&d=R-QVizblQMaZbkPYeqtB9Q.1.1.1&s=Dmd1a_9pRmaG31FlmEgF4Q HTTP/1.1\" 200 -\n",
      "127.0.0.1 - - [16/Oct/2018 12:21:12] \"GET /api/v1/tiles/?d=R-QVizblQMaZbkPYeqtB9Q.7.0.0&d=R-QVizblQMaZbkPYeqtB9Q.1.0.0&d=R-QVizblQMaZbkPYeqtB9Q.1.0.1&d=R-QVizblQMaZbkPYeqtB9Q.1.1.1&s=Dmd1a_9pRmaG31FlmEgF4Q HTTP/1.1\" 200 -\n"
     ]
    }
   ],
   "source": [
    "import hgflask.tilesets as hfti\n",
    "import hgflask.server as hgse\n",
    "\n",
    "ts = hfti.cooler(\n",
    "    '../data/Dixon2012-J1-NcoI-R1-filtered.100kb.multires.cool')\n",
    "\n",
    "server = hgse.start(tilesets=[ts])"
   ]
  },
  {
   "cell_type": "code",
   "execution_count": 7,
   "metadata": {},
   "outputs": [
    {
     "data": {
      "application/vnd.jupyter.widget-view+json": {
       "model_id": "e056a55917c647eab509a271e01d3946",
       "version_major": 2,
       "version_minor": 0
      },
      "text/plain": [
       "HiGlassDisplay(viewconf={'editable': True, 'views': [{'uid': 'Kod22vD0QtS0mXYEaB6qyQ', 'tracks': {'top': [{'ty…"
      ]
     },
     "metadata": {},
     "output_type": "display_data"
    }
   ],
   "source": [
    "import higlass_jupyter as hiju\n",
    "import hgflask.client as hgc\n",
    "\n",
    "conf = hgc.ViewConf([\n",
    "    hgc.View([\n",
    "        hgc.Track(track_type='top-axis', position='top'),   \n",
    "        hgc.Track(track_type='heatmap', position='center',\n",
    "                 tileset_uuid=ts.uuid, \n",
    "                  api_url=server.api_address,\n",
    "                  height=250,\n",
    "                 options={ 'valueScaleMax': 0.5 }),\n",
    "\n",
    "    ])\n",
    "])\n",
    "\n",
    "hiju.HiGlassDisplay(viewconf=conf.to_json())"
   ]
  },
  {
   "cell_type": "markdown",
   "metadata": {},
   "source": [
    "## BigWig Files"
   ]
  },
  {
   "cell_type": "code",
   "execution_count": 8,
   "metadata": {},
   "outputs": [
    {
     "name": "stdout",
     "output_type": "stream",
     "text": [
      "terminating: Ky1cpS3KTpShvoF55gO86w\n"
     ]
    },
    {
     "name": "stderr",
     "output_type": "stream",
     "text": [
      " * Running on http://0.0.0.0:53814/ (Press CTRL+C to quit)\n"
     ]
    },
    {
     "name": "stdout",
     "output_type": "stream",
     "text": [
      "sleeping\n"
     ]
    },
    {
     "name": "stderr",
     "output_type": "stream",
     "text": [
      "127.0.0.1 - - [16/Oct/2018 12:21:16] \"GET /api/v1/tileset_info/?d=a HTTP/1.1\" 200 -\n"
     ]
    },
    {
     "name": "stdout",
     "output_type": "stream",
     "text": [
      "ret: 200 b'{\\n  \"a\": {\\n    \"error\": \"No such tileset with uid: a\"\\n  }\\n}\\n'\n",
      "returning\n"
     ]
    },
    {
     "name": "stderr",
     "output_type": "stream",
     "text": [
      "127.0.0.1 - - [16/Oct/2018 12:21:27] \"GET /api/v1/tiles/?d=fdI5cEicTke82KxsHO9PBw.0.0 HTTP/1.1\" 200 -\n"
     ]
    }
   ],
   "source": [
    "import hgtiles.chromsizes as hgch\n",
    "\n",
    "import hgflask.server as hgse\n",
    "import hgflask.tilesets as hfti\n",
    "\n",
    "\n",
    "chromsizes_fp = '../data/chromSizes_hg19_reordered.tsv'\n",
    "bigwig_fp = '../data/wgEncodeCaltechRnaSeqHuvecR1x75dTh1014IlnaPlusSignalRep2.bigWig'\n",
    "\n",
    "chromsizes = hgch.get_tsv_chromsizes(chromsizes_fp)\n",
    "\n",
    "ts_r = hfti.bigwig(bigwig_fp, chromsizes=chromsizes)\n",
    "cs_r = hfti.chromsizes(chromsizes_fp)\n",
    "remote_file = hfti.bigwig('http://hgdownload.cse.ucsc.edu/goldenpath/hg19/encodeDCC/wgEncodeSydhTfbs/wgEncodeSydhTfbsGm12878InputStdSig.bigWig')\n",
    "\n",
    "server = hgse.start(tilesets=[ts_r, cs_r, remote_file])"
   ]
  },
  {
   "cell_type": "code",
   "execution_count": 9,
   "metadata": {},
   "outputs": [
    {
     "name": "stdout",
     "output_type": "stream",
     "text": [
      "CPU times: user 3.16 ms, sys: 2.74 ms, total: 5.9 ms\n",
      "Wall time: 10.2 s\n"
     ]
    },
    {
     "data": {
      "text/plain": [
       "{'dense': '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',\n",
       " 'dtype': 'float32',\n",
       " 'max_value': 9.119079544037932,\n",
       " 'min_value': 0.0}"
      ]
     },
     "execution_count": 9,
     "metadata": {},
     "output_type": "execute_result"
    }
   ],
   "source": [
    "%%time \n",
    "server.tiles(remote_file.uuid, 0, 0)"
   ]
  },
  {
   "cell_type": "code",
   "execution_count": 6,
   "metadata": {},
   "outputs": [
    {
     "data": {
      "application/vnd.jupyter.widget-view+json": {
       "model_id": "ed8b3a9516a74d469f071a2e5416702d",
       "version_major": 2,
       "version_minor": 0
      },
      "text/plain": [
       "A Jupyter Widget"
      ]
     },
     "metadata": {},
     "output_type": "display_data"
    }
   ],
   "source": [
    "import higlass_jupyter as hiju\n",
    "import hgflask.client as hgc\n",
    "\n",
    "conf = hgc.ViewConf([\n",
    "    hgc.View([\n",
    "        hgc.Track(track_type='top-axis', position='top'),\n",
    "        \n",
    "        hgc.Track(track_type='horizontal-chromosome-labels', position='top',\n",
    "                 tileset_uuid=cs_r.uuid, api_url=server.api_address),\n",
    "        hgc.Track(track_type='horizontal-bar', position='top', \n",
    "                  tileset_uuid=ts_r.uuid, api_url=server.api_address,\n",
    "                 options={ 'height': 40 }),\n",
    "    ])\n",
    "])\n",
    "\n",
    "hiju.HiGlassDisplay(viewconf=conf.to_json())"
   ]
  },
  {
   "cell_type": "code",
   "execution_count": 69,
   "metadata": {},
   "outputs": [
    {
     "name": "stdout",
     "output_type": "stream",
     "text": [
      "terminating: FwwPu-VOSKOWmxx4oTyN3w\n"
     ]
    },
    {
     "name": "stderr",
     "output_type": "stream",
     "text": [
      " * Running on http://0.0.0.0:52863/ (Press CTRL+C to quit)\n"
     ]
    },
    {
     "name": "stdout",
     "output_type": "stream",
     "text": [
      "sleeping\n"
     ]
    },
    {
     "name": "stderr",
     "output_type": "stream",
     "text": [
      "127.0.0.1 - - [08/Oct/2018 13:34:12] \"\u001b[37mGET /api/v1/tileset_info/?d=a HTTP/1.1\u001b[0m\" 200 -\n"
     ]
    },
    {
     "name": "stdout",
     "output_type": "stream",
     "text": [
      "ret: 200 b'{\\n  \"a\": {\\n    \"error\": \"No such tileset with uid: a\"\\n  }\\n}\\n'\n",
      "returning\n"
     ]
    },
    {
     "name": "stderr",
     "output_type": "stream",
     "text": [
      "127.0.0.1 - - [08/Oct/2018 13:34:56] \"\u001b[33mGET /api/v1/chrom-sizes/?id=fYlUbMB9S7Wrh1rvyexHBQ HTTP/1.1\u001b[0m\" 404 -\n",
      "127.0.0.1 - - [08/Oct/2018 13:34:56] \"\u001b[37mOPTIONS /api/v1/tileset_info/?d=W5Qc__IWQ62m4n_RWzwYRg&s=Qrq4rRX9SsmriUcMbCAvpQ HTTP/1.1\u001b[0m\" 200 -\n",
      "127.0.0.1 - - [08/Oct/2018 13:34:56] \"\u001b[37mGET /api/v1/chrom-sizes/?id=XLL1VxRZRDOJKQVY2_I7kw HTTP/1.1\u001b[0m\" 200 -\n",
      "127.0.0.1 - - [08/Oct/2018 13:34:56] \"\u001b[37mOPTIONS /api/v1/tileset_info/?d=eZk3h3qOQ-CeBOfdzK2TWg&s=Qrq4rRX9SsmriUcMbCAvpQ HTTP/1.1\u001b[0m\" 200 -\n",
      "127.0.0.1 - - [08/Oct/2018 13:34:56] \"\u001b[37mGET /api/v1/tileset_info/?d=eZk3h3qOQ-CeBOfdzK2TWg&s=Qrq4rRX9SsmriUcMbCAvpQ HTTP/1.1\u001b[0m\" 200 -\n",
      "127.0.0.1 - - [08/Oct/2018 13:34:56] \"\u001b[37mGET /api/v1/tileset_info/?d=W5Qc__IWQ62m4n_RWzwYRg&s=Qrq4rRX9SsmriUcMbCAvpQ HTTP/1.1\u001b[0m\" 200 -\n",
      "127.0.0.1 - - [08/Oct/2018 13:34:56] \"\u001b[37mOPTIONS /api/v1/tiles/?d=eZk3h3qOQ-CeBOfdzK2TWg.22.0&d=W5Qc__IWQ62m4n_RWzwYRg.22.0&d=W5Qc__IWQ62m4n_RWzwYRg.0.0&d=eZk3h3qOQ-CeBOfdzK2TWg.0.0&s=Qrq4rRX9SsmriUcMbCAvpQ HTTP/1.1\u001b[0m\" 200 -\n",
      "127.0.0.1 - - [08/Oct/2018 13:34:56] \"\u001b[37mGET /api/v1/tiles/?d=eZk3h3qOQ-CeBOfdzK2TWg.22.0&d=W5Qc__IWQ62m4n_RWzwYRg.22.0&d=W5Qc__IWQ62m4n_RWzwYRg.0.0&d=eZk3h3qOQ-CeBOfdzK2TWg.0.0&s=Qrq4rRX9SsmriUcMbCAvpQ HTTP/1.1\u001b[0m\" 200 -\n",
      "127.0.0.1 - - [08/Oct/2018 13:35:05] \"\u001b[37mOPTIONS /api/v1/tiles/?d=W5Qc__IWQ62m4n_RWzwYRg.1.0&d=W5Qc__IWQ62m4n_RWzwYRg.1.1&d=eZk3h3qOQ-CeBOfdzK2TWg.1.0&d=eZk3h3qOQ-CeBOfdzK2TWg.1.1&s=Qrq4rRX9SsmriUcMbCAvpQ HTTP/1.1\u001b[0m\" 200 -\n",
      "127.0.0.1 - - [08/Oct/2018 13:35:05] \"\u001b[37mGET /api/v1/tiles/?d=W5Qc__IWQ62m4n_RWzwYRg.1.0&d=W5Qc__IWQ62m4n_RWzwYRg.1.1&d=eZk3h3qOQ-CeBOfdzK2TWg.1.0&d=eZk3h3qOQ-CeBOfdzK2TWg.1.1&s=Qrq4rRX9SsmriUcMbCAvpQ HTTP/1.1\u001b[0m\" 200 -\n",
      "127.0.0.1 - - [08/Oct/2018 13:35:50] \"\u001b[37mGET /api/v1/chrom-sizes/?id=FTgwUvfjTVeNopt5tAOyjQ HTTP/1.1\u001b[0m\" 200 -\n",
      "127.0.0.1 - - [08/Oct/2018 13:35:50] \"\u001b[37mOPTIONS /api/v1/tileset_info/?d=W5Qc__IWQ62m4n_RWzwYRg&s=Qrq4rRX9SsmriUcMbCAvpQ HTTP/1.1\u001b[0m\" 200 -\n",
      "127.0.0.1 - - [08/Oct/2018 13:35:50] \"\u001b[37mOPTIONS /api/v1/tileset_info/?d=eZk3h3qOQ-CeBOfdzK2TWg&s=Qrq4rRX9SsmriUcMbCAvpQ HTTP/1.1\u001b[0m\" 200 -\n",
      "127.0.0.1 - - [08/Oct/2018 13:35:50] \"\u001b[37mGET /api/v1/chrom-sizes/?id=XLL1VxRZRDOJKQVY2_I7kw HTTP/1.1\u001b[0m\" 200 -\n",
      "127.0.0.1 - - [08/Oct/2018 13:35:50] \"\u001b[37mGET /api/v1/tileset_info/?d=eZk3h3qOQ-CeBOfdzK2TWg&s=Qrq4rRX9SsmriUcMbCAvpQ HTTP/1.1\u001b[0m\" 200 -\n",
      "127.0.0.1 - - [08/Oct/2018 13:35:50] \"\u001b[37mGET /api/v1/tileset_info/?d=W5Qc__IWQ62m4n_RWzwYRg&s=Qrq4rRX9SsmriUcMbCAvpQ HTTP/1.1\u001b[0m\" 200 -\n",
      "127.0.0.1 - - [08/Oct/2018 13:35:50] \"\u001b[37mOPTIONS /api/v1/tiles/?d=eZk3h3qOQ-CeBOfdzK2TWg.22.0&d=W5Qc__IWQ62m4n_RWzwYRg.22.0&d=W5Qc__IWQ62m4n_RWzwYRg.0.0&d=eZk3h3qOQ-CeBOfdzK2TWg.0.0&s=Qrq4rRX9SsmriUcMbCAvpQ HTTP/1.1\u001b[0m\" 200 -\n",
      "127.0.0.1 - - [08/Oct/2018 13:35:51] \"\u001b[37mGET /api/v1/tiles/?d=eZk3h3qOQ-CeBOfdzK2TWg.22.0&d=W5Qc__IWQ62m4n_RWzwYRg.22.0&d=W5Qc__IWQ62m4n_RWzwYRg.0.0&d=eZk3h3qOQ-CeBOfdzK2TWg.0.0&s=Qrq4rRX9SsmriUcMbCAvpQ HTTP/1.1\u001b[0m\" 200 -\n",
      "127.0.0.1 - - [08/Oct/2018 13:36:01] \"\u001b[37mOPTIONS /api/v1/tiles/?d=W5Qc__IWQ62m4n_RWzwYRg.1.0&d=W5Qc__IWQ62m4n_RWzwYRg.1.1&d=eZk3h3qOQ-CeBOfdzK2TWg.1.0&d=eZk3h3qOQ-CeBOfdzK2TWg.1.1&s=Qrq4rRX9SsmriUcMbCAvpQ HTTP/1.1\u001b[0m\" 200 -\n",
      "127.0.0.1 - - [08/Oct/2018 13:36:01] \"\u001b[37mGET /api/v1/tiles/?d=W5Qc__IWQ62m4n_RWzwYRg.1.0&d=W5Qc__IWQ62m4n_RWzwYRg.1.1&d=eZk3h3qOQ-CeBOfdzK2TWg.1.0&d=eZk3h3qOQ-CeBOfdzK2TWg.1.1&s=Qrq4rRX9SsmriUcMbCAvpQ HTTP/1.1\u001b[0m\" 200 -\n",
      "127.0.0.1 - - [08/Oct/2018 13:36:02] \"\u001b[37mOPTIONS /api/v1/tiles/?d=W5Qc__IWQ62m4n_RWzwYRg.0.0&d=eZk3h3qOQ-CeBOfdzK2TWg.0.0&s=Qrq4rRX9SsmriUcMbCAvpQ HTTP/1.1\u001b[0m\" 200 -\n",
      "127.0.0.1 - - [08/Oct/2018 13:36:02] \"\u001b[37mGET /api/v1/tiles/?d=W5Qc__IWQ62m4n_RWzwYRg.0.0&d=eZk3h3qOQ-CeBOfdzK2TWg.0.0&s=Qrq4rRX9SsmriUcMbCAvpQ HTTP/1.1\u001b[0m\" 200 -\n",
      "127.0.0.1 - - [08/Oct/2018 13:36:10] \"\u001b[37mOPTIONS /api/v1/tiles/?d=W5Qc__IWQ62m4n_RWzwYRg.1.0&d=W5Qc__IWQ62m4n_RWzwYRg.1.1&d=eZk3h3qOQ-CeBOfdzK2TWg.1.0&d=eZk3h3qOQ-CeBOfdzK2TWg.1.1&s=Qrq4rRX9SsmriUcMbCAvpQ HTTP/1.1\u001b[0m\" 200 -\n",
      "127.0.0.1 - - [08/Oct/2018 13:36:10] \"\u001b[37mGET /api/v1/tiles/?d=W5Qc__IWQ62m4n_RWzwYRg.1.0&d=W5Qc__IWQ62m4n_RWzwYRg.1.1&d=eZk3h3qOQ-CeBOfdzK2TWg.1.0&d=eZk3h3qOQ-CeBOfdzK2TWg.1.1&s=Qrq4rRX9SsmriUcMbCAvpQ HTTP/1.1\u001b[0m\" 200 -\n",
      "127.0.0.1 - - [08/Oct/2018 13:36:11] \"\u001b[37mOPTIONS /api/v1/tiles/?d=W5Qc__IWQ62m4n_RWzwYRg.2.0&d=W5Qc__IWQ62m4n_RWzwYRg.2.1&d=eZk3h3qOQ-CeBOfdzK2TWg.2.0&d=eZk3h3qOQ-CeBOfdzK2TWg.2.1&s=Qrq4rRX9SsmriUcMbCAvpQ HTTP/1.1\u001b[0m\" 200 -\n",
      "127.0.0.1 - - [08/Oct/2018 13:36:12] \"\u001b[37mGET /api/v1/tiles/?d=W5Qc__IWQ62m4n_RWzwYRg.2.0&d=W5Qc__IWQ62m4n_RWzwYRg.2.1&d=eZk3h3qOQ-CeBOfdzK2TWg.2.0&d=eZk3h3qOQ-CeBOfdzK2TWg.2.1&s=Qrq4rRX9SsmriUcMbCAvpQ HTTP/1.1\u001b[0m\" 200 -\n",
      "127.0.0.1 - - [08/Oct/2018 13:36:15] \"\u001b[37mOPTIONS /api/v1/tiles/?d=W5Qc__IWQ62m4n_RWzwYRg.3.0&d=W5Qc__IWQ62m4n_RWzwYRg.3.1&d=eZk3h3qOQ-CeBOfdzK2TWg.3.0&d=eZk3h3qOQ-CeBOfdzK2TWg.3.1&s=Qrq4rRX9SsmriUcMbCAvpQ HTTP/1.1\u001b[0m\" 200 -\n",
      "127.0.0.1 - - [08/Oct/2018 13:36:16] \"\u001b[37mGET /api/v1/tiles/?d=W5Qc__IWQ62m4n_RWzwYRg.3.0&d=W5Qc__IWQ62m4n_RWzwYRg.3.1&d=eZk3h3qOQ-CeBOfdzK2TWg.3.0&d=eZk3h3qOQ-CeBOfdzK2TWg.3.1&s=Qrq4rRX9SsmriUcMbCAvpQ HTTP/1.1\u001b[0m\" 200 -\n",
      "127.0.0.1 - - [08/Oct/2018 13:36:20] \"\u001b[37mOPTIONS /api/v1/tiles/?d=W5Qc__IWQ62m4n_RWzwYRg.4.0&d=W5Qc__IWQ62m4n_RWzwYRg.4.1&d=eZk3h3qOQ-CeBOfdzK2TWg.4.0&d=eZk3h3qOQ-CeBOfdzK2TWg.4.1&s=Qrq4rRX9SsmriUcMbCAvpQ HTTP/1.1\u001b[0m\" 200 -\n",
      "127.0.0.1 - - [08/Oct/2018 13:36:20] \"\u001b[37mGET /api/v1/tiles/?d=W5Qc__IWQ62m4n_RWzwYRg.4.0&d=W5Qc__IWQ62m4n_RWzwYRg.4.1&d=eZk3h3qOQ-CeBOfdzK2TWg.4.0&d=eZk3h3qOQ-CeBOfdzK2TWg.4.1&s=Qrq4rRX9SsmriUcMbCAvpQ HTTP/1.1\u001b[0m\" 200 -\n",
      "127.0.0.1 - - [08/Oct/2018 13:36:23] \"\u001b[37mOPTIONS /api/v1/tiles/?d=W5Qc__IWQ62m4n_RWzwYRg.5.1&d=W5Qc__IWQ62m4n_RWzwYRg.5.2&d=eZk3h3qOQ-CeBOfdzK2TWg.5.1&d=eZk3h3qOQ-CeBOfdzK2TWg.5.2&s=Qrq4rRX9SsmriUcMbCAvpQ HTTP/1.1\u001b[0m\" 200 -\n",
      "127.0.0.1 - - [08/Oct/2018 13:36:23] \"\u001b[37mGET /api/v1/tiles/?d=W5Qc__IWQ62m4n_RWzwYRg.5.1&d=W5Qc__IWQ62m4n_RWzwYRg.5.2&d=eZk3h3qOQ-CeBOfdzK2TWg.5.1&d=eZk3h3qOQ-CeBOfdzK2TWg.5.2&s=Qrq4rRX9SsmriUcMbCAvpQ HTTP/1.1\u001b[0m\" 200 -\n",
      "127.0.0.1 - - [08/Oct/2018 13:36:25] \"\u001b[37mOPTIONS /api/v1/tiles/?d=W5Qc__IWQ62m4n_RWzwYRg.6.3&d=W5Qc__IWQ62m4n_RWzwYRg.6.4&d=W5Qc__IWQ62m4n_RWzwYRg.6.5&d=eZk3h3qOQ-CeBOfdzK2TWg.6.3&d=eZk3h3qOQ-CeBOfdzK2TWg.6.4&d=eZk3h3qOQ-CeBOfdzK2TWg.6.5&s=Qrq4rRX9SsmriUcMbCAvpQ HTTP/1.1\u001b[0m\" 200 -\n",
      "127.0.0.1 - - [08/Oct/2018 13:36:26] \"\u001b[37mGET /api/v1/tiles/?d=W5Qc__IWQ62m4n_RWzwYRg.6.3&d=W5Qc__IWQ62m4n_RWzwYRg.6.4&d=W5Qc__IWQ62m4n_RWzwYRg.6.5&d=eZk3h3qOQ-CeBOfdzK2TWg.6.3&d=eZk3h3qOQ-CeBOfdzK2TWg.6.4&d=eZk3h3qOQ-CeBOfdzK2TWg.6.5&s=Qrq4rRX9SsmriUcMbCAvpQ HTTP/1.1\u001b[0m\" 200 -\n",
      "127.0.0.1 - - [08/Oct/2018 13:36:26] \"\u001b[37mGET /api/v1/tiles/?d=W5Qc__IWQ62m4n_RWzwYRg.5.1&d=W5Qc__IWQ62m4n_RWzwYRg.5.2&d=eZk3h3qOQ-CeBOfdzK2TWg.5.1&d=eZk3h3qOQ-CeBOfdzK2TWg.5.2&s=Qrq4rRX9SsmriUcMbCAvpQ HTTP/1.1\u001b[0m\" 200 -\n",
      "127.0.0.1 - - [08/Oct/2018 13:36:27] \"\u001b[37mOPTIONS /api/v1/tiles/?d=W5Qc__IWQ62m4n_RWzwYRg.4.0&d=W5Qc__IWQ62m4n_RWzwYRg.4.1&d=eZk3h3qOQ-CeBOfdzK2TWg.4.0&d=eZk3h3qOQ-CeBOfdzK2TWg.4.1&s=Qrq4rRX9SsmriUcMbCAvpQ HTTP/1.1\u001b[0m\" 200 -\n",
      "127.0.0.1 - - [08/Oct/2018 13:36:27] \"\u001b[37mGET /api/v1/tiles/?d=W5Qc__IWQ62m4n_RWzwYRg.4.0&d=W5Qc__IWQ62m4n_RWzwYRg.4.1&d=eZk3h3qOQ-CeBOfdzK2TWg.4.0&d=eZk3h3qOQ-CeBOfdzK2TWg.4.1&s=Qrq4rRX9SsmriUcMbCAvpQ HTTP/1.1\u001b[0m\" 200 -\n",
      "127.0.0.1 - - [08/Oct/2018 13:36:27] \"\u001b[37mOPTIONS /api/v1/tiles/?d=W5Qc__IWQ62m4n_RWzwYRg.3.0&d=eZk3h3qOQ-CeBOfdzK2TWg.3.0&d=W5Qc__IWQ62m4n_RWzwYRg.3.1&d=eZk3h3qOQ-CeBOfdzK2TWg.3.1&s=Qrq4rRX9SsmriUcMbCAvpQ HTTP/1.1\u001b[0m\" 200 -\n",
      "127.0.0.1 - - [08/Oct/2018 13:36:28] \"\u001b[37mGET /api/v1/tiles/?d=W5Qc__IWQ62m4n_RWzwYRg.3.0&d=eZk3h3qOQ-CeBOfdzK2TWg.3.0&d=W5Qc__IWQ62m4n_RWzwYRg.3.1&d=eZk3h3qOQ-CeBOfdzK2TWg.3.1&s=Qrq4rRX9SsmriUcMbCAvpQ HTTP/1.1\u001b[0m\" 200 -\n",
      "127.0.0.1 - - [08/Oct/2018 13:36:30] \"\u001b[37mOPTIONS /api/v1/tiles/?d=W5Qc__IWQ62m4n_RWzwYRg.2.0&d=eZk3h3qOQ-CeBOfdzK2TWg.2.0&s=Qrq4rRX9SsmriUcMbCAvpQ HTTP/1.1\u001b[0m\" 200 -\n",
      "127.0.0.1 - - [08/Oct/2018 13:36:30] \"\u001b[37mGET /api/v1/tiles/?d=W5Qc__IWQ62m4n_RWzwYRg.2.0&d=eZk3h3qOQ-CeBOfdzK2TWg.2.0&s=Qrq4rRX9SsmriUcMbCAvpQ HTTP/1.1\u001b[0m\" 200 -\n",
      "127.0.0.1 - - [08/Oct/2018 13:36:33] \"\u001b[37mOPTIONS /api/v1/tiles/?d=W5Qc__IWQ62m4n_RWzwYRg.2.1&d=eZk3h3qOQ-CeBOfdzK2TWg.2.1&s=Qrq4rRX9SsmriUcMbCAvpQ HTTP/1.1\u001b[0m\" 200 -\n",
      "127.0.0.1 - - [08/Oct/2018 13:36:33] \"\u001b[37mGET /api/v1/tiles/?d=W5Qc__IWQ62m4n_RWzwYRg.2.1&d=eZk3h3qOQ-CeBOfdzK2TWg.2.1&s=Qrq4rRX9SsmriUcMbCAvpQ HTTP/1.1\u001b[0m\" 200 -\n"
     ]
    },
    {
     "name": "stderr",
     "output_type": "stream",
     "text": [
      "127.0.0.1 - - [08/Oct/2018 13:36:36] \"\u001b[37mOPTIONS /api/v1/tiles/?d=W5Qc__IWQ62m4n_RWzwYRg.3.0&d=W5Qc__IWQ62m4n_RWzwYRg.3.1&d=eZk3h3qOQ-CeBOfdzK2TWg.3.0&d=eZk3h3qOQ-CeBOfdzK2TWg.3.1&d=W5Qc__IWQ62m4n_RWzwYRg.4.1&d=W5Qc__IWQ62m4n_RWzwYRg.4.2&d=W5Qc__IWQ62m4n_RWzwYRg.4.3&d=eZk3h3qOQ-CeBOfdzK2TWg.4.1&d=eZk3h3qOQ-CeBOfdzK2TWg.4.2&d=eZk3h3qOQ-CeBOfdzK2TWg.4.3&s=Qrq4rRX9SsmriUcMbCAvpQ HTTP/1.1\u001b[0m\" 200 -\n",
      "127.0.0.1 - - [08/Oct/2018 13:36:36] \"\u001b[37mGET /api/v1/tiles/?d=W5Qc__IWQ62m4n_RWzwYRg.3.0&d=W5Qc__IWQ62m4n_RWzwYRg.3.1&d=eZk3h3qOQ-CeBOfdzK2TWg.3.0&d=eZk3h3qOQ-CeBOfdzK2TWg.3.1&d=W5Qc__IWQ62m4n_RWzwYRg.4.1&d=W5Qc__IWQ62m4n_RWzwYRg.4.2&d=W5Qc__IWQ62m4n_RWzwYRg.4.3&d=eZk3h3qOQ-CeBOfdzK2TWg.4.1&d=eZk3h3qOQ-CeBOfdzK2TWg.4.2&d=eZk3h3qOQ-CeBOfdzK2TWg.4.3&s=Qrq4rRX9SsmriUcMbCAvpQ HTTP/1.1\u001b[0m\" 200 -\n",
      "127.0.0.1 - - [08/Oct/2018 13:36:36] \"\u001b[37mOPTIONS /api/v1/tiles/?d=W5Qc__IWQ62m4n_RWzwYRg.5.4&d=W5Qc__IWQ62m4n_RWzwYRg.5.5&d=eZk3h3qOQ-CeBOfdzK2TWg.5.4&d=eZk3h3qOQ-CeBOfdzK2TWg.5.5&s=Qrq4rRX9SsmriUcMbCAvpQ HTTP/1.1\u001b[0m\" 200 -\n",
      "127.0.0.1 - - [08/Oct/2018 13:36:36] \"\u001b[37mGET /api/v1/tiles/?d=W5Qc__IWQ62m4n_RWzwYRg.5.4&d=W5Qc__IWQ62m4n_RWzwYRg.5.5&d=eZk3h3qOQ-CeBOfdzK2TWg.5.4&d=eZk3h3qOQ-CeBOfdzK2TWg.5.5&s=Qrq4rRX9SsmriUcMbCAvpQ HTTP/1.1\u001b[0m\" 200 -\n",
      "127.0.0.1 - - [08/Oct/2018 13:36:37] \"\u001b[37mOPTIONS /api/v1/tiles/?d=W5Qc__IWQ62m4n_RWzwYRg.4.2&d=eZk3h3qOQ-CeBOfdzK2TWg.4.2&s=Qrq4rRX9SsmriUcMbCAvpQ HTTP/1.1\u001b[0m\" 200 -\n",
      "127.0.0.1 - - [08/Oct/2018 13:36:37] \"\u001b[37mGET /api/v1/tiles/?d=W5Qc__IWQ62m4n_RWzwYRg.4.2&d=eZk3h3qOQ-CeBOfdzK2TWg.4.2&s=Qrq4rRX9SsmriUcMbCAvpQ HTTP/1.1\u001b[0m\" 200 -\n",
      "127.0.0.1 - - [08/Oct/2018 13:36:38] \"\u001b[37mOPTIONS /api/v1/tiles/?d=W5Qc__IWQ62m4n_RWzwYRg.4.3&d=eZk3h3qOQ-CeBOfdzK2TWg.4.3&d=W5Qc__IWQ62m4n_RWzwYRg.4.1&d=eZk3h3qOQ-CeBOfdzK2TWg.4.1&s=Qrq4rRX9SsmriUcMbCAvpQ HTTP/1.1\u001b[0m\" 200 -\n",
      "127.0.0.1 - - [08/Oct/2018 13:36:38] \"\u001b[37mGET /api/v1/tiles/?d=W5Qc__IWQ62m4n_RWzwYRg.4.3&d=eZk3h3qOQ-CeBOfdzK2TWg.4.3&d=W5Qc__IWQ62m4n_RWzwYRg.4.1&d=eZk3h3qOQ-CeBOfdzK2TWg.4.1&s=Qrq4rRX9SsmriUcMbCAvpQ HTTP/1.1\u001b[0m\" 200 -\n",
      "127.0.0.1 - - [08/Oct/2018 13:36:38] \"\u001b[37mOPTIONS /api/v1/tiles/?d=W5Qc__IWQ62m4n_RWzwYRg.3.0&d=W5Qc__IWQ62m4n_RWzwYRg.3.1&d=eZk3h3qOQ-CeBOfdzK2TWg.3.0&d=eZk3h3qOQ-CeBOfdzK2TWg.3.1&s=Qrq4rRX9SsmriUcMbCAvpQ HTTP/1.1\u001b[0m\" 200 -\n",
      "127.0.0.1 - - [08/Oct/2018 13:36:38] \"\u001b[37mGET /api/v1/tiles/?d=W5Qc__IWQ62m4n_RWzwYRg.3.0&d=W5Qc__IWQ62m4n_RWzwYRg.3.1&d=eZk3h3qOQ-CeBOfdzK2TWg.3.0&d=eZk3h3qOQ-CeBOfdzK2TWg.3.1&s=Qrq4rRX9SsmriUcMbCAvpQ HTTP/1.1\u001b[0m\" 200 -\n",
      "127.0.0.1 - - [08/Oct/2018 13:36:38] \"\u001b[37mOPTIONS /api/v1/tiles/?d=W5Qc__IWQ62m4n_RWzwYRg.2.0&d=eZk3h3qOQ-CeBOfdzK2TWg.2.0&s=Qrq4rRX9SsmriUcMbCAvpQ HTTP/1.1\u001b[0m\" 200 -\n",
      "127.0.0.1 - - [08/Oct/2018 13:36:39] \"\u001b[37mGET /api/v1/tiles/?d=W5Qc__IWQ62m4n_RWzwYRg.2.0&d=eZk3h3qOQ-CeBOfdzK2TWg.2.0&s=Qrq4rRX9SsmriUcMbCAvpQ HTTP/1.1\u001b[0m\" 200 -\n",
      "127.0.0.1 - - [08/Oct/2018 13:36:39] \"\u001b[37mGET /api/v1/tiles/?d=W5Qc__IWQ62m4n_RWzwYRg.3.0&d=W5Qc__IWQ62m4n_RWzwYRg.3.1&d=eZk3h3qOQ-CeBOfdzK2TWg.3.0&d=eZk3h3qOQ-CeBOfdzK2TWg.3.1&s=Qrq4rRX9SsmriUcMbCAvpQ HTTP/1.1\u001b[0m\" 200 -\n",
      "127.0.0.1 - - [08/Oct/2018 13:36:39] \"\u001b[37mOPTIONS /api/v1/tiles/?d=W5Qc__IWQ62m4n_RWzwYRg.4.1&d=W5Qc__IWQ62m4n_RWzwYRg.4.2&d=W5Qc__IWQ62m4n_RWzwYRg.4.3&d=eZk3h3qOQ-CeBOfdzK2TWg.4.1&d=eZk3h3qOQ-CeBOfdzK2TWg.4.2&d=eZk3h3qOQ-CeBOfdzK2TWg.4.3&s=Qrq4rRX9SsmriUcMbCAvpQ HTTP/1.1\u001b[0m\" 200 -\n",
      "127.0.0.1 - - [08/Oct/2018 13:36:40] \"\u001b[37mGET /api/v1/tiles/?d=W5Qc__IWQ62m4n_RWzwYRg.4.1&d=W5Qc__IWQ62m4n_RWzwYRg.4.2&d=W5Qc__IWQ62m4n_RWzwYRg.4.3&d=eZk3h3qOQ-CeBOfdzK2TWg.4.1&d=eZk3h3qOQ-CeBOfdzK2TWg.4.2&d=eZk3h3qOQ-CeBOfdzK2TWg.4.3&s=Qrq4rRX9SsmriUcMbCAvpQ HTTP/1.1\u001b[0m\" 200 -\n",
      "127.0.0.1 - - [08/Oct/2018 13:36:42] \"\u001b[37mGET /api/v1/tiles/?d=W5Qc__IWQ62m4n_RWzwYRg.3.0&d=W5Qc__IWQ62m4n_RWzwYRg.3.1&d=eZk3h3qOQ-CeBOfdzK2TWg.3.0&d=eZk3h3qOQ-CeBOfdzK2TWg.3.1&s=Qrq4rRX9SsmriUcMbCAvpQ HTTP/1.1\u001b[0m\" 200 -\n",
      "127.0.0.1 - - [08/Oct/2018 13:36:43] \"\u001b[37mOPTIONS /api/v1/tiles/?d=W5Qc__IWQ62m4n_RWzwYRg.2.0&d=eZk3h3qOQ-CeBOfdzK2TWg.2.0&d=W5Qc__IWQ62m4n_RWzwYRg.2.1&d=eZk3h3qOQ-CeBOfdzK2TWg.2.1&s=Qrq4rRX9SsmriUcMbCAvpQ HTTP/1.1\u001b[0m\" 200 -\n",
      "127.0.0.1 - - [08/Oct/2018 13:36:43] \"\u001b[37mGET /api/v1/tiles/?d=W5Qc__IWQ62m4n_RWzwYRg.2.0&d=eZk3h3qOQ-CeBOfdzK2TWg.2.0&d=W5Qc__IWQ62m4n_RWzwYRg.2.1&d=eZk3h3qOQ-CeBOfdzK2TWg.2.1&s=Qrq4rRX9SsmriUcMbCAvpQ HTTP/1.1\u001b[0m\" 200 -\n",
      "127.0.0.1 - - [08/Oct/2018 13:36:43] \"\u001b[37mOPTIONS /api/v1/tiles/?d=W5Qc__IWQ62m4n_RWzwYRg.1.0&d=eZk3h3qOQ-CeBOfdzK2TWg.1.0&s=Qrq4rRX9SsmriUcMbCAvpQ HTTP/1.1\u001b[0m\" 200 -\n",
      "127.0.0.1 - - [08/Oct/2018 13:36:44] \"\u001b[37mGET /api/v1/tiles/?d=W5Qc__IWQ62m4n_RWzwYRg.1.0&d=eZk3h3qOQ-CeBOfdzK2TWg.1.0&s=Qrq4rRX9SsmriUcMbCAvpQ HTTP/1.1\u001b[0m\" 200 -\n",
      "127.0.0.1 - - [08/Oct/2018 13:36:44] \"\u001b[37mOPTIONS /api/v1/tiles/?d=W5Qc__IWQ62m4n_RWzwYRg.2.0&d=W5Qc__IWQ62m4n_RWzwYRg.2.1&d=eZk3h3qOQ-CeBOfdzK2TWg.2.0&d=eZk3h3qOQ-CeBOfdzK2TWg.2.1&s=Qrq4rRX9SsmriUcMbCAvpQ HTTP/1.1\u001b[0m\" 200 -\n",
      "127.0.0.1 - - [08/Oct/2018 13:36:44] \"\u001b[37mGET /api/v1/tiles/?d=W5Qc__IWQ62m4n_RWzwYRg.2.0&d=W5Qc__IWQ62m4n_RWzwYRg.2.1&d=eZk3h3qOQ-CeBOfdzK2TWg.2.0&d=eZk3h3qOQ-CeBOfdzK2TWg.2.1&s=Qrq4rRX9SsmriUcMbCAvpQ HTTP/1.1\u001b[0m\" 200 -\n",
      "127.0.0.1 - - [08/Oct/2018 13:36:44] \"\u001b[37mOPTIONS /api/v1/tiles/?d=W5Qc__IWQ62m4n_RWzwYRg.3.0&d=W5Qc__IWQ62m4n_RWzwYRg.3.1&d=eZk3h3qOQ-CeBOfdzK2TWg.3.0&d=eZk3h3qOQ-CeBOfdzK2TWg.3.1&s=Qrq4rRX9SsmriUcMbCAvpQ HTTP/1.1\u001b[0m\" 200 -\n",
      "127.0.0.1 - - [08/Oct/2018 13:36:44] \"\u001b[37mGET /api/v1/tiles/?d=W5Qc__IWQ62m4n_RWzwYRg.3.0&d=W5Qc__IWQ62m4n_RWzwYRg.3.1&d=eZk3h3qOQ-CeBOfdzK2TWg.3.0&d=eZk3h3qOQ-CeBOfdzK2TWg.3.1&s=Qrq4rRX9SsmriUcMbCAvpQ HTTP/1.1\u001b[0m\" 200 -\n",
      "127.0.0.1 - - [08/Oct/2018 13:36:44] \"\u001b[37mGET /api/v1/tiles/?d=W5Qc__IWQ62m4n_RWzwYRg.4.1&d=W5Qc__IWQ62m4n_RWzwYRg.4.2&d=W5Qc__IWQ62m4n_RWzwYRg.4.3&d=eZk3h3qOQ-CeBOfdzK2TWg.4.1&d=eZk3h3qOQ-CeBOfdzK2TWg.4.2&d=eZk3h3qOQ-CeBOfdzK2TWg.4.3&s=Qrq4rRX9SsmriUcMbCAvpQ HTTP/1.1\u001b[0m\" 200 -\n"
     ]
    }
   ],
   "source": [
    "import hgtiles.bigwig as hgbi\n",
    "import hgtiles.chromsizes as hgch\n",
    "\n",
    "import hgflask.server as hgse\n",
    "import hgflask.tilesets as hfti\n",
    "\n",
    "chromsizes_fp = '../data/chromSizes_hg19_reordered.tsv'\n",
    "chromsizes = hgch.get_tsv_chromsizes(chromsizes_fp)\n",
    "bigwig_fp = '../data/wgEncodeCaltechRnaSeqHuvecR1x75dTh1014IlnaPlusSignalRep2.bigWig'\n",
    "\n",
    "#print(\"chromsizes:\", chromsizes)\n",
    "#print(\"hgbi.tileset_info\", hgbi.tileset_info(bigwig_fp, chromsizes))\n",
    "\n",
    "ts = hfti.Tileset(tileset_info=lambda: hgbi.tileset_info(bigwig_fp),\n",
    "                tiles=lambda tids: hgbi.tiles(bigwig_fp, tids))\n",
    "ts_r = hfti.Tileset(tileset_info=lambda: hgbi.tileset_info(bigwig_fp, chromsizes),\n",
    "                tiles=lambda tids: hgbi.tiles(bigwig_fp, tids, chromsizes=chromsizes))\n",
    "\n",
    "cs = hfti.Tileset(chromsizes=lambda: \n",
    "                   hgch.get_tsv_chromsizes('../data/chromSizes_hg19.tsv'))\n",
    "cs_r = hfti.Tileset(chromsizes=lambda: \n",
    "                   hgch.get_tsv_chromsizes('../data/chromSizes_hg19_reordered.tsv'))\n",
    "\n",
    "server = hgse.start(tilesets=[ts, ts_r, cs, cs_r])"
   ]
  },
  {
   "cell_type": "code",
   "execution_count": 72,
   "metadata": {},
   "outputs": [
    {
     "name": "stdout",
     "output_type": "stream",
     "text": [
      "{\"editable\": true, \"views\": [{\"uid\": \"Q2qL9pp8SXqSHW7Cht0mmw\", \"tracks\": {\"top\": [{\"type\": \"top-axis\", \"options\": {}}, {\"type\": \"horizontal-chromosome-labels\", \"options\": {}, \"server\": \"http://localhost:52863/api/v1\", \"tilesetUid\": \"FTgwUvfjTVeNopt5tAOyjQ\"}, {\"type\": \"horizontal-bar\", \"options\": {}, \"server\": \"http://localhost:52863/api/v1\", \"tilesetUid\": \"W5Qc__IWQ62m4n_RWzwYRg\"}, {\"type\": \"horizontal-chromosome-labels\", \"options\": {}, \"server\": \"http://localhost:52863/api/v1\", \"tilesetUid\": \"XLL1VxRZRDOJKQVY2_I7kw\"}, {\"type\": \"horizontal-bar\", \"options\": {}, \"server\": \"http://localhost:52863/api/v1\", \"tilesetUid\": \"eZk3h3qOQ-CeBOfdzK2TWg\"}], \"center\": [], \"left\": [], \"right\": [], \"bottom\": []}, \"layout\": {\"w\": 12, \"h\": 6, \"x\": 0, \"y\": 0}}], \"trackSourceServers\": [\"http://higlass.io/api/v1\"], \"exportViewUrl\": \"http://higlass.io/api/v1/viewconfs\"}\n"
     ]
    },
    {
     "data": {
      "application/vnd.jupyter.widget-view+json": {
       "model_id": "3bc97c0c1fbd45c6ba02fd2189137b53",
       "version_major": 2,
       "version_minor": 0
      },
      "text/plain": [
       "A Jupyter Widget"
      ]
     },
     "metadata": {},
     "output_type": "display_data"
    }
   ],
   "source": [
    "import json\n",
    "import hgflask.client as hgc\n",
    "\n",
    "conf = hgc.ViewConf([\n",
    "    hgc.View([\n",
    "        hgc.Track(track_type='top-axis', position='top'),\n",
    "        \n",
    "        hgc.Track(track_type='horizontal-chromosome-labels', position='top',\n",
    "                 tileset_uuid=cs.uuid, api_url=server.api_address),\n",
    "        hgc.Track(track_type='horizontal-bar', position='top', \n",
    "                  tileset_uuid=ts.uuid, api_url=server.api_address),\n",
    "        \n",
    "        hgc.Track(track_type='horizontal-chromosome-labels', position='top',\n",
    "                 tileset_uuid=cs_r.uuid, api_url=server.api_address),\n",
    "        hgc.Track(track_type='horizontal-bar', position='top', \n",
    "                  tileset_uuid=ts_r.uuid, api_url=server.api_address),\n",
    "    ])\n",
    "])\n",
    "\n",
    "print(json.dumps(conf.to_json()))\n",
    "\n",
    "import higlass_jupyter as hiju\n",
    "\n",
    "hiju.HiGlassDisplay(viewconf=conf.to_json())"
   ]
  },
  {
   "cell_type": "markdown",
   "metadata": {},
   "source": [
    "## Custom Data"
   ]
  },
  {
   "cell_type": "code",
   "execution_count": 26,
   "metadata": {
    "collapsed": true
   },
   "outputs": [],
   "source": [
    "import math\n",
    "import numpy as np\n",
    "import itertools as it\n",
    "\n",
    "dim = 2000\n",
    "\n",
    "data = np.zeros((dim, dim))\n",
    "for x,y in it.product(range(dim), repeat=2):\n",
    "    data[x][y] = (-(y + 47) * math.sin(math.sqrt(abs(x / 2 + (y+47))))\n",
    "                             - x * math.sin(math.sqrt(abs(x - (y+47)))))"
   ]
  },
  {
   "cell_type": "code",
   "execution_count": 30,
   "metadata": {},
   "outputs": [
    {
     "name": "stdout",
     "output_type": "stream",
     "text": [
      "terminating: cJ9x-FgITWi3aapUf2Hgxw\n"
     ]
    },
    {
     "name": "stderr",
     "output_type": "stream",
     "text": [
      " * Running on http://0.0.0.0:54652/ (Press CTRL+C to quit)\n"
     ]
    },
    {
     "name": "stdout",
     "output_type": "stream",
     "text": [
      "sleeping\n"
     ]
    },
    {
     "name": "stderr",
     "output_type": "stream",
     "text": [
      "127.0.0.1 - - [08/Oct/2018 14:59:45] \"\u001b[37mGET /api/v1/tileset_info/?d=a HTTP/1.1\u001b[0m\" 200 -\n"
     ]
    },
    {
     "name": "stdout",
     "output_type": "stream",
     "text": [
      "ret: 200 b'{\\n  \"a\": {\\n    \"error\": \"No such tileset with uid: a\"\\n  }\\n}\\n'\n",
      "returning\n"
     ]
    },
    {
     "name": "stderr",
     "output_type": "stream",
     "text": [
      "127.0.0.1 - - [08/Oct/2018 15:01:08] \"\u001b[37mOPTIONS /api/v1/tileset_info/?d=ZZX5x5DrStmGWlxBlC6F7g&s=Qrq4rRX9SsmriUcMbCAvpQ HTTP/1.1\u001b[0m\" 200 -\n",
      "127.0.0.1 - - [08/Oct/2018 15:01:08] \"\u001b[37mGET /api/v1/tileset_info/?d=ZZX5x5DrStmGWlxBlC6F7g&s=Qrq4rRX9SsmriUcMbCAvpQ HTTP/1.1\u001b[0m\" 200 -\n",
      "127.0.0.1 - - [08/Oct/2018 15:01:08] \"\u001b[37mOPTIONS /api/v1/tiles/?d=ZZX5x5DrStmGWlxBlC6F7g.3.0.0&d=ZZX5x5DrStmGWlxBlC6F7g.1.0.0&d=ZZX5x5DrStmGWlxBlC6F7g.1.0.1&d=ZZX5x5DrStmGWlxBlC6F7g.1.1.0&d=ZZX5x5DrStmGWlxBlC6F7g.1.1.1&s=Qrq4rRX9SsmriUcMbCAvpQ HTTP/1.1\u001b[0m\" 200 -\n",
      "127.0.0.1 - - [08/Oct/2018 15:01:09] \"\u001b[37mGET /api/v1/tiles/?d=ZZX5x5DrStmGWlxBlC6F7g.3.0.0&d=ZZX5x5DrStmGWlxBlC6F7g.1.0.0&d=ZZX5x5DrStmGWlxBlC6F7g.1.0.1&d=ZZX5x5DrStmGWlxBlC6F7g.1.1.0&d=ZZX5x5DrStmGWlxBlC6F7g.1.1.1&s=Qrq4rRX9SsmriUcMbCAvpQ HTTP/1.1\u001b[0m\" 200 -\n",
      "127.0.0.1 - - [08/Oct/2018 15:02:21] \"\u001b[37mOPTIONS /api/v1/tiles/?d=ZZX5x5DrStmGWlxBlC6F7g.3.3.3&d=ZZX5x5DrStmGWlxBlC6F7g.3.3.4&d=ZZX5x5DrStmGWlxBlC6F7g.3.4.3&d=ZZX5x5DrStmGWlxBlC6F7g.3.4.4&d=ZZX5x5DrStmGWlxBlC6F7g.3.5.3&d=ZZX5x5DrStmGWlxBlC6F7g.3.5.4&s=Qrq4rRX9SsmriUcMbCAvpQ HTTP/1.1\u001b[0m\" 200 -\n",
      "127.0.0.1 - - [08/Oct/2018 15:02:21] \"\u001b[37mGET /api/v1/tiles/?d=ZZX5x5DrStmGWlxBlC6F7g.3.3.3&d=ZZX5x5DrStmGWlxBlC6F7g.3.3.4&d=ZZX5x5DrStmGWlxBlC6F7g.3.4.3&d=ZZX5x5DrStmGWlxBlC6F7g.3.4.4&d=ZZX5x5DrStmGWlxBlC6F7g.3.5.3&d=ZZX5x5DrStmGWlxBlC6F7g.3.5.4&s=Qrq4rRX9SsmriUcMbCAvpQ HTTP/1.1\u001b[0m\" 200 -\n",
      "127.0.0.1 - - [08/Oct/2018 15:02:25] \"\u001b[37mOPTIONS /api/v1/tiles/?d=ZZX5x5DrStmGWlxBlC6F7g.3.3.3&d=ZZX5x5DrStmGWlxBlC6F7g.3.3.4&d=ZZX5x5DrStmGWlxBlC6F7g.3.5.3&d=ZZX5x5DrStmGWlxBlC6F7g.3.5.4&s=Qrq4rRX9SsmriUcMbCAvpQ HTTP/1.1\u001b[0m\" 200 -\n",
      "127.0.0.1 - - [08/Oct/2018 15:02:25] \"\u001b[37mGET /api/v1/tiles/?d=ZZX5x5DrStmGWlxBlC6F7g.3.3.3&d=ZZX5x5DrStmGWlxBlC6F7g.3.3.4&d=ZZX5x5DrStmGWlxBlC6F7g.3.5.3&d=ZZX5x5DrStmGWlxBlC6F7g.3.5.4&s=Qrq4rRX9SsmriUcMbCAvpQ HTTP/1.1\u001b[0m\" 200 -\n",
      "127.0.0.1 - - [08/Oct/2018 15:02:26] \"\u001b[37mOPTIONS /api/v1/tiles/?d=ZZX5x5DrStmGWlxBlC6F7g.3.3.2&d=ZZX5x5DrStmGWlxBlC6F7g.3.3.5&d=ZZX5x5DrStmGWlxBlC6F7g.3.4.2&d=ZZX5x5DrStmGWlxBlC6F7g.3.4.5&d=ZZX5x5DrStmGWlxBlC6F7g.3.5.2&d=ZZX5x5DrStmGWlxBlC6F7g.3.5.5&d=ZZX5x5DrStmGWlxBlC6F7g.3.6.2&d=ZZX5x5DrStmGWlxBlC6F7g.3.6.3&d=ZZX5x5DrStmGWlxBlC6F7g.3.6.4&d=ZZX5x5DrStmGWlxBlC6F7g.3.6.5&s=Qrq4rRX9SsmriUcMbCAvpQ HTTP/1.1\u001b[0m\" 200 -\n",
      "127.0.0.1 - - [08/Oct/2018 15:02:26] \"\u001b[37mGET /api/v1/tiles/?d=ZZX5x5DrStmGWlxBlC6F7g.3.3.2&d=ZZX5x5DrStmGWlxBlC6F7g.3.3.5&d=ZZX5x5DrStmGWlxBlC6F7g.3.4.2&d=ZZX5x5DrStmGWlxBlC6F7g.3.4.5&d=ZZX5x5DrStmGWlxBlC6F7g.3.5.2&d=ZZX5x5DrStmGWlxBlC6F7g.3.5.5&d=ZZX5x5DrStmGWlxBlC6F7g.3.6.2&d=ZZX5x5DrStmGWlxBlC6F7g.3.6.3&d=ZZX5x5DrStmGWlxBlC6F7g.3.6.4&d=ZZX5x5DrStmGWlxBlC6F7g.3.6.5&s=Qrq4rRX9SsmriUcMbCAvpQ HTTP/1.1\u001b[0m\" 200 -\n",
      "127.0.0.1 - - [08/Oct/2018 15:02:27] \"\u001b[37mOPTIONS /api/v1/tiles/?d=ZZX5x5DrStmGWlxBlC6F7g.3.2.2&d=ZZX5x5DrStmGWlxBlC6F7g.3.2.3&d=ZZX5x5DrStmGWlxBlC6F7g.3.2.4&s=Qrq4rRX9SsmriUcMbCAvpQ HTTP/1.1\u001b[0m\" 200 -\n",
      "127.0.0.1 - - [08/Oct/2018 15:02:27] \"\u001b[37mGET /api/v1/tiles/?d=ZZX5x5DrStmGWlxBlC6F7g.3.2.2&d=ZZX5x5DrStmGWlxBlC6F7g.3.2.3&d=ZZX5x5DrStmGWlxBlC6F7g.3.2.4&s=Qrq4rRX9SsmriUcMbCAvpQ HTTP/1.1\u001b[0m\" 200 -\n",
      "127.0.0.1 - - [08/Oct/2018 15:02:33] \"\u001b[37mOPTIONS /api/v1/tiles/?d=ZZX5x5DrStmGWlxBlC6F7g.2.0.0&d=ZZX5x5DrStmGWlxBlC6F7g.2.0.1&d=ZZX5x5DrStmGWlxBlC6F7g.2.0.2&d=ZZX5x5DrStmGWlxBlC6F7g.2.1.0&d=ZZX5x5DrStmGWlxBlC6F7g.2.1.1&d=ZZX5x5DrStmGWlxBlC6F7g.2.1.2&d=ZZX5x5DrStmGWlxBlC6F7g.2.2.0&d=ZZX5x5DrStmGWlxBlC6F7g.2.2.1&d=ZZX5x5DrStmGWlxBlC6F7g.2.2.2&d=ZZX5x5DrStmGWlxBlC6F7g.2.3.0&d=ZZX5x5DrStmGWlxBlC6F7g.2.3.1&d=ZZX5x5DrStmGWlxBlC6F7g.2.3.2&s=Qrq4rRX9SsmriUcMbCAvpQ HTTP/1.1\u001b[0m\" 200 -\n",
      "127.0.0.1 - - [08/Oct/2018 15:02:33] \"\u001b[37mGET /api/v1/tiles/?d=ZZX5x5DrStmGWlxBlC6F7g.2.0.0&d=ZZX5x5DrStmGWlxBlC6F7g.2.0.1&d=ZZX5x5DrStmGWlxBlC6F7g.2.0.2&d=ZZX5x5DrStmGWlxBlC6F7g.2.1.0&d=ZZX5x5DrStmGWlxBlC6F7g.2.1.1&d=ZZX5x5DrStmGWlxBlC6F7g.2.1.2&d=ZZX5x5DrStmGWlxBlC6F7g.2.2.0&d=ZZX5x5DrStmGWlxBlC6F7g.2.2.1&d=ZZX5x5DrStmGWlxBlC6F7g.2.2.2&d=ZZX5x5DrStmGWlxBlC6F7g.2.3.0&d=ZZX5x5DrStmGWlxBlC6F7g.2.3.1&d=ZZX5x5DrStmGWlxBlC6F7g.2.3.2&s=Qrq4rRX9SsmriUcMbCAvpQ HTTP/1.1\u001b[0m\" 200 -\n",
      "127.0.0.1 - - [08/Oct/2018 15:02:34] \"\u001b[37mOPTIONS /api/v1/tiles/?d=ZZX5x5DrStmGWlxBlC6F7g.1.0.0&d=ZZX5x5DrStmGWlxBlC6F7g.1.0.1&d=ZZX5x5DrStmGWlxBlC6F7g.1.1.0&d=ZZX5x5DrStmGWlxBlC6F7g.1.1.1&s=Qrq4rRX9SsmriUcMbCAvpQ HTTP/1.1\u001b[0m\" 200 -\n",
      "127.0.0.1 - - [08/Oct/2018 15:02:34] \"\u001b[37mGET /api/v1/tiles/?d=ZZX5x5DrStmGWlxBlC6F7g.1.0.0&d=ZZX5x5DrStmGWlxBlC6F7g.1.0.1&d=ZZX5x5DrStmGWlxBlC6F7g.1.1.0&d=ZZX5x5DrStmGWlxBlC6F7g.1.1.1&s=Qrq4rRX9SsmriUcMbCAvpQ HTTP/1.1\u001b[0m\" 200 -\n",
      "127.0.0.1 - - [08/Oct/2018 15:03:08] \"\u001b[37mOPTIONS /api/v1/tileset_info/?d=ZZX5x5DrStmGWlxBlC6F7g&s=Qrq4rRX9SsmriUcMbCAvpQ HTTP/1.1\u001b[0m\" 200 -\n",
      "127.0.0.1 - - [08/Oct/2018 15:03:08] \"\u001b[37mGET /api/v1/tileset_info/?d=ZZX5x5DrStmGWlxBlC6F7g&s=Qrq4rRX9SsmriUcMbCAvpQ HTTP/1.1\u001b[0m\" 200 -\n",
      "127.0.0.1 - - [08/Oct/2018 15:03:09] \"\u001b[37mOPTIONS /api/v1/tiles/?d=ZZX5x5DrStmGWlxBlC6F7g.3.0.0&d=ZZX5x5DrStmGWlxBlC6F7g.1.0.0&d=ZZX5x5DrStmGWlxBlC6F7g.1.0.1&d=ZZX5x5DrStmGWlxBlC6F7g.1.1.0&d=ZZX5x5DrStmGWlxBlC6F7g.1.1.1&s=Qrq4rRX9SsmriUcMbCAvpQ HTTP/1.1\u001b[0m\" 200 -\n",
      "127.0.0.1 - - [08/Oct/2018 15:03:09] \"\u001b[37mGET /api/v1/tiles/?d=ZZX5x5DrStmGWlxBlC6F7g.3.0.0&d=ZZX5x5DrStmGWlxBlC6F7g.1.0.0&d=ZZX5x5DrStmGWlxBlC6F7g.1.0.1&d=ZZX5x5DrStmGWlxBlC6F7g.1.1.0&d=ZZX5x5DrStmGWlxBlC6F7g.1.1.1&s=Qrq4rRX9SsmriUcMbCAvpQ HTTP/1.1\u001b[0m\" 200 -\n"
     ]
    }
   ],
   "source": [
    "import functools as ft\n",
    "import hgtiles.npmatrix as hgnp\n",
    "\n",
    "import hgflask.server as hgse\n",
    "import hgflask.tilesets as hfti\n",
    "\n",
    "ts = hfti.Tileset(\n",
    "    tileset_info=lambda: hgnp.tileset_info(data),\n",
    "    tiles=lambda tids: hgnp.tiles_wrapper(data, tids)\n",
    ")\n",
    "\n",
    "server = hgse.start([ts])"
   ]
  },
  {
   "cell_type": "code",
   "execution_count": 32,
   "metadata": {},
   "outputs": [
    {
     "data": {
      "application/vnd.jupyter.widget-view+json": {
       "model_id": "48c45aed3f7d49a8ae6c5968d0124d1c",
       "version_major": 2,
       "version_minor": 0
      },
      "text/plain": [
       "A Jupyter Widget"
      ]
     },
     "metadata": {},
     "output_type": "display_data"
    }
   ],
   "source": [
    "import higlass_jupyter as hiju\n",
    "import hgflask.client as hgc\n",
    "\n",
    "conf = hgc.ViewConf([\n",
    "    hgc.View([\n",
    "        hgc.Track(track_type='top-axis', position='top'), \n",
    "        hgc.Track(track_type='left-axis', position='left'),\n",
    "        hgc.Track(track_type='heatmap', position='center',\n",
    "                 tileset_uuid=ts.uuid, \n",
    "                  api_url=server.api_address,\n",
    "                  height=100,\n",
    "                 options={ 'valueScaleMax': 0.5 }),\n",
    "\n",
    "    ])\n",
    "])\n",
    "\n",
    "hiju.HiGlassDisplay(viewconf=conf.to_json())"
   ]
  },
  {
   "cell_type": "markdown",
   "metadata": {},
   "source": [
    "## Many Points"
   ]
  },
  {
   "cell_type": "code",
   "execution_count": 36,
   "metadata": {},
   "outputs": [
    {
     "name": "stdout",
     "output_type": "stream",
     "text": [
      "terminating: dCJPQxjQQ924g_8tEaORiQ\n"
     ]
    },
    {
     "name": "stderr",
     "output_type": "stream",
     "text": [
      " * Running on http://0.0.0.0:57183/ (Press CTRL+C to quit)\n"
     ]
    },
    {
     "name": "stdout",
     "output_type": "stream",
     "text": [
      "sleeping\n"
     ]
    },
    {
     "name": "stderr",
     "output_type": "stream",
     "text": [
      "127.0.0.1 - - [08/Oct/2018 15:09:11] \"\u001b[37mGET /api/v1/tileset_info/?d=a HTTP/1.1\u001b[0m\" 200 -\n"
     ]
    },
    {
     "name": "stdout",
     "output_type": "stream",
     "text": [
      "ret: 200 b'{\\n  \"a\": {\\n    \"error\": \"No such tileset with uid: a\"\\n  }\\n}\\n'\n",
      "returning\n"
     ]
    },
    {
     "name": "stderr",
     "output_type": "stream",
     "text": [
      "127.0.0.1 - - [08/Oct/2018 15:14:41] \"\u001b[37mOPTIONS /api/v1/tileset_info/?d=Wv1tyZr3RkG6OZ8Ts_R7qQ&s=Qrq4rRX9SsmriUcMbCAvpQ HTTP/1.1\u001b[0m\" 200 -\n",
      "127.0.0.1 - - [08/Oct/2018 15:14:41] \"\u001b[37mGET /api/v1/tileset_info/?d=Wv1tyZr3RkG6OZ8Ts_R7qQ&s=Qrq4rRX9SsmriUcMbCAvpQ HTTP/1.1\u001b[0m\" 200 -\n",
      "127.0.0.1 - - [08/Oct/2018 15:14:41] \"\u001b[37mOPTIONS /api/v1/tiles/?d=Wv1tyZr3RkG6OZ8Ts_R7qQ.2.0.1&d=Wv1tyZr3RkG6OZ8Ts_R7qQ.2.0.2&d=Wv1tyZr3RkG6OZ8Ts_R7qQ.2.1.1&d=Wv1tyZr3RkG6OZ8Ts_R7qQ.2.1.2&d=Wv1tyZr3RkG6OZ8Ts_R7qQ.2.2.1&d=Wv1tyZr3RkG6OZ8Ts_R7qQ.2.2.2&d=Wv1tyZr3RkG6OZ8Ts_R7qQ.2.3.1&d=Wv1tyZr3RkG6OZ8Ts_R7qQ.2.3.2&s=Qrq4rRX9SsmriUcMbCAvpQ HTTP/1.1\u001b[0m\" 200 -\n",
      "127.0.0.1 - - [08/Oct/2018 15:14:42] \"\u001b[37mGET /api/v1/tiles/?d=Wv1tyZr3RkG6OZ8Ts_R7qQ.2.0.1&d=Wv1tyZr3RkG6OZ8Ts_R7qQ.2.0.2&d=Wv1tyZr3RkG6OZ8Ts_R7qQ.2.1.1&d=Wv1tyZr3RkG6OZ8Ts_R7qQ.2.1.2&d=Wv1tyZr3RkG6OZ8Ts_R7qQ.2.2.1&d=Wv1tyZr3RkG6OZ8Ts_R7qQ.2.2.2&d=Wv1tyZr3RkG6OZ8Ts_R7qQ.2.3.1&d=Wv1tyZr3RkG6OZ8Ts_R7qQ.2.3.2&s=Qrq4rRX9SsmriUcMbCAvpQ HTTP/1.1\u001b[0m\" 200 -\n"
     ]
    }
   ],
   "source": [
    "import hgtiles.points as hgpo\n",
    "import hgtiles.utils as hgut\n",
    "\n",
    "import hgflask.server as hfse\n",
    "import hgflask.tilesets as hfti\n",
    "\n",
    "import numpy as np\n",
    "import pandas as pd\n",
    "\n",
    "length = int(1e6)\n",
    "df = pd.DataFrame({\n",
    "    'x': np.random.random((length,)),\n",
    "    'y': np.random.random((length,)),\n",
    "    'v': range(1, length+1),\n",
    "})\n",
    "\n",
    "# get the tileset info (bounds and such) of the dataset\n",
    "tsinfo = hgpo.tileset_info(df, 'x', 'y')\n",
    "\n",
    "ts = hfti.Tileset(\n",
    "    tileset_info=lambda: tsinfo,\n",
    "    tiles=lambda tile_ids: hgpo.format_data(\n",
    "                hgut.bundled_tiles_wrapper_2d(tile_ids,\n",
    "                    lambda z,x,y,width=1,height=1: hgpo.tiles(df, 'x', 'y',\n",
    "                        tsinfo, z, x, y, width, height))))\n",
    "\n",
    "# start the server\n",
    "server = hfse.start([ts])"
   ]
  },
  {
   "cell_type": "code",
   "execution_count": 39,
   "metadata": {},
   "outputs": [
    {
     "data": {
      "application/javascript": [
       "\n",
       "require([\"https://unpkg.com/higlass-labelled-points-track@0.1.7/dist/higlass-labelled-points-track\"],\n",
       "    function(hglib) {\n",
       "\n",
       "});"
      ],
      "text/plain": [
       "<IPython.core.display.Javascript object>"
      ]
     },
     "metadata": {},
     "output_type": "display_data"
    }
   ],
   "source": [
    "%%javascript\n",
    "\n",
    "require([\"https://unpkg.com/higlass-labelled-points-track@0.1.7/dist/higlass-labelled-points-track\"],\n",
    "    function(hglib) {\n",
    "\n",
    "});"
   ]
  },
  {
   "cell_type": "code",
   "execution_count": 41,
   "metadata": {},
   "outputs": [
    {
     "data": {
      "application/vnd.jupyter.widget-view+json": {
       "model_id": "2cbc60e3479c40639adad0408b5a8085",
       "version_major": 2,
       "version_minor": 0
      },
      "text/plain": [
       "A Jupyter Widget"
      ]
     },
     "metadata": {},
     "output_type": "display_data"
    }
   ],
   "source": [
    "import hgflask.client as hfc\n",
    "import higlass_jupyter as hiju\n",
    "\n",
    "hgc = hfc.ViewConf([\n",
    "    hfc.View([\n",
    "        hfc.Track(\n",
    "            track_type='labelled-points-track',\n",
    "            position='center',\n",
    "            tileset_uuid=ts.uuid,\n",
    "            api_url=server.api_address,\n",
    "            height=200,\n",
    "            options={\n",
    "                'labelField': 'v'\n",
    "            })\n",
    "    ])\n",
    "])\n",
    "\n",
    "hiju.HiGlassDisplay(viewconf=hgc.to_json())"
   ]
  },
  {
   "cell_type": "code",
   "execution_count": null,
   "metadata": {
    "collapsed": true
   },
   "outputs": [],
   "source": []
  }
 ],
 "metadata": {
  "kernelspec": {
   "display_name": "Python 3",
   "language": "python",
   "name": "python3"
  },
  "language_info": {
   "codemirror_mode": {
    "name": "ipython",
    "version": 3
   },
   "file_extension": ".py",
   "mimetype": "text/x-python",
   "name": "python",
   "nbconvert_exporter": "python",
   "pygments_lexer": "ipython3",
   "version": "3.6.1"
  }
 },
 "nbformat": 4,
 "nbformat_minor": 2
}
